{
 "cells": [
  {
   "cell_type": "code",
   "execution_count": null,
   "id": "65017ad7",
   "metadata": {},
   "outputs": [],
   "source": [
    "import json \n",
    "import matplotlib\n",
    "from matplotlib import pyplot as plt\n",
    "import pickle\n",
    "import pandas as pd\n",
    "import numpy as np \n",
    "import sklearn \n",
    "import statistics\n",
    "import seaborn as sns\n",
    "%matplotlib inline\n",
    "from copy import deepcopy"
   ]
  },
  {
   "cell_type": "code",
   "execution_count": null,
   "id": "f72a2b17",
   "metadata": {},
   "outputs": [],
   "source": [
    "from numpy import *\n",
    "from matplotlib.pyplot import *\n",
    "\n",
    "rcParams['mathtext.fontset'] = 'custom'\n",
    "rcParams['mathtext.it'] = 'DejaVu Sans:italic'\n",
    "rcParams['mathtext.bf'] = 'DejaVu Sans:italic:bold'\n"
   ]
  },
  {
   "cell_type": "code",
   "execution_count": null,
   "id": "ac7d5558",
   "metadata": {},
   "outputs": [],
   "source": [
    "mresults_path = f'../predicted-results/mixed5050/skewed'\n",
    "eresults_path = f'../predicted-results/everything/skewed'\n",
    "\n",
    "mmodels_path = f'../models/mixed5050/skewed'\n",
    "emodels_path = f'../models/everything/skewed'"
   ]
  },
  {
   "cell_type": "code",
   "execution_count": null,
   "id": "ac0f7fa2",
   "metadata": {},
   "outputs": [],
   "source": [
    "predicted_paths = {'5050': mresults_path, \n",
    "                   'everything': eresults_path}\n",
    "\n",
    "tsets = ['5050', '2575', 'everything']\n",
    "train_datas = ['5050', 'everything']\n",
    "targets = ['COF', 'intercept']\n",
    "sections = ['top', 'bot', 'extrema']"
   ]
  },
  {
   "cell_type": "code",
   "execution_count": null,
   "id": "531961d9",
   "metadata": {},
   "outputs": [],
   "source": [
    "combined_test = pd.read_csv('../../data/splitted-data/everything/nbins-10/test_set.csv', index_col=0)\n",
    "m2575_test = pd.read_csv('../../data/splitted-data/mixed2575/nbins-10/test_set.csv', index_col=0)\n",
    "m5050_test = pd.read_csv('../../data/splitted-data/mixed5050/nbins-10/test_set.csv', index_col=0)"
   ]
  },
  {
   "cell_type": "code",
   "execution_count": null,
   "id": "9cfb524a",
   "metadata": {},
   "outputs": [],
   "source": [
    "doi = dict()\n",
    "classification = {'5050': 'M1000',\n",
    "                  'everything': 'E1000'}\n",
    "for train_set in train_datas:\n",
    "    doi[train_set] = dict()\n",
    "    for tset in tsets:\n",
    "        doi[train_set][tset] = dict()\n",
    "        for section in sections:\n",
    "            doi[train_set][tset][section] = dict()\n",
    "            for target in targets:\n",
    "                with open(f'{predicted_paths[train_set]}/{section}_1000_{target}_on_{tset}.json') as f:\n",
    "                    data = json.load(f)\n",
    "                doi[train_set][tset][section][target] = pd.DataFrame.from_dict(data[target]).transpose().drop('r_square').rename(columns={\n",
    "                                                                                                                                          'tg-1': 'terminal_group_1',\n",
    "                                                                                                                                          'tg-2': 'terminal_group_2',\n",
    "                                                                                                                                          'tg-3': 'terminal_group_3'})\n",
    "                doi[train_set][tset][section][target].insert(0, 'set', classification[train_set]+section)\n",
    "                doi[train_set][tset][section][target].insert(0, 'mode', 'Predicted')\n",
    "                doi[train_set][tset][section][target][target] = doi[train_set][tset][section][target][f'predicted-{target}'].astype('float64')\n",
    "                \n",
    "        doi[train_set][tset]['test'] = deepcopy(combined_test)\n",
    "        doi[train_set][tset]['test'].insert(0, 'set', 'Test')\n",
    "        doi[train_set][tset]['test'].insert(0, 'mode', 'Simulated')\n",
    "        doi[train_set][tset]['normal'] = dict()\n",
    "        for target in targets: \n",
    "            with open(f'../predicted-results/everything/nbins-10/set_0/{target}_1000_on_{tset}.json') as f: \n",
    "                data = json.load(f) \n",
    "            doi[train_set][tset]['normal'][target] = pd.DataFrame.from_dict(data[target]).transpose().drop('r_square').rename(columns={'tg-1': 'terminal_group_1',\n",
    "                                                                                                                                       'tg-2': 'terminal_group_2',\n",
    "                                                                                                                                       'tg-3': 'terminal_group_3'})\n",
    "            doi[train_set][tset]['normal'][target][target] = doi[train_set][tset]['normal'][target][f'predicted-{target}'].astype('float64')\n",
    "\n",
    "            doi[train_set][tset]['normal'][target].insert(0, 'set', 'Normal')\n",
    "            doi[train_set][tset]['normal'][target].insert(0, 'mode', 'Predicted')\n",
    "                    "
   ]
  },
  {
   "cell_type": "code",
   "execution_count": null,
   "id": "161e5c12",
   "metadata": {},
   "outputs": [],
   "source": [
    "COF_df = pd.concat([\n",
    "                    doi['everything']['everything']['test'], \n",
    "                    doi['everything']['everything']['normal']['COF'],\n",
    "                    doi['everything']['everything']['extrema']['COF'],                   \n",
    "                    doi['everything']['everything']['bot']['COF'],\n",
    "                    doi['everything']['everything']['top']['COF'],\n",
    "\n",
    "                   ],\n",
    "                    ignore_index=True)\n",
    "F0_df = pd.concat([\n",
    "                    doi['everything']['everything']['test'],\n",
    "                    doi['everything']['everything']['normal']['intercept'],\n",
    "                    doi['everything']['everything']['extrema']['intercept'],\n",
    "                    doi['everything']['everything']['bot']['intercept'],\n",
    "                    doi['everything']['everything']['top']['intercept'],\n",
    "\n",
    "                    ],\n",
    "                    ignore_index=True)"
   ]
  },
  {
   "cell_type": "code",
   "execution_count": null,
   "id": "4f7d93c9",
   "metadata": {},
   "outputs": [],
   "source": [
    "set(COF_df['set'])\n",
    "set(COF_df['mode'])"
   ]
  },
  {
   "cell_type": "code",
   "execution_count": null,
   "id": "df63a4a6",
   "metadata": {},
   "outputs": [],
   "source": [
    "plt.figure(figsize=(20, 16))\n",
    "plt.subplot(2, 2, 1)\n",
    "sns.violinplot(x='COF', y='set', data=COF_df, color=\"0.8\", hue='mode', scale='area',\n",
    "               split=False, palette='muted', inner=\"quart\")\n",
    "plt.ylabel('Relative Frequency')\n",
    "plt.xlabel('COF')\n",
    "#plt.xticks([], color='None')\n",
    "plt.yticks([], color='None')\n",
    "plt.legend(loc=4, prop={'size': 25})\n",
    "\n",
    "plt.subplot(2, 2, 2)\n",
    "sns.violinplot(x='intercept', y='set', data=F0_df, color=\"0.8\", hue='mode', scale='area',\n",
    "               split=False, palette='muted', inner=\"quart\")\n",
    "plt.ylabel('Relative Frequency')\n",
    "plt.xlabel(r'$\\mathbf{F_0}$, nN')\n",
    "#plt.xticks([], color='None')\n",
    "plt.yticks([], color='None')\n",
    "plt.legend(loc=4, prop={'size': 24})\n",
    "plt.savefig('plots/violin/skewed_models.pdf', dpi=500, bbox_inches='tight')"
   ]
  },
  {
   "cell_type": "code",
   "execution_count": null,
   "id": "f5764689",
   "metadata": {},
   "outputs": [],
   "source": [
    "plt.figure(figsize=(20, 12))\n",
    "plt.subplot(2, 2, 1)\n",
    "sns.violinplot(x='set', y='COF', data=COF_df, color=\"0.8\", hue='mode', scale='area', bw='scott',\n",
    "               split=False, palette='muted', inner=\"quart\")\n",
    "plt.xlabel('Relative Frequency')\n",
    "plt.ylabel('COF')\n",
    "plt.xticks([], color='None')\n",
    "#plt.yticks([], color='None')\n",
    "plt.legend(loc=4)\n",
    "\n",
    "plt.subplot(2, 2, 2)\n",
    "sns.violinplot(x='set', y='intercept', data=F0_df, color=\"0.8\", hue='mode', scale='area', bw='scott',\n",
    "               split=False, palette='muted', inner=\"quart\")\n",
    "plt.xlabel('Relative Frequency')\n",
    "plt.ylabel(r'$\\mathbf{F_0}$, nN')\n",
    "plt.xticks([], color='None')\n",
    "#plt.yticks([], color='None')\n",
    "plt.legend(loc=4)"
   ]
  },
  {
   "cell_type": "code",
   "execution_count": null,
   "id": "b3f14fb3",
   "metadata": {},
   "outputs": [],
   "source": []
  }
 ],
 "metadata": {
  "kernelspec": {
   "display_name": "Python 3 (ipykernel)",
   "language": "python",
   "name": "python3"
  },
  "language_info": {
   "codemirror_mode": {
    "name": "ipython",
    "version": 3
   },
   "file_extension": ".py",
   "mimetype": "text/x-python",
   "name": "python",
   "nbconvert_exporter": "python",
   "pygments_lexer": "ipython3",
   "version": "3.9.6"
  }
 },
 "nbformat": 4,
 "nbformat_minor": 5
}
