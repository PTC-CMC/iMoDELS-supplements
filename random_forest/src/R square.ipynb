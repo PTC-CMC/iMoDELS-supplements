{
 "cells": [
  {
   "cell_type": "code",
   "execution_count": 23,
   "metadata": {},
   "outputs": [],
   "source": [
    "import json\n",
    "import matplotlib\n",
    "from matplotlib import pyplot as plt\n",
    "import pickle\n",
    "import sklearn\n",
    "import numpy as np\n",
    "from matplotlib.patches import Patch\n",
    "from matplotlib.lines import Line2D\n",
    "%matplotlib inline"
   ]
  },
  {
   "cell_type": "markdown",
   "metadata": {},
   "source": [
    "# Binned Data"
   ]
  },
  {
   "cell_type": "code",
   "execution_count": 30,
   "metadata": {},
   "outputs": [],
   "source": [
    "filtered_everything = pd.read_csv('../../data/raw-data/filtered_everything.csv', index_col=0)\n"
   ]
  },
  {
   "cell_type": "code",
   "execution_count": 35,
   "metadata": {
    "scrolled": true
   },
   "outputs": [
    {
     "name": "stdout",
     "output_type": "stream",
     "text": [
      "COF: (0.0737549238333333 - 0.1966532063)\n",
      "intercept: (0.0074703459 - 7.94156210692)\n"
     ]
    }
   ],
   "source": [
    "print(f'COF: ({filtered_everything[\"COF\"].min()} - {filtered_everything[\"COF\"].max()})')\n",
    "print(f'intercept: ({filtered_everything[\"intercept\"].min()} - {filtered_everything[\"intercept\"].max()})')"
   ]
  },
  {
   "cell_type": "code",
   "execution_count": 2,
   "metadata": {},
   "outputs": [],
   "source": [
    "oresults_path = '../predicted-results/original/nbins-10'\n",
    "mresults_path = '../predicted-results/mixed5050/nbins-10'\n",
    "eresults_path = '../predicted-results/everything/nbins-10'\n",
    "\n",
    "omodels_path = '../models/original'\n",
    "mmodels_path = '../models/mixed5050/nbins-10'\n",
    "emodels_path = '../models/everything/nbins-10'\n",
    "\n",
    "test_sets = ['5050', '2575', 'everything']\n",
    "\n",
    "mpoints = [100, 200, 300, 500, 1000, 1500, 2000, 2500, 'all']\n",
    "epoints = [100, 200, 300, 500, 1000, 1500, 2000, 2500, 4000, 6000, 'all']\n",
    "\n"
   ]
  },
  {
   "cell_type": "code",
   "execution_count": 3,
   "metadata": {},
   "outputs": [],
   "source": [
    "with open(f'{emodels_path}/set_1/COF_all.pickle', 'rb') as cof:\n",
    "    mmodel_cof = pickle.load(cof)\n",
    "\n",
    "with open(f'{emodels_path}/set_1/intercept_all.pickle', 'rb') as f0:\n",
    "    mmodel_f0 = pickle.load(f0)"
   ]
  },
  {
   "cell_type": "code",
   "execution_count": 4,
   "metadata": {
    "scrolled": true
   },
   "outputs": [
    {
     "name": "stdout",
     "output_type": "stream",
     "text": [
      "7816\n",
      "7816\n"
     ]
    }
   ],
   "source": [
    "print(len(mmodel_cof.oob_prediction_))\n",
    "print(len(mmodel_f0.oob_prediction_))"
   ]
  },
  {
   "cell_type": "code",
   "execution_count": 5,
   "metadata": {
    "scrolled": true
   },
   "outputs": [],
   "source": [
    "results = {'5050': {'COF': dict(),\n",
    "                    'intercept': dict()},\n",
    "           '2575': {'COF': dict(),\n",
    "                    'intercept': dict()},\n",
    "           'everything': {'COF': dict(),\n",
    "                          'intercept': dict()}}\n",
    "# First deal with the original models \n",
    "for tset in results:\n",
    "    for target in ['COF', 'intercept']:\n",
    "        with open(f'{omodels_path}/{target}.pickle', 'rb') as f:\n",
    "            model = pickle.load(f)\n",
    "        with open(f'{omodels_path}/{target}.ptxt', 'rb') as f:\n",
    "            features = pickle.load(f)\n",
    "        with open(f'{oresults_path}/{target}_on_{tset}.json', 'r') as f:\n",
    "            data = json.load(f)\n",
    "        results[tset][target]['original'] = {\n",
    "#             'model': model,\n",
    "#             'features': features,\n",
    "#             'data': data,\n",
    "              'n_train': len(model.oob_prediction_),\n",
    "              'r_square': data[target]['r_square']\n",
    "        }\n",
    "\n",
    "# Then deal with the 5050 mixed models \n",
    "for tset in results:\n",
    "    for i in range(5):\n",
    "        for point in mpoints:\n",
    "            for target in ['COF', 'intercept']:\n",
    "                with open(f'{mmodels_path}/set_{i}/{target}_{point}.pickle', 'rb') as f:\n",
    "                    model = pickle.load(f)\n",
    "                with open(f'{mmodels_path}/set_{i}/{target}_{point}.ptxt', 'rb') as f:\n",
    "                    features = pickle.load(f)\n",
    "                with open(f'{mresults_path}/set_{i}/{target}_{point}_on_{tset}.json', 'r') as f :\n",
    "                    data = json.load(f)\n",
    "                if i == 0:\n",
    "                    results[tset][target][f'5050_{point}'] = {\n",
    "    #                 'model': model,\n",
    "    #                 'features': features,\n",
    "    #                 'data': data,\n",
    "                      'n_train': len(model.oob_prediction_),\n",
    "                      'r_square': [data[target]['r_square']]}\n",
    "                else:\n",
    "                    results[tset][target][f'5050_{point}']['r_square'].append(data[target]['r_square'])\n",
    "# Lastly deal with the everything models\n",
    "for tset in results:\n",
    "    for i in range(5):\n",
    "        for point in epoints:\n",
    "            for target in ['COF', 'intercept']:\n",
    "                with open(f'{emodels_path}/set_{i}/{target}_{point}.pickle', 'rb') as f:\n",
    "                    model = pickle.load(f)\n",
    "                with open(f'{emodels_path}/set_{i}/{target}_{point}.ptxt', 'rb') as f:\n",
    "                    features = pickle.load(f)\n",
    "                with open(f'{eresults_path}/set_{i}/{target}_{point}_on_{tset}.json', 'r') as f :\n",
    "                    data = json.load(f)\n",
    "                if i == 0:\n",
    "                    results[tset][target][f'everything_{point}'] = {\n",
    "    #                 'model': model,\n",
    "    #                 'features': features,\n",
    "    #                 'data': data,\n",
    "                      'n_train': len(model.oob_prediction_),\n",
    "                      'r_square': [data[target]['r_square']]}\n",
    "                else:\n",
    "                    results[tset][target][f'everything_{point}']['r_square'].append(data[target]['r_square'])\n"
   ]
  },
  {
   "cell_type": "code",
   "execution_count": 6,
   "metadata": {},
   "outputs": [],
   "source": [
    "for tset in results:\n",
    "    for target in ['COF', 'intercept']:\n",
    "        for point in mpoints:\n",
    "            # doi: dict of interest\n",
    "            doi = results[tset][target][f'5050_{point}']\n",
    "            doi['r_square_avg'] = np.average(doi['r_square'])\n",
    "            doi['r_square_std'] = np.std(doi['r_square'])\n",
    "\n",
    "        for point in epoints:\n",
    "            doi = results[tset][target][f'everything_{point}']\n",
    "            doi['r_square_avg'] = np.average(doi['r_square'])\n",
    "            doi['r_square_std'] = np.std(doi['r_square'])\n",
    "            "
   ]
  },
  {
   "cell_type": "markdown",
   "metadata": {},
   "source": [
    "## Combination R<sup>2</sup> Plots"
   ]
  },
  {
   "cell_type": "code",
   "execution_count": 7,
   "metadata": {},
   "outputs": [
    {
     "data": {
      "image/png": "[encoded data removed]",
      "text/plain": [
       "<Figure size 648x432 with 1 Axes>"
      ]
     },
     "metadata": {
      "needs_background": "light"
     },
     "output_type": "display_data"
    },
    {
     "data": {
      "image/png": "[encoded data removed]",
      "text/plain": [
       "<Figure size 648x432 with 1 Axes>"
      ]
     },
     "metadata": {
      "needs_background": "light"
     },
     "output_type": "display_data"
    },
    {
     "data": {
      "image/png": "[encoded data removed]",
      "text/plain": [
       "<Figure size 648x432 with 1 Axes>"
      ]
     },
     "metadata": {
      "needs_background": "light"
     },
     "output_type": "display_data"
    }
   ],
   "source": [
    "for tset in test_sets:\n",
    "    to_plot = {'COF': {'n_train': list(),\n",
    "                       'r_square_avg': list(),\n",
    "                       'r_square_std': list()},\n",
    "               'intercept': {'n_train': list(),\n",
    "                             'r_square_avg': list(),\n",
    "                             'r_square_std': list()}}\n",
    "    for target in ['COF', 'intercept']:\n",
    "        for model, data in results[tset][target].items():\n",
    "            #print(data)\n",
    "            try:\n",
    "                to_plot[target]['r_square_avg'].append(data['r_square_avg'])\n",
    "                to_plot[target]['r_square_std'].append(data['r_square_std'])\n",
    "                to_plot[target]['n_train'].append(data['n_train'])\n",
    "\n",
    "            except KeyError:\n",
    "                to_plot[target]['n_train'].append(data['n_train'])\n",
    "                to_plot[target]['r_square_avg'].append(data['r_square'])\n",
    "                to_plot[target]['r_square_std'].append(0)\n",
    "                \n",
    "    #print(to_plot)\n",
    "    #plt.title('Effect of Training Set Size', fontsize=20, fontweight='bold')\n",
    "    plt.figure(figsize=[9, 6])\n",
    "    plt.xlabel('Size of Training Set')\n",
    "    plt.ylabel('r$^2$', fontweight='bold')\n",
    "    plt.xlim(0, 9000)\n",
    "    plt.ylim(0, 1)\n",
    "    plt.errorbar(x=to_plot['COF']['n_train'],\n",
    "                 y=to_plot['COF']['r_square_avg'],\n",
    "                 yerr=to_plot['COF']['r_square_std'],\n",
    "                 color='black',\n",
    "                 fmt='.',\n",
    "                 elinewidth=1)\n",
    "    plt.errorbar(x=to_plot['intercept']['n_train'],\n",
    "                 y=to_plot['intercept']['r_square_avg'],\n",
    "                 yerr=to_plot['intercept']['r_square_std'],\n",
    "                 fmt='.',\n",
    "                 elinewidth=1)\n",
    "    plt.legend(['COF', 'F$_0$'], loc=4)"
   ]
  },
  {
   "cell_type": "markdown",
   "metadata": {},
   "source": [
    "## Refined R<sup>2</sup> plot\n",
    "### Mixed 5050 models on 5050 test set"
   ]
  },
  {
   "cell_type": "code",
   "execution_count": 8,
   "metadata": {},
   "outputs": [],
   "source": [
    "from numpy import *\n",
    "from matplotlib.pyplot import *"
   ]
  },
  {
   "cell_type": "code",
   "execution_count": 9,
   "metadata": {},
   "outputs": [],
   "source": [
    "rcParams['mathtext.fontset'] = 'custom'\n",
    "rcParams['mathtext.it'] = 'DejaVu Sans:italic'\n",
    "rcParams['mathtext.bf'] = 'DejaVu Sans:italic:bold'\n"
   ]
  },
  {
   "cell_type": "code",
   "execution_count": 10,
   "metadata": {},
   "outputs": [],
   "source": [
    "markersize=6\n",
    "COF_color = 'dodgerblue'\n",
    "F0_color = 'firebrick'"
   ]
  },
  {
   "cell_type": "code",
   "execution_count": 24,
   "metadata": {
    "scrolled": false
   },
   "outputs": [
    {
     "data": {
      "image/png": "[encoded data removed]",
      "text/plain": [
       "<Figure size 648x432 with 1 Axes>"
      ]
     },
     "metadata": {
      "needs_background": "light"
     },
     "output_type": "display_data"
    }
   ],
   "source": [
    "to_plot_on_5050 = {'COF': {'n_train': list(),\n",
    "                           'r_square_avg': list(),\n",
    "                           'r_square_std': list(),\n",
    "                           'base': None},\n",
    "                   'intercept': {'n_train': list(),\n",
    "                                 'r_square_avg': list(),\n",
    "                                 'r_square_std': list(),\n",
    "                                 'base': None}}\n",
    "for target in ['COF', 'intercept']:\n",
    "    for model, data in results['5050'][target].items():\n",
    "        if '5050' in model:\n",
    "            to_plot_on_5050[target]['r_square_avg'].append(data['r_square_avg'])\n",
    "            to_plot_on_5050[target]['r_square_std'].append(data['r_square_std'])\n",
    "            to_plot_on_5050[target]['n_train'].append(data['n_train'])\n",
    "        elif 'original' in model: \n",
    "            to_plot_on_5050[target]['base'] = data['r_square']\n",
    "                \n",
    "plt.figure(figsize=(9, 6))\n",
    "\n",
    "#plt.title('Effect of Training Set Size', fontsize=20)\n",
    "plt.xlabel('N', style='italic')\n",
    "plt.ylabel(r'$\\mathbf{R^2}$')\n",
    "plt.xlim(0, 3000)\n",
    "plt.ylim(0, 1)\n",
    "# plt.errorbar(x=to_plot_on_5050['COF']['n_train'],\n",
    "#             y=to_plot_on_5050['COF']['r_square_avg'],\n",
    "#             yerr=to_plot_on_5050['COF']['r_square_std'],\n",
    "#             color='black',\n",
    "#             fmt='.',\n",
    "#             elinewidth=1)\n",
    "plt.errorbar(x=to_plot_on_5050['COF']['n_train'],\n",
    "            y=to_plot_on_5050['COF']['r_square_avg'],\n",
    "            yerr=to_plot_on_5050['COF']['r_square_std'],\n",
    "            color=COF_color,\n",
    "            fmt='o',\n",
    "            markersize=markersize,\n",
    "            elinewidth=1)\n",
    "plt.axhline(y=to_plot_on_5050['COF']['base'], linestyle='--', linewidth=1, color=COF_color)\n",
    "\n",
    "# plt.errorbar(x=to_plot_on_5050['intercept']['n_train'],\n",
    "#             y=to_plot_on_5050['intercept']['r_square_avg'],\n",
    "#             yerr=to_plot_on_5050['intercept']['r_square_std'],\n",
    "#             fmt='.',\n",
    "#             elinewidth=1)\n",
    "plt.errorbar(x=to_plot_on_5050['intercept']['n_train'],\n",
    "            y=to_plot_on_5050['intercept']['r_square_avg'],\n",
    "            yerr=to_plot_on_5050['intercept']['r_square_std'],\n",
    "            color=F0_color,\n",
    "            fmt='s',\n",
    "            markersize=markersize,\n",
    "            elinewidth=1)\n",
    "plt.axhline(y=to_plot_on_5050['intercept']['base'], linestyle='--', linewidth=1, color=F0_color)\n",
    "\n",
    "# legend_elements = [Line2D([0], [0], marker='o', color='black', linestyle='', label='COF'),\n",
    "#                    Line2D([0], [0], marker='o', color='steelblue', linestyle='', label='F$_0$')]\n",
    "legend_elements = [Line2D([0], [0], marker='o', color=COF_color, linestyle='', label='COF'),\n",
    "                   Line2D([0], [0], marker='s', color=F0_color, linestyle='', label=r'$\\mathit{F_0}$')]\n",
    "plt.legend(handles=legend_elements, loc=4)\n",
    "plt.savefig(fname='./plots/r2vsN/5050_on_5050.pdf', dpi=500)\n",
    "\n",
    "# print('COF')\n",
    "# print(f'n: {to_plot_on_5050[\"COF\"][\"n_train\"]}')\n",
    "# print(f'r2: {to_plot_on_5050[\"COF\"][\"r_square_avg\"]}')\n",
    "# print(f'yerr: {to_plot_on_5050[\"COF\"][\"r_square_std\"]}')\n",
    "\n",
    "# print('F0')\n",
    "# print(f'n: {to_plot_on_5050[\"intercept\"][\"n_train\"]}')\n",
    "# print(f'r2: {to_plot_on_5050[\"intercept\"][\"r_square_avg\"]}')\n",
    "# print(f'yerr: {to_plot_on_5050[\"intercept\"][\"r_square_std\"]}')\n",
    "     "
   ]
  },
  {
   "cell_type": "markdown",
   "metadata": {},
   "source": [
    "# Refined R<sup>2</sup> plot \n",
    "### Everything models on 5050 test set"
   ]
  },
  {
   "cell_type": "code",
   "execution_count": 25,
   "metadata": {},
   "outputs": [
    {
     "data": {
      "image/png": "[encoded data removed]",
      "text/plain": [
       "<Figure size 648x432 with 1 Axes>"
      ]
     },
     "metadata": {
      "needs_background": "light"
     },
     "output_type": "display_data"
    }
   ],
   "source": [
    "to_plot_on_5050 = {'COF': {'n_train': list(),\n",
    "                           'r_square_avg': list(),\n",
    "                           'r_square_std': list(),\n",
    "                           'base': None},\n",
    "                   'intercept': {'n_train': list(),\n",
    "                                 'r_square_avg': list(),\n",
    "                                 'r_square_std': list(),\n",
    "                                 'base': None}}\n",
    "for target in ['COF', 'intercept']:\n",
    "    for model, data in results['5050'][target].items():\n",
    "        if 'everything' in model:\n",
    "            to_plot_on_5050[target]['r_square_avg'].append(data['r_square_avg'])\n",
    "            to_plot_on_5050[target]['r_square_std'].append(data['r_square_std'])\n",
    "            to_plot_on_5050[target]['n_train'].append(data['n_train'])\n",
    "        elif 'original' in model: \n",
    "            to_plot_on_5050[target]['base'] = data['r_square']\n",
    "                \n",
    "plt.figure(figsize=(9, 6))\n",
    "\n",
    "#plt.title('Effect of Training Set Size', fontsize=20)\n",
    "plt.xlabel('N', style='italic')\n",
    "plt.ylabel(r'$\\mathbf{R^2}$')\n",
    "plt.xlim(0, 8500)\n",
    "plt.ylim(0, 1)\n",
    "plt.errorbar(x=to_plot_on_5050['COF']['n_train'],\n",
    "            y=to_plot_on_5050['COF']['r_square_avg'],\n",
    "            yerr=to_plot_on_5050['COF']['r_square_std'],\n",
    "            color=COF_color,\n",
    "            fmt='o',\n",
    "            markersize=markersize,\n",
    "            elinewidth=1)\n",
    "plt.axhline(y=to_plot_on_5050['COF']['base'], linestyle='--', linewidth=1, color=COF_color)\n",
    "\n",
    "plt.errorbar(x=to_plot_on_5050['intercept']['n_train'],\n",
    "            y=to_plot_on_5050['intercept']['r_square_avg'],\n",
    "            yerr=to_plot_on_5050['intercept']['r_square_std'],\n",
    "            color=F0_color,\n",
    "            fmt='s',\n",
    "            markersize=markersize,\n",
    "            elinewidth=1)\n",
    "plt.axhline(y=to_plot_on_5050['intercept']['base'], linestyle='--', linewidth=1, color=F0_color)\n",
    "\n",
    "legend_elements = [Line2D([0], [0], marker='o', color=COF_color, linestyle='', label='COF'),\n",
    "                   Line2D([0], [0], marker='s', color=F0_color, linestyle='', label=r'$\\mathit{F_0}$')]\n",
    "plt.legend(handles=legend_elements, loc=4)\n",
    "plt.savefig(fname='./plots/r2vsN/everything_on_5050.pdf', dpi=500)\n",
    "\n",
    "# print('COF')\n",
    "# print(f'n: {to_plot_on_5050[\"COF\"][\"n_train\"]}')\n",
    "# print(f'r2: {to_plot_on_5050[\"COF\"][\"r_square_avg\"]}')\n",
    "# print(f'yerr: {to_plot_on_5050[\"COF\"][\"r_square_std\"]}')\n",
    "\n",
    "# print('F0')\n",
    "# print(f'n: {to_plot_on_5050[\"intercept\"][\"n_train\"]}')\n",
    "# print(f'r2: {to_plot_on_5050[\"intercept\"][\"r_square_avg\"]}')\n",
    "# print(f'yerr: {to_plot_on_5050[\"intercept\"][\"r_square_std\"]}')\n",
    "      "
   ]
  },
  {
   "cell_type": "markdown",
   "metadata": {},
   "source": [
    "# Refined R<sup>2</sup> plot \n",
    "### Mixed 5050 models on 2575 test set"
   ]
  },
  {
   "cell_type": "code",
   "execution_count": 26,
   "metadata": {
    "scrolled": false
   },
   "outputs": [
    {
     "data": {
      "image/png": "[encoded data removed]",
      "text/plain": [
       "<Figure size 648x432 with 1 Axes>"
      ]
     },
     "metadata": {
      "needs_background": "light"
     },
     "output_type": "display_data"
    }
   ],
   "source": [
    "to_plot_on_2575 = {'COF': {'n_train': list(),\n",
    "                           'r_square_avg': list(),\n",
    "                           'r_square_std': list(),\n",
    "                           'base': None},\n",
    "                   'intercept': {'n_train': list(),\n",
    "                                 'r_square_avg': list(),\n",
    "                                 'r_square_std': list(),\n",
    "                                 'base': None}}\n",
    "for target in ['COF', 'intercept']:\n",
    "    for model, data in results['2575'][target].items():\n",
    "        if '5050' in model:\n",
    "            to_plot_on_2575[target]['r_square_avg'].append(data['r_square_avg'])\n",
    "            to_plot_on_2575[target]['r_square_std'].append(data['r_square_std'])\n",
    "            to_plot_on_2575[target]['n_train'].append(data['n_train'])\n",
    "        elif 'original' in model: \n",
    "            to_plot_on_2575[target]['base'] = data['r_square']\n",
    "                \n",
    "plt.figure(figsize=(9, 6))\n",
    "\n",
    "#plt.title('Effect of Training Set Size', fontsize=20)\n",
    "plt.xlabel('N', style='italic')\n",
    "plt.ylabel(r'$\\mathbf{R^2}$')\n",
    "plt.xlim(0, 3000)\n",
    "plt.ylim(0, 1)\n",
    "plt.errorbar(x=to_plot_on_2575['COF']['n_train'],\n",
    "            y=to_plot_on_2575['COF']['r_square_avg'],\n",
    "            yerr=to_plot_on_2575['COF']['r_square_std'],\n",
    "            color=COF_color,\n",
    "            fmt='o',\n",
    "            markersize=markersize,\n",
    "            elinewidth=1)\n",
    "plt.axhline(y=to_plot_on_2575['COF']['base'], linestyle='--', linewidth=1, color=COF_color)\n",
    "\n",
    "plt.errorbar(x=to_plot_on_2575['intercept']['n_train'],\n",
    "            y=to_plot_on_2575['intercept']['r_square_avg'],\n",
    "            yerr=to_plot_on_2575['intercept']['r_square_std'],\n",
    "            color=F0_color,\n",
    "            fmt='s',\n",
    "            markersize=markersize,\n",
    "            elinewidth=1)\n",
    "plt.axhline(y=to_plot_on_2575['intercept']['base'], linestyle='--', linewidth=1, color=F0_color)\n",
    "\n",
    "\n",
    "legend_elements = [Line2D([0], [0], marker='o', color=COF_color, linestyle='', label='COF'),\n",
    "                   Line2D([0], [0], marker='s', color=F0_color, linestyle='', label=r'$\\mathit{F_0}$')]\n",
    "plt.legend(handles=legend_elements, loc=4)\n",
    "plt.savefig(fname='./plots/r2vsN/5050_on_2575.pdf', dpi=500)\n",
    "\n",
    "# print('COF')\n",
    "# print(f'n: {to_plot_on_2575[\"COF\"][\"n_train\"]}')\n",
    "# print(f'r2: {to_plot_on_2575[\"COF\"][\"r_square_avg\"]}')\n",
    "# print(f'yerr: {to_plot_on_2575[\"COF\"][\"r_square_std\"]}')\n",
    "\n",
    "# print('F0')\n",
    "# print(f'n: {to_plot_on_2575[\"intercept\"][\"n_train\"]}')\n",
    "# print(f'r2: {to_plot_on_2575[\"intercept\"][\"r_square_avg\"]}')\n",
    "# print(f'yerr: {to_plot_on_2575[\"intercept\"][\"r_square_std\"]}')\n",
    "      "
   ]
  },
  {
   "cell_type": "markdown",
   "metadata": {},
   "source": [
    "# Refined R<sup>2</sup> plot \n",
    "### Everything models on 2575 test set"
   ]
  },
  {
   "cell_type": "code",
   "execution_count": 27,
   "metadata": {},
   "outputs": [
    {
     "data": {
      "image/png": "[encoded data removed]",
      "text/plain": [
       "<Figure size 648x432 with 1 Axes>"
      ]
     },
     "metadata": {
      "needs_background": "light"
     },
     "output_type": "display_data"
    }
   ],
   "source": [
    "to_plot_on_2575 = {'COF': {'n_train': list(),\n",
    "                           'r_square_avg': list(),\n",
    "                           'r_square_std': list(),\n",
    "                           'base': None},\n",
    "                   'intercept': {'n_train': list(),\n",
    "                                 'r_square_avg': list(),\n",
    "                                 'r_square_std': list(),\n",
    "                                 'base': None}}\n",
    "for target in ['COF', 'intercept']:\n",
    "    for model, data in results['2575'][target].items():\n",
    "        if 'everything' in model:\n",
    "            to_plot_on_2575[target]['r_square_avg'].append(data['r_square_avg'])\n",
    "            to_plot_on_2575[target]['r_square_std'].append(data['r_square_std'])\n",
    "            to_plot_on_2575[target]['n_train'].append(data['n_train'])\n",
    "        elif 'original' in model: \n",
    "            to_plot_on_2575[target]['base'] = data['r_square']\n",
    "                \n",
    "plt.figure(figsize=(9, 6))\n",
    "\n",
    "#plt.title('Effect of Training Set Size', fontsize=20)\n",
    "plt.xlabel('N', style='italic')\n",
    "plt.ylabel(r'$\\mathbf{R^2}$')\n",
    "plt.xlim(0, 8500)\n",
    "plt.ylim(0, 1)\n",
    "plt.errorbar(x=to_plot_on_2575['COF']['n_train'],\n",
    "            y=to_plot_on_2575['COF']['r_square_avg'],\n",
    "            yerr=to_plot_on_2575['COF']['r_square_std'],\n",
    "            color=COF_color,\n",
    "            fmt='o',\n",
    "            markersize=markersize,\n",
    "            elinewidth=1)\n",
    "plt.axhline(y=to_plot_on_2575['COF']['base'], linestyle='--', linewidth=1, color=COF_color)\n",
    "\n",
    "plt.errorbar(x=to_plot_on_2575['intercept']['n_train'],\n",
    "            y=to_plot_on_2575['intercept']['r_square_avg'],\n",
    "            yerr=to_plot_on_2575['intercept']['r_square_std'],\n",
    "            color=F0_color,\n",
    "            fmt='s',\n",
    "            markersize=markersize,\n",
    "            elinewidth=1)\n",
    "plt.axhline(y=to_plot_on_2575['intercept']['base'], linestyle='--', linewidth=1, color=F0_color)\n",
    "\n",
    "legend_elements = [Line2D([0], [0], marker='o', color=COF_color, linestyle='', label='COF'),\n",
    "                   Line2D([0], [0], marker='s', color=F0_color, linestyle='', label=r'$\\mathit{F_0}$')]\n",
    "plt.legend(handles=legend_elements, loc=4)\n",
    "plt.savefig(fname='./plots/r2vsN/everything_on_2575.pdf', dpi=500)\n",
    "\n",
    "# print('COF')\n",
    "# print(f'n: {to_plot_on_2575[\"COF\"][\"n_train\"]}')\n",
    "# print(f'r2: {to_plot_on_2575[\"COF\"][\"r_square_avg\"]}')\n",
    "# print(f'yerr: {to_plot_on_2575[\"COF\"][\"r_square_std\"]}')\n",
    "\n",
    "# print('F0')\n",
    "# print(f'n: {to_plot_on_2575[\"intercept\"][\"n_train\"]}')\n",
    "# print(f'r2: {to_plot_on_2575[\"intercept\"][\"r_square_avg\"]}')\n",
    "# print(f'yerr: {to_plot_on_2575[\"intercept\"][\"r_square_std\"]}')\n",
    "      "
   ]
  },
  {
   "cell_type": "markdown",
   "metadata": {},
   "source": [
    "# Refined R<sup>2</sup> plot \n",
    "### Everything model on everything test set"
   ]
  },
  {
   "cell_type": "code",
   "execution_count": 28,
   "metadata": {
    "scrolled": false
   },
   "outputs": [
    {
     "name": "stdout",
     "output_type": "stream",
     "text": [
      "COF\n",
      "n: [100, 200, 300, 500, 1000, 1500, 2000, 2500, 4000, 6000, 7816]\n",
      "r2: [0.528154425724747, 0.5730288289557801, 0.6123714402073663, 0.6501984820122367, 0.7008796698252099, 0.7309954757288685, 0.7510696953441597, 0.7713000174040183, 0.8148007692937791, 0.8652240995884364, 0.9060796086918874]\n",
      "yerr: [0.01793258317243838, 0.02100853386009354, 0.015270667829272283, 0.010027211648272078, 0.005074317725850501, 0.004394028784372859, 0.002806228454227297, 0.0034357840677379952, 0.0027947415881720413, 0.004201231724173016, 0.0002377727158844267]\n",
      "F0\n",
      "n: [100, 200, 300, 500, 1000, 1500, 2000, 2500, 4000, 6000, 7816]\n",
      "r2: [0.689552012652797, 0.7720909208804384, 0.8174290035302588, 0.8529631278523242, 0.8876656375674521, 0.9018873867716799, 0.9101710220522508, 0.9172543385591807, 0.9282197231957239, 0.9361164507540922, 0.9415022939022075]\n",
      "yerr: [0.018508448323936534, 0.014954392055256142, 0.013886603391925175, 0.0077953613951858985, 0.0047090779504702935, 0.0043428616736831925, 0.005579975406793458, 0.0066357601436601524, 0.003928116429515616, 0.0007113139184600679, 0.00019753931648295502]\n"
     ]
    },
    {
     "data": {
      "image/png": "[encoded data removed]",
      "text/plain": [
       "<Figure size 648x432 with 1 Axes>"
      ]
     },
     "metadata": {
      "needs_background": "light"
     },
     "output_type": "display_data"
    }
   ],
   "source": [
    "to_plot_on_everything = {'COF': {'n_train': list(),\n",
    "                                 'r_square_avg': list(),\n",
    "                                 'r_square_std': list(),\n",
    "                                 'base': None},\n",
    "                   'intercept': {'n_train': list(),\n",
    "                                 'r_square_avg': list(),\n",
    "                                 'r_square_std': list(),\n",
    "                                 'base': None}}\n",
    "for target in ['COF', 'intercept']:\n",
    "    for model, data in results['everything'][target].items():\n",
    "        if ('everything' in model):\n",
    "            to_plot_on_everything[target]['n_train'].append(data['n_train'])\n",
    "            to_plot_on_everything[target]['r_square_avg'].append(data['r_square_avg'])\n",
    "            to_plot_on_everything[target]['r_square_std'].append(data['r_square_std'])\n",
    "        elif 'original' in model: \n",
    "            to_plot_on_everything[target]['base'] = data['r_square']\n",
    "plt.figure(figsize=(9, 6))\n",
    "\n",
    "#plt.title('Effect of Training Set Size', fontsize=20)\n",
    "plt.xlabel('N', style='italic')\n",
    "plt.ylabel(r'$\\mathbf{R^2}$')\n",
    "plt.xlim(0,8500)\n",
    "plt.ylim(0, 1)\n",
    "plt.errorbar(x=to_plot_on_everything['COF']['n_train'],\n",
    "            y=to_plot_on_everything['COF']['r_square_avg'],\n",
    "            yerr=to_plot_on_everything['COF']['r_square_std'],\n",
    "            fmt='o',\n",
    "            markersize=markersize,\n",
    "            color=COF_color,\n",
    "            elinewidth=1)\n",
    "plt.axhline(y=to_plot_on_everything['COF']['base'], linestyle='--', linewidth=1, color=COF_color)\n",
    "\n",
    "plt.errorbar(x=to_plot_on_everything['intercept']['n_train'],\n",
    "            y=to_plot_on_everything['intercept']['r_square_avg'],\n",
    "            yerr=to_plot_on_everything['intercept']['r_square_std'],\n",
    "            fmt='s',\n",
    "            markersize=markersize,\n",
    "            color=F0_color,\n",
    "            elinewidth=1)\n",
    "plt.axhline(y=to_plot_on_everything['intercept']['base'], linestyle='--', linewidth=1, color=F0_color)\n",
    "\n",
    "legend_elements = [Line2D([0], [0], marker='o', color=COF_color, linestyle='', label='COF'),\n",
    "                   Line2D([0], [0], marker='s', color=F0_color, linestyle='', label=r'$\\mathit{F_0}$')]\n",
    "plt.legend(handles=legend_elements, loc=4)\n",
    "plt.savefig(fname='./plots/r2vsN/everything_on_everything.pdf', dpi=500)\n",
    "\n",
    "print('COF')\n",
    "print(f'n: {to_plot_on_everything[\"COF\"][\"n_train\"]}')\n",
    "print(f'r2: {to_plot_on_everything[\"COF\"][\"r_square_avg\"]}')\n",
    "print(f'yerr: {to_plot_on_everything[\"COF\"][\"r_square_std\"]}')\n",
    "\n",
    "print('F0')\n",
    "print(f'n: {to_plot_on_everything[\"intercept\"][\"n_train\"]}')\n",
    "print(f'r2: {to_plot_on_everything[\"intercept\"][\"r_square_avg\"]}')\n",
    "print(f'yerr: {to_plot_on_everything[\"intercept\"][\"r_square_std\"]}')\n",
    "      "
   ]
  },
  {
   "cell_type": "markdown",
   "metadata": {},
   "source": [
    "# Refined R<sup>2</sup> plot \n",
    "### 5050 model on everything test set"
   ]
  },
  {
   "cell_type": "code",
   "execution_count": 29,
   "metadata": {},
   "outputs": [
    {
     "name": "stdout",
     "output_type": "stream",
     "text": [
      "COF\n",
      "n: [100, 200, 300, 500, 1000, 1500, 2000, 2500, 2680]\n",
      "r2: [0.496151469978441, 0.5844114866790067, 0.6149743464541043, 0.6530931407596593, 0.6926178576498359, 0.706266117144744, 0.722812197550526, 0.7385909432988836, 0.7446405527214718]\n",
      "yerr: [0.04604489577667854, 0.008409894381901076, 0.012504525038827355, 0.00407509559557999, 0.001964926945100505, 0.005061256569109001, 0.0057804133592025235, 0.002400331981821221, 0.00026586491857588895]\n",
      "F0\n",
      "n: [100, 200, 300, 500, 1000, 1500, 2000, 2500, 2680]\n",
      "r2: [0.7011696908563746, 0.7574869054660034, 0.7899601582469192, 0.8313355275548936, 0.8589732397811363, 0.8789495443944263, 0.8884625189700902, 0.8946440640683505, 0.8959240765619937]\n",
      "yerr: [0.032363686230369546, 0.02617355547560678, 0.007479677721319424, 0.003521506602785101, 0.005423900021555742, 0.0030406900380948215, 0.0032505967649548648, 0.0009177731606177767, 0.00016436858961490784]\n"
     ]
    },
    {
     "data": {
      "image/png": "[encoded data removed]",
      "text/plain": [
       "<Figure size 648x432 with 1 Axes>"
      ]
     },
     "metadata": {
      "needs_background": "light"
     },
     "output_type": "display_data"
    }
   ],
   "source": [
    "to_plot_on_everything = {'COF': {'n_train': list(),\n",
    "                                 'r_square_avg': list(),\n",
    "                                 'r_square_std': list(),\n",
    "                                 'base': None},\n",
    "                   'intercept': {'n_train': list(),\n",
    "                                 'r_square_avg': list(),\n",
    "                                 'r_square_std': list(),\n",
    "                                 'base': None}}\n",
    "for target in ['COF', 'intercept']:\n",
    "    for model, data in results['everything'][target].items():\n",
    "        if ('5050' in model):\n",
    "            to_plot_on_everything[target]['n_train'].append(data['n_train'])\n",
    "            to_plot_on_everything[target]['r_square_avg'].append(data['r_square_avg'])\n",
    "            to_plot_on_everything[target]['r_square_std'].append(data['r_square_std'])\n",
    "        elif 'original' in model: \n",
    "            to_plot_on_everything[target]['base'] = data['r_square']\n",
    "plt.figure(figsize=(9, 6))\n",
    "\n",
    "#plt.title('Effect of Training Set Size', fontsize=20)\n",
    "plt.xlabel('N', style='italic')\n",
    "plt.ylabel(r'$\\mathbf{R^2}$')\n",
    "plt.xlim(0, 3000)\n",
    "plt.ylim(0, 1)\n",
    "plt.errorbar(x=to_plot_on_everything['COF']['n_train'],\n",
    "            y=to_plot_on_everything['COF']['r_square_avg'],\n",
    "            yerr=to_plot_on_everything['COF']['r_square_std'],\n",
    "            fmt='o',\n",
    "            markersize=markersize,\n",
    "            color=COF_color,\n",
    "            elinewidth=1)\n",
    "plt.axhline(y=to_plot_on_everything['COF']['base'], linestyle='--', linewidth=1, color=COF_color)\n",
    "\n",
    "plt.errorbar(x=to_plot_on_everything['intercept']['n_train'],\n",
    "            y=to_plot_on_everything['intercept']['r_square_avg'],\n",
    "            yerr=to_plot_on_everything['intercept']['r_square_std'],\n",
    "            fmt='s',\n",
    "            markersize=markersize,\n",
    "            color=F0_color,\n",
    "            elinewidth=1)\n",
    "plt.axhline(y=to_plot_on_everything['intercept']['base'], linestyle='--', linewidth=1, color=F0_color)\n",
    "\n",
    "legend_elements = [Line2D([0], [0], marker='o', color=COF_color, linestyle='', label='COF'),\n",
    "                   Line2D([0], [0], marker='s', color=F0_color, linestyle='', label=r'$\\mathit{F_0}$')]\n",
    "plt.legend(handles=legend_elements, loc=4)\n",
    "plt.savefig(fname='./plots/r2vsN/5050_on_everything.pdf', dpi=500)\n",
    "print('COF')\n",
    "print(f'n: {to_plot_on_everything[\"COF\"][\"n_train\"]}')\n",
    "print(f'r2: {to_plot_on_everything[\"COF\"][\"r_square_avg\"]}')\n",
    "print(f'yerr: {to_plot_on_everything[\"COF\"][\"r_square_std\"]}')\n",
    "\n",
    "print('F0')\n",
    "print(f'n: {to_plot_on_everything[\"intercept\"][\"n_train\"]}')\n",
    "print(f'r2: {to_plot_on_everything[\"intercept\"][\"r_square_avg\"]}')\n",
    "print(f'yerr: {to_plot_on_everything[\"intercept\"][\"r_square_std\"]}')\n",
    "      "
   ]
  },
  {
   "cell_type": "markdown",
   "metadata": {},
   "source": [
    "# Summary Table"
   ]
  },
  {
   "cell_type": "code",
   "execution_count": 17,
   "metadata": {},
   "outputs": [],
   "source": [
    "import pandas as pd"
   ]
  },
  {
   "cell_type": "code",
   "execution_count": 19,
   "metadata": {},
   "outputs": [],
   "source": [
    "pd_dict = {'model_name' : list(),\n",
    "           'n_trains' : list(),\n",
    "           '5050_COF' : list(),\n",
    "           '5050_F0' : list(),\n",
    "           '2575_COF' : list(),\n",
    "           '2575_F0' : list(),\n",
    "           'everything_COF' : list(),\n",
    "           'everything_F0' : list()}\n",
    "\n",
    "# Handle original models \n",
    "pd_dict['model_name'].append('original')\n",
    "pd_dict['n_trains'].append(100)\n",
    "for tset in ['5050', '2575', 'everything']:\n",
    "    pd_dict[f'{tset}_COF'].append(round(results[tset]['COF']['original']['r_square'], 3))\n",
    "    pd_dict[f'{tset}_F0'].append(round(results[tset]['intercept']['original']['r_square'], 3))\n",
    "\n",
    "\n",
    "# Handle 5050 models\n",
    "for point in mpoints:\n",
    "    model_name = f'5050_{point}'\n",
    "    pd_dict['model_name'].append(model_name)\n",
    "    pd_dict['n_trains'].append(point)\n",
    "    for tset in ['5050', '2575', 'everything']:\n",
    "        COF = f\"{round(results[tset]['COF'][model_name]['r_square_avg'], 3)} \\u00B1 {round(results[tset]['COF'][model_name]['r_square_std'], 3)}\"\n",
    "        F0 = f\"{round(results[tset]['intercept'][model_name]['r_square_avg'], 3)} \\u00B1 {round(results[tset]['intercept'][model_name]['r_square_std'], 3)}\"\n",
    "\n",
    "        pd_dict[f'{tset}_COF'].append(COF)\n",
    "        pd_dict[f'{tset}_F0'].append(F0)\n",
    "        \n",
    "        \n",
    "# Handle 2575 models\n",
    "\n",
    "for point in epoints:\n",
    "    model_name = f'everything_{point}'\n",
    "    pd_dict['model_name'].append(model_name)\n",
    "    pd_dict['n_trains'].append(point)\n",
    "    for tset in ['5050', '2575', 'everything']:\n",
    "        COF = f\"{round(results[tset]['COF'][model_name]['r_square_avg'], 3)} \\u00B1 {round(results[tset]['COF'][model_name]['r_square_std'], 3)}\"\n",
    "        F0 = f\"{round(results[tset]['intercept'][model_name]['r_square_avg'], 3)} \\u00B1 {round(results[tset]['intercept'][model_name]['r_square_std'], 3)}\"\n",
    "\n",
    "        pd_dict[f'{tset}_COF'].append(COF)\n",
    "        pd_dict[f'{tset}_F0'].append(F0)"
   ]
  },
  {
   "cell_type": "code",
   "execution_count": 20,
   "metadata": {},
   "outputs": [],
   "source": [
    "df = pd.DataFrame(pd_dict)"
   ]
  },
  {
   "cell_type": "code",
   "execution_count": 21,
   "metadata": {},
   "outputs": [],
   "source": [
    "df.to_csv('plots/summary_r2.csv')"
   ]
  },
  {
   "cell_type": "code",
   "execution_count": 22,
   "metadata": {},
   "outputs": [],
   "source": [
    "plt.close()"
   ]
  }
 ],
 "metadata": {
  "kernelspec": {
   "display_name": "Python 3",
   "language": "python",
   "name": "python3"
  },
  "language_info": {
   "codemirror_mode": {
    "name": "ipython",
    "version": 3
   },
   "file_extension": ".py",
   "mimetype": "text/x-python",
   "name": "python",
   "nbconvert_exporter": "python",
   "pygments_lexer": "ipython3",
   "version": "3.7.10"
  }
 },
 "nbformat": 4,
 "nbformat_minor": 4
}
