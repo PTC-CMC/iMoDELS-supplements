{
 "cells": [
  {
   "cell_type": "code",
   "execution_count": null,
   "metadata": {},
   "outputs": [],
   "source": [
    "import json \n",
    "import matplotlib\n",
    "from matplotlib import patches\n",
    "from matplotlib import pyplot as plt\n",
    "import pickle\n",
    "import pandas as pd"
   ]
  },
  {
   "cell_type": "code",
   "execution_count": null,
   "metadata": {},
   "outputs": [],
   "source": [
    "data_path = '../../'\n",
    "data = pd.read_csv('../../data/raw-data/filtered_everything.csv', index_col=0)"
   ]
  },
  {
   "cell_type": "code",
   "execution_count": null,
   "metadata": {},
   "outputs": [],
   "source": [
    "from numpy import *\n",
    "from matplotlib.pyplot import *\n",
    "\n",
    "rcParams['mathtext.fontset'] = 'custom'\n",
    "rcParams['mathtext.it'] = 'DejaVu Sans:italic'\n",
    "rcParams['mathtext.bf'] = 'DejaVu Sans:italic:bold'\n"
   ]
  },
  {
   "cell_type": "code",
   "execution_count": null,
   "metadata": {
    "scrolled": false
   },
   "outputs": [],
   "source": [
    "n = 500\n",
    "poi = ['terminal_group_1', \n",
    "       'terminal_group_2',\n",
    "       'terminal_group_3',\n",
    "       'frac-1', 'frac-2',\n",
    "       'COF', 'COF-std',\n",
    "       'intercept', 'intercept-std']\n",
    "topCOF = data.sort_values(by='COF')[poi]\n",
    "topF0 = data.sort_values(by='intercept')[poi]\n",
    "optimal = pd.merge(topCOF.head(n), topF0.head(n), how='inner',\n",
    "                     on=poi)"
   ]
  },
  {
   "cell_type": "code",
   "execution_count": null,
   "metadata": {},
   "outputs": [],
   "source": [
    "index = list()\n",
    "cof = list()\n",
    "f0 = list()\n",
    "for i, row in data.iterrows():\n",
    "    index.append(i)\n",
    "    cof.append(row['COF'])\n",
    "    f0.append(row['intercept'])\n",
    "    \n",
    "plt.figure(figsize=(10, 8))\n",
    "alpha = 0.2 \n",
    "\n",
    "\n",
    "rect = patches.Rectangle(xy=(optimal['COF'].min(), optimal['intercept'].min()),\n",
    "                         width=optimal['COF'].max() - optimal['COF'].min(), \n",
    "                         height=optimal['intercept'].max() - optimal['intercept'].min(),\n",
    "                         edgecolor='r',\n",
    "                         linewidth=1,\n",
    "                         linestyle='--',\n",
    "                         facecolor='none')\n",
    "#plt.title('F$_0$ vs COF', fontsize=20)\n",
    "plt.gca().add_patch(rect)\n",
    "plt.ylabel(r'$\\mathbf{F_0}$, nN', weight='bold')\n",
    "plt.xlabel('COF', weight='bold')\n",
    "plt.scatter(cof, f0, alpha=alpha, marker='.')\n",
    "\n",
    "plt.xlim(0.085, 0.20)\n",
    "plt.ylim(0, 8)\n",
    "#plt.savefig(fname=f'./plots/dist/complete_COF_vs_F0(top{len(optimal)}).pdf', dpi=500)"
   ]
  },
  {
   "cell_type": "code",
   "execution_count": null,
   "metadata": {},
   "outputs": [],
   "source": [
    "index = list()\n",
    "cof = list()\n",
    "f0 = list()\n",
    "for i, row in data.iterrows():\n",
    "    if row['COF'] <= optimal['COF'].max() and row['intercept'] <= optimal['intercept'].max():\n",
    "        index.append(i)\n",
    "        cof.append(row['COF'])\n",
    "        f0.append(row['intercept'])\n",
    "        \n",
    "condensed_data = data.loc[index]\n",
    "\n",
    "condensed_data = condensed_data[['terminal_group_1','terminal_group_2',\n",
    "                                 'terminal_group_3', 'frac-1','frac-2',\n",
    "                                 'backbone','COF','COF-std',\n",
    "                                 'intercept', 'intercept-std']]\n",
    "condensed_data.to_csv(f'./plots/opt_sys{len(condensed_data)}_raw.csv')\n",
    "\n",
    "\n",
    "renamed_cdata = condensed_data.rename(columns={'terminal_group_1': 'Terminal Group A',\n",
    "                       'terminal_group_2': 'Terminal Group B',\n",
    "                       'terminal_group_3': 'Terminal Group C',\n",
    "                       'frac-1': 'Fraction A',\n",
    "                       'frac-2': 'Fraction B',\n",
    "                       'backbone': 'Backbone',\n",
    "                       'COF': 'COF',\n",
    "                       'COF-std': 'COF-std',\n",
    "                       'intercept': 'F$_0$',\n",
    "                       'intercept-std': 'F$_0$-std'})\n",
    "renamed_cdata.index = range(1, len(renamed_cdata)+1)\n",
    "\n",
    "renamed_cdata.to_csv(f'./plots/opt_sys{len(renamed_cdata)}.csv')"
   ]
  },
  {
   "cell_type": "markdown",
   "metadata": {},
   "source": [
    "# Histogram - Distribution"
   ]
  },
  {
   "cell_type": "markdown",
   "metadata": {},
   "source": [
    "### Everything Dataset"
   ]
  },
  {
   "cell_type": "code",
   "execution_count": null,
   "metadata": {},
   "outputs": [],
   "source": [
    "plt.hist(data['COF'], bins=50)\n",
    "plt.xlabel('COF')\n",
    "plt.ylabel('N', style='italic')\n",
    "\n",
    "plt.xlim(0.085, 0.2)\n",
    "plt.savefig(fname='./plots/dist/COF_hist.pdf', dpi=500)"
   ]
  },
  {
   "cell_type": "code",
   "execution_count": null,
   "metadata": {},
   "outputs": [],
   "source": [
    "plt.hist(data['intercept'], bins=50)\n",
    "plt.xlabel(r'$\\mathbf{F_0}$, nN')\n",
    "plt.ylabel('N', style='italic')\n",
    "\n",
    "plt.xlim(0, 8)\n",
    "plt.savefig(fname='./plots/dist/F0_hist.pdf', dpi=500)"
   ]
  },
  {
   "cell_type": "markdown",
   "metadata": {},
   "source": [
    "### Combined Test set "
   ]
  },
  {
   "cell_type": "code",
   "execution_count": null,
   "metadata": {},
   "outputs": [],
   "source": [
    "combined_test = pd.read_csv('../../data/splitted-data/everything/nbins-10/test_set.csv', index_col=0)\n"
   ]
  },
  {
   "cell_type": "code",
   "execution_count": null,
   "metadata": {
    "scrolled": false
   },
   "outputs": [],
   "source": [
    "plt.hist(combined_test['COF'], bins=50)\n",
    "plt.xlabel('COF')\n",
    "plt.ylabel('N')\n",
    "#plt.savefig(fname='./plots/COF_hist.pdf', dpi=500)"
   ]
  },
  {
   "cell_type": "code",
   "execution_count": null,
   "metadata": {
    "scrolled": true
   },
   "outputs": [],
   "source": [
    "plt.hist(combined_test['intercept'], bins=50)\n",
    "plt.xlabel('F$_0$ (nN)')\n",
    "plt.ylabel('N')\n",
    "#plt.savefig(fname='./plots/F0_hist.pdf', dpi=500)"
   ]
  },
  {
   "cell_type": "markdown",
   "metadata": {},
   "source": [
    "# Distribution of Training data"
   ]
  },
  {
   "cell_type": "code",
   "execution_count": null,
   "metadata": {},
   "outputs": [],
   "source": [
    "# Original 100 \n",
    "og = pd.read_csv('../../data/raw-data/original-100.csv', index_col=0)\n",
    "m5050_100 = pd.read_csv('../../data/splitted-data/mixed5050/nbins-10/set_0/COF_1000.csv')\n",
    "eve_100 = pd.read_csv('../../data/splitted-data/everything/nbins-10/set_0/COF_1000.csv')\n"
   ]
  },
  {
   "cell_type": "code",
   "execution_count": null,
   "metadata": {},
   "outputs": [],
   "source": [
    "plt.figure(figsize=[10, 8])\n",
    "plt.hist([og['COF'], m5050_100['COF'], eve_100['COF']],\n",
    "         bins=20, \n",
    "         label=['og', 'm5050', 'eve'])\n",
    "plt.xlabel('COF')\n",
    "plt.ylabel('N')\n",
    "plt.legend()"
   ]
  },
  {
   "cell_type": "code",
   "execution_count": null,
   "metadata": {},
   "outputs": [],
   "source": [
    "plt.figure(figsize=[10, 8])\n",
    "plt.hist([og['intercept'], m5050_100['intercept'], eve_100['intercept']],\n",
    "         bins=20, \n",
    "         label=['og', 'm5050', 'eve'])\n",
    "plt.xlabel('F0')\n",
    "plt.ylabel('N')\n",
    "plt.legend()"
   ]
  },
  {
   "cell_type": "code",
   "execution_count": null,
   "metadata": {},
   "outputs": [],
   "source": []
  }
 ],
 "metadata": {
  "kernelspec": {
   "display_name": "Python 3",
   "language": "python",
   "name": "python3"
  },
  "language_info": {
   "codemirror_mode": {
    "name": "ipython",
    "version": 3
   },
   "file_extension": ".py",
   "mimetype": "text/x-python",
   "name": "python",
   "nbconvert_exporter": "python",
   "pygments_lexer": "ipython3",
   "version": "3.7.10"
  }
 },
 "nbformat": 4,
 "nbformat_minor": 4
}
