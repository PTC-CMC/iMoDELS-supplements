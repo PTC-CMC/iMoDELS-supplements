{
 "cells": [
  {
   "cell_type": "code",
   "execution_count": 1,
   "id": "11c7abd9",
   "metadata": {},
   "outputs": [],
   "source": [
    "import pandas as pd \n",
    "import json \n",
    "import matplotlib\n",
    "from matplotlib import pyplot as plt \n"
   ]
  },
  {
   "cell_type": "code",
   "execution_count": 2,
   "id": "bd17590b",
   "metadata": {},
   "outputs": [],
   "source": [
    "from numpy import *\n",
    "from matplotlib.pyplot import *\n",
    "\n",
    "rcParams['mathtext.fontset'] = 'custom'\n",
    "rcParams['mathtext.it'] = 'DejaVu Sans:italic'\n",
    "rcParams['mathtext.bf'] = 'DejaVu Sans:italic:bold'\n"
   ]
  },
  {
   "cell_type": "code",
   "execution_count": 3,
   "id": "c22657da",
   "metadata": {
    "scrolled": true
   },
   "outputs": [],
   "source": [
    "from src.predict import calculate_raw_descriptors\n",
    "from src.screening import *"
   ]
  },
  {
   "cell_type": "code",
   "execution_count": 4,
   "id": "04cd4652",
   "metadata": {},
   "outputs": [],
   "source": [
    "raw_path = \"csv/ChemBL_4to99.csv\"\n",
    "raw_df = pd.read_csv(raw_path, sep=\";\")\n",
    "raw_df.rename({\"Smiles\": \"h_smiles\"}, axis=1, inplace=True)"
   ]
  },
  {
   "cell_type": "code",
   "execution_count": 5,
   "id": "1e29cfaa",
   "metadata": {},
   "outputs": [
    {
     "name": "stderr",
     "output_type": "stream",
     "text": [
      "/Users/quachcd/Documents/science/imodels/iMoDELS-supplements/screening/src/screening.py:89: SettingWithCopyWarning: \n",
      "A value is trying to be set on a copy of a slice from a DataFrame.\n",
      "Try using .loc[row_indexer,col_indexer] = value instead\n",
      "\n",
      "See the caveats in the documentation: https://pandas.pydata.org/pandas-docs/stable/user_guide/indexing.html#returning-a-view-versus-a-copy\n",
      "  df[\"ch3_smiles\"] = \"\"\n",
      "/Users/quachcd/Documents/science/imodels/iMoDELS-supplements/screening/src/screening.py:92: SettingWithCopyWarning: \n",
      "A value is trying to be set on a copy of a slice from a DataFrame\n",
      "\n",
      "See the caveats in the documentation: https://pandas.pydata.org/pandas-docs/stable/user_guide/indexing.html#returning-a-view-versus-a-copy\n",
      "  df[\"ch3_smiles\"][idx] = h_to_ch3_smiles(row[\"h_smiles\"])\n"
     ]
    }
   ],
   "source": [
    "skimmed_df = filter_metal(raw_df)\n",
    "df = add_ch3_smiles(skimmed_df)\n",
    "df, failed = filter_empty_ch3_smiles(df)"
   ]
  },
  {
   "cell_type": "code",
   "execution_count": 6,
   "id": "dd60e994",
   "metadata": {
    "collapsed": true
   },
   "outputs": [
    {
     "name": "stdout",
     "output_type": "stream",
     "text": [
      "O=CC(=O)O and O=C(C)C(=O)O already exist in ind_descriptors\n",
      "Calculating chemical descriptors for O=C1C=CC(=O)O1 and O=C(C)1C=CC(=O)O1\n",
      "CN.O=[N+]([O-])O and CCN.O=[N+]([O-])O already exist in ind_descriptors\n",
      "CC(C)CC#N and CCC(C)CC#N already exist in ind_descriptors\n"
     ]
    },
    {
     "name": "stderr",
     "output_type": "stream",
     "text": [
      "RDKit ERROR: [17:11:43] Explicit valence for atom # 1 C, 5, is greater than permitted\n",
      "[17:11:43] Explicit valence for atom # 1 C, 5, is greater than permitted\n"
     ]
    },
    {
     "name": "stdout",
     "output_type": "stream",
     "text": [
      "OC/C=C/CO and C(O)C/C=C/CO already exist in ind_descriptors\n",
      "C/N=C1\\CCCN1 and CC/N=C1\\CCCN1 already exist in ind_descriptors\n",
      "Calculating chemical descriptors for N#CCCl and N#CCC(l)C\n",
      "CCNCCO and CCCNCCO already exist in ind_descriptors\n"
     ]
    },
    {
     "name": "stderr",
     "output_type": "stream",
     "text": [
      "RDKit ERROR: [17:11:43] SMILES Parse Error: syntax error while parsing: N#CCC(l)C\n",
      "[17:11:43] SMILES Parse Error: syntax error while parsing: N#CCC(l)C\n",
      "RDKit ERROR: [17:11:43] SMILES Parse Error: Failed parsing SMILES 'N#CCC(l)C' for input: 'N#CCC(l)C'\n",
      "[17:11:43] SMILES Parse Error: Failed parsing SMILES 'N#CCC(l)C' for input: 'N#CCC(l)C'\n"
     ]
    },
    {
     "name": "stdout",
     "output_type": "stream",
     "text": [
      "NC(=O)C1CO1 and C(N)C(=O)C1CO1 already exist in ind_descriptors\n",
      "CN1C=CN(C)C1 and CCN1C=CN(C)C1 already exist in ind_descriptors\n",
      "CC(CO)CO and CCC(CO)CO already exist in ind_descriptors\n",
      "Calculating chemical descriptors for N.N.O=C(O)O and N.N.O=C(C)(O)O\n"
     ]
    },
    {
     "name": "stderr",
     "output_type": "stream",
     "text": [
      "RDKit ERROR: [17:11:43] Explicit valence for atom # 3 C, 5, is greater than permitted\n",
      "[17:11:43] Explicit valence for atom # 3 C, 5, is greater than permitted\n"
     ]
    },
    {
     "name": "stdout",
     "output_type": "stream",
     "text": [
      "COCCOC and CCOCCOC already exist in ind_descriptors\n",
      "NC(N)=O.OO and C(N)C(N)=O.OO already exist in ind_descriptors\n",
      "COCCl and CCOCCl already exist in ind_descriptors\n",
      "C1CS1 and CC1CS1 already exist in ind_descriptors\n",
      "COCC(C)O and CCOCC(C)O already exist in ind_descriptors\n",
      "N#CCC(=O)O and N#CC(C)C(=O)O already exist in ind_descriptors\n",
      "CC(=O)C(C)O and CCC(=O)C(C)O already exist in ind_descriptors\n",
      "C=C(C)CNCC and CC=C(C)CNCC already exist in ind_descriptors\n",
      "Calculating chemical descriptors for N[14C](N)=O and N[14C(C)](N)=O\n",
      "CNC(=N)NC and CCNC(=N)NC already exist in ind_descriptors\n",
      "C=CC(C)(C)C and CC=CC(C)(C)C already exist in ind_descriptors\n",
      "COC(C)OC and CCOC(C)OC already exist in ind_descriptors\n"
     ]
    },
    {
     "name": "stderr",
     "output_type": "stream",
     "text": [
      "RDKit ERROR: [17:11:44] SMILES Parse Error: syntax error while parsing: N[14C(C)](N)=O\n",
      "[17:11:44] SMILES Parse Error: syntax error while parsing: N[14C(C)](N)=O\n",
      "RDKit ERROR: [17:11:44] SMILES Parse Error: Failed parsing SMILES 'N[14C(C)](N)=O' for input: 'N[14C(C)](N)=O'\n",
      "[17:11:44] SMILES Parse Error: Failed parsing SMILES 'N[14C(C)](N)=O' for input: 'N[14C(C)](N)=O'\n"
     ]
    },
    {
     "name": "stdout",
     "output_type": "stream",
     "text": [
      "Calculating chemical descriptors for O=C1CN=CN1 and O=C(C)1CN=CN1\n",
      "CN1CCCCC1 and CCN1CCCCC1 already exist in ind_descriptors\n",
      "CCC(C)C=O and CCCC(C)C=O already exist in ind_descriptors\n",
      "CCCO and CCCCO already exist in ind_descriptors\n"
     ]
    },
    {
     "name": "stderr",
     "output_type": "stream",
     "text": [
      "RDKit ERROR: [17:11:44] Explicit valence for atom # 1 C, 5, is greater than permitted\n",
      "[17:11:44] Explicit valence for atom # 1 C, 5, is greater than permitted\n"
     ]
    },
    {
     "name": "stdout",
     "output_type": "stream",
     "text": [
      "CN(C)C.O and CCN(C)C.O already exist in ind_descriptors\n",
      "CCC(=O)[O-].[Na+] and CCCC(=O)[O-].[Na+] already exist in ind_descriptors\n",
      "CC#N and CCC#N already exist in ind_descriptors\n",
      "C1=CC2OC2C=C1 and CC1=CC2OC2C=C1 already exist in ind_descriptors\n",
      "C[S+](C)C and CC[S+](C)C already exist in ind_descriptors\n",
      "CNC(=O)NC and CCNC(=O)NC already exist in ind_descriptors\n",
      "CC(C)(C)S and CCC(C)(C)S already exist in ind_descriptors\n",
      "CCC(C)=O and CCCC(C)=O already exist in ind_descriptors\n",
      "COCCC#N and CCOCCC#N already exist in ind_descriptors\n",
      "N#CCCC#N and N#CC(C)CC#N already exist in ind_descriptors\n",
      "CNC(N)=S and CCNC(N)=S already exist in ind_descriptors\n",
      "Calculating chemical descriptors for O=CNC1CC1 and O=CNC1CC(1)C\n",
      "C=CC(O)CC and CC=CC(O)CC already exist in ind_descriptors\n",
      "CCCC(C)C and CCCCC(C)C already exist in ind_descriptors\n"
     ]
    },
    {
     "name": "stderr",
     "output_type": "stream",
     "text": [
      "RDKit ERROR: [17:11:45] SMILES Parse Error: syntax error while parsing: O=CNC1CC(1)C\n",
      "[17:11:45] SMILES Parse Error: syntax error while parsing: O=CNC1CC(1)C\n",
      "RDKit ERROR: [17:11:45] SMILES Parse Error: Failed parsing SMILES 'O=CNC1CC(1)C' for input: 'O=CNC1CC(1)C'\n",
      "[17:11:45] SMILES Parse Error: Failed parsing SMILES 'O=CNC1CC(1)C' for input: 'O=CNC1CC(1)C'\n"
     ]
    },
    {
     "name": "stdout",
     "output_type": "stream",
     "text": [
      "O=CC=O and O=C(C)C=O already exist in ind_descriptors\n",
      "CN1CCCC1 and CCN1CCCC1 already exist in ind_descriptors\n",
      "C=CCNC and CC=CCNC already exist in ind_descriptors\n",
      "C=CC(O)CC#N and CC=CC(O)CC#N already exist in ind_descriptors\n",
      "C1CCSC1 and CC1CCSC1 already exist in ind_descriptors\n",
      "C[N+](C)=CCl and CC[N+](C)=CCl already exist in ind_descriptors\n",
      "Calculating chemical descriptors for N=C(N)CCl and N=C(N)CC(l)C\n",
      "CC(=O)C(C)C and CCC(=O)C(C)C already exist in ind_descriptors\n",
      "CC#CC and CCC#CC already exist in ind_descriptors\n"
     ]
    },
    {
     "name": "stderr",
     "output_type": "stream",
     "text": [
      "RDKit ERROR: [17:11:45] SMILES Parse Error: syntax error while parsing: N=C(N)CC(l)C\n",
      "[17:11:45] SMILES Parse Error: syntax error while parsing: N=C(N)CC(l)C\n",
      "RDKit ERROR: [17:11:45] SMILES Parse Error: Failed parsing SMILES 'N=C(N)CC(l)C' for input: 'N=C(N)CC(l)C'\n",
      "[17:11:45] SMILES Parse Error: Failed parsing SMILES 'N=C(N)CC(l)C' for input: 'N=C(N)CC(l)C'\n"
     ]
    },
    {
     "name": "stdout",
     "output_type": "stream",
     "text": [
      "CCCCS and CCCCCS already exist in ind_descriptors\n",
      "CCB(O)O and CCCB(O)O already exist in ind_descriptors\n",
      "N#CCN and N#CC(N)C already exist in ind_descriptors\n",
      "CC(C)(N)C#N and CCC(C)(N)C#N already exist in ind_descriptors\n",
      "CCN(O)CC and CCCN(O)CC already exist in ind_descriptors\n",
      "C=CCNC(=N)N and CC=CCNC(=N)N already exist in ind_descriptors\n",
      "C1COCO1 and CC1COCO1 already exist in ind_descriptors\n",
      "Cc1cc[nH]c1 and CCc1cc[nH]c1 already exist in ind_descriptors\n",
      "COC(=O)NN and CCOC(=O)NN already exist in ind_descriptors\n",
      "Calculating chemical descriptors for C[P+](C)(C)C and CC[P+](C)(C)C\n",
      "CNC and CCNC already exist in ind_descriptors\n",
      "Calculating chemical descriptors for N[13C](N)=O and N[13C(C)](N)=O\n",
      "CC(=O)CCl and CCC(=O)CCl already exist in ind_descriptors\n"
     ]
    },
    {
     "name": "stderr",
     "output_type": "stream",
     "text": [
      "RDKit ERROR: [17:11:46] UFFTYPER: Unrecognized charge state for atom: 1\n",
      "[17:11:46] UFFTYPER: Unrecognized charge state for atom: 1\n",
      "RDKit ERROR: [17:11:46] SMILES Parse Error: syntax error while parsing: N[13C(C)](N)=O\n",
      "[17:11:46] SMILES Parse Error: syntax error while parsing: N[13C(C)](N)=O\n",
      "RDKit ERROR: [17:11:46] SMILES Parse Error: Failed parsing SMILES 'N[13C(C)](N)=O' for input: 'N[13C(C)](N)=O'\n",
      "[17:11:46] SMILES Parse Error: Failed parsing SMILES 'N[13C(C)](N)=O' for input: 'N[13C(C)](N)=O'\n"
     ]
    },
    {
     "name": "stdout",
     "output_type": "stream",
     "text": [
      "NCc1nnn[nH]1 and C(N)Cc1nnn[nH]1 already exist in ind_descriptors\n",
      "O=CNNC=O and O=C(C)NNC=O already exist in ind_descriptors\n",
      "CC(C)C(N)=O and CCC(C)C(N)=O already exist in ind_descriptors\n",
      "CC[N+](=O)[O-] and CCC[N+](=O)[O-] already exist in ind_descriptors\n",
      "CC(O)CCO and CCC(O)CCO already exist in ind_descriptors\n",
      "C#CCNCC and CC#CCNCC already exist in ind_descriptors\n",
      "O=C(O)CCO and O=C(O)CC(O)C already exist in ind_descriptors\n",
      "CC=CCC#N and CCC=CCC#N already exist in ind_descriptors\n",
      "C/C=C/C=C/CO and CC/C=C/C=C/CO already exist in ind_descriptors\n",
      "COC(=O)OC and CCOC(=O)OC already exist in ind_descriptors\n",
      "C#CCNC and CC#CCNC already exist in ind_descriptors\n",
      "C=CCON and CC=CCON already exist in ind_descriptors\n",
      "OCCF and C(O)CCF already exist in ind_descriptors\n",
      "CNC=O and CCNC=O already exist in ind_descriptors\n",
      "OC1CCNC1 and C(O)C1CCNC1 already exist in ind_descriptors\n",
      "CN(C)CC#N and CCN(C)CC#N already exist in ind_descriptors\n",
      "CCC and CCCC already exist in ind_descriptors\n",
      "CCCC(=O)O and CCCCC(=O)O already exist in ind_descriptors\n",
      "C=CCCC=C and CC=CCCC=C already exist in ind_descriptors\n",
      "C=CCOC=O and CC=CCOC=O already exist in ind_descriptors\n",
      "Calculating chemical descriptors for [Na+].[O-][Cl+][O-] and [Na+].[O-][C(C)l+][O-]\n",
      "COC=O and CCOC=O already exist in ind_descriptors\n",
      "NC1=NCCCN1 and C(N)C1=NCCCN1 already exist in ind_descriptors\n",
      "O=CCC=O and O=C(C)CC=O already exist in ind_descriptors\n"
     ]
    },
    {
     "name": "stderr",
     "output_type": "stream",
     "text": [
      "RDKit ERROR: [17:11:47] SMILES Parse Error: syntax error while parsing: [Na+].[O-][C(C)l+][O-]\n",
      "[17:11:47] SMILES Parse Error: syntax error while parsing: [Na+].[O-][C(C)l+][O-]\n",
      "RDKit ERROR: [17:11:47] SMILES Parse Error: Failed parsing SMILES '[Na+].[O-][C(C)l+][O-]' for input: '[Na+].[O-][C(C)l+][O-]'\n",
      "[17:11:47] SMILES Parse Error: Failed parsing SMILES '[Na+].[O-][C(C)l+][O-]' for input: '[Na+].[O-][C(C)l+][O-]'\n"
     ]
    },
    {
     "name": "stdout",
     "output_type": "stream",
     "text": [
      "C/C=C(\\C)C=O and CC/C=C(\\C)C=O already exist in ind_descriptors\n",
      "CCNCCN and CCCNCCN already exist in ind_descriptors\n",
      "O=C(O)CS and O=C(O)C(S)C already exist in ind_descriptors\n",
      "O=[N+]([O-])CCO and O=[N+]([O-])CC(O)C already exist in ind_descriptors\n",
      "Cc1ccc(C)[nH]1 and CCc1ccc(C)[nH]1 already exist in ind_descriptors\n",
      "CCC(C)C and CCCC(C)C already exist in ind_descriptors\n",
      "Nc1ccccc1 and C(N)c1ccccc1 already exist in ind_descriptors\n",
      "Calculating chemical descriptors for [2H]C([2H])([2H])NC=O and [2H]C(C)([2H])([2H])NC=O\n",
      "Calculating chemical descriptors for O=C(O)CCl and O=C(O)CC(l)C\n",
      "CC(C)(C)Cl and CCC(C)(C)Cl already exist in ind_descriptors\n"
     ]
    },
    {
     "name": "stderr",
     "output_type": "stream",
     "text": [
      "RDKit ERROR: [17:11:48] Explicit valence for atom # 1 C, 5, is greater than permitted\n",
      "[17:11:48] Explicit valence for atom # 1 C, 5, is greater than permitted\n",
      "RDKit ERROR: [17:11:48] SMILES Parse Error: syntax error while parsing: O=C(O)CC(l)C\n",
      "[17:11:48] SMILES Parse Error: syntax error while parsing: O=C(O)CC(l)C\n",
      "RDKit ERROR: [17:11:48] SMILES Parse Error: Failed parsing SMILES 'O=C(O)CC(l)C' for input: 'O=C(O)CC(l)C'\n",
      "[17:11:48] SMILES Parse Error: Failed parsing SMILES 'O=C(O)CC(l)C' for input: 'O=C(O)CC(l)C'\n",
      "RDKit ERROR: [17:11:48] SMILES Parse Error: syntax error while parsing: O=CC1CCCC(1)C\n",
      "[17:11:48] SMILES Parse Error: syntax error while parsing: O=CC1CCCC(1)C\n",
      "RDKit ERROR: [17:11:48] SMILES Parse Error: Failed parsing SMILES 'O=CC1CCCC(1)C' for input: 'O=CC1CCCC(1)C'\n",
      "[17:11:48] SMILES Parse Error: Failed parsing SMILES 'O=CC1CCCC(1)C' for input: 'O=CC1CCCC(1)C'\n"
     ]
    },
    {
     "name": "stdout",
     "output_type": "stream",
     "text": [
      "Calculating chemical descriptors for O=CC1CCCC1 and O=CC1CCCC(1)C\n",
      "CC/C=C\\CO and CCC/C=C\\CO already exist in ind_descriptors\n",
      "C1CSCN1 and CC1CSCN1 already exist in ind_descriptors\n",
      "C1CCOC1 and CC1CCOC1 already exist in ind_descriptors\n",
      "CN and CCN already exist in ind_descriptors\n",
      "C[C@H](O)C(=O)O and CC[C@H](O)C(=O)O already exist in ind_descriptors\n",
      "CC(C)(N)CO and CCC(C)(N)CO already exist in ind_descriptors\n",
      "CCCCl and CCCCCl already exist in ind_descriptors\n",
      "Calculating chemical descriptors for N#CCCCl and N#CCCC(l)C\n"
     ]
    },
    {
     "name": "stderr",
     "output_type": "stream",
     "text": [
      "RDKit ERROR: [17:11:48] SMILES Parse Error: syntax error while parsing: N#CCCC(l)C\n",
      "[17:11:48] SMILES Parse Error: syntax error while parsing: N#CCCC(l)C\n",
      "RDKit ERROR: [17:11:48] SMILES Parse Error: Failed parsing SMILES 'N#CCCC(l)C' for input: 'N#CCCC(l)C'\n",
      "[17:11:48] SMILES Parse Error: Failed parsing SMILES 'N#CCCC(l)C' for input: 'N#CCCC(l)C'\n",
      "RDKit ERROR: [17:11:49] Explicit valence for atom # 1 Cl, 2, is greater than permitted\n",
      "[17:11:49] Explicit valence for atom # 1 Cl, 2, is greater than permitted\n"
     ]
    },
    {
     "name": "stdout",
     "output_type": "stream",
     "text": [
      "OCCCCF and C(O)CCCCF already exist in ind_descriptors\n",
      "C[C@H](O)CCO and CC[C@H](O)CCO already exist in ind_descriptors\n",
      "Calculating chemical descriptors for ClCCCl and CClCCCl\n",
      "O=C[O-].[Na+] and O=C(C)[O-].[Na+] already exist in ind_descriptors\n",
      "Calculating chemical descriptors for O=C1NCCO1 and O=C(C)1NCCO1\n"
     ]
    },
    {
     "name": "stderr",
     "output_type": "stream",
     "text": [
      "RDKit ERROR: [17:11:49] Explicit valence for atom # 1 C, 5, is greater than permitted\n",
      "[17:11:49] Explicit valence for atom # 1 C, 5, is greater than permitted\n",
      "RDKit ERROR: [17:11:49] SMILES Parse Error: syntax error while parsing: C([)C-]#N.[Na+]\n",
      "[17:11:49] SMILES Parse Error: syntax error while parsing: C([)C-]#N.[Na+]\n",
      "RDKit ERROR: [17:11:49] SMILES Parse Error: Failed parsing SMILES 'C([)C-]#N.[Na+]' for input: 'C([)C-]#N.[Na+]'\n",
      "[17:11:49] SMILES Parse Error: Failed parsing SMILES 'C([)C-]#N.[Na+]' for input: 'C([)C-]#N.[Na+]'\n"
     ]
    },
    {
     "name": "stdout",
     "output_type": "stream",
     "text": [
      "CCCN=C=O and CCCCN=C=O already exist in ind_descriptors\n",
      "CC1CCNC1=O and CCC1CCNC1=O already exist in ind_descriptors\n",
      "Calculating chemical descriptors for [C-]#N.[Na+] and C([)C-]#N.[Na+]\n",
      "C=CCN=C=S and CC=CCN=C=S already exist in ind_descriptors\n",
      "CC(C)C=O and CCC(C)C=O already exist in ind_descriptors\n",
      "Calculating chemical descriptors for N=C(N)NN=O and N=C(C)(N)NN=O\n",
      "CC(=N)S and CCC(=N)S already exist in ind_descriptors\n",
      "O=C(O)CF and O=C(O)C(F)C already exist in ind_descriptors\n",
      "CC1CCCNC1 and CCC1CCCNC1 already exist in ind_descriptors\n"
     ]
    },
    {
     "name": "stderr",
     "output_type": "stream",
     "text": [
      "RDKit ERROR: [17:11:49] Explicit valence for atom # 1 C, 5, is greater than permitted\n",
      "[17:11:49] Explicit valence for atom # 1 C, 5, is greater than permitted\n"
     ]
    },
    {
     "name": "stdout",
     "output_type": "stream",
     "text": [
      "C=C(C)C(=O)O and CC=C(C)C(=O)O already exist in ind_descriptors\n",
      "CC1CN=C(N)C1 and CCC1CN=C(N)C1 already exist in ind_descriptors\n",
      "CSCCO and CCSCCO already exist in ind_descriptors\n",
      "OCCNCO and C(O)CCNCO already exist in ind_descriptors\n",
      "CP(=O)(O)O and CCP(=O)(O)O already exist in ind_descriptors\n",
      "CC1CC(=O)O1 and CCC1CC(=O)O1 already exist in ind_descriptors\n",
      "NC(CO)CO and C(N)C(CO)CO already exist in ind_descriptors\n",
      "C=CNC#N and CC=CNC#N already exist in ind_descriptors\n",
      "CSSC and CCSSC already exist in ind_descriptors\n",
      "C[N+](C)(C)C.[OH-] and CC[N+](C)(C)C.[OH-] already exist in ind_descriptors\n",
      "Calculating chemical descriptors for O=C1C=CCC1 and O=C1C=CCC(1)C\n",
      "C=CCC and CC=CCC already exist in ind_descriptors\n",
      "Calculating chemical descriptors for [C-]#[N+][O-] and C([)C-]#[N+][O-]\n"
     ]
    },
    {
     "name": "stderr",
     "output_type": "stream",
     "text": [
      "RDKit ERROR: [17:11:50] SMILES Parse Error: syntax error while parsing: O=C1C=CCC(1)C\n",
      "[17:11:50] SMILES Parse Error: syntax error while parsing: O=C1C=CCC(1)C\n",
      "RDKit ERROR: [17:11:50] SMILES Parse Error: Failed parsing SMILES 'O=C1C=CCC(1)C' for input: 'O=C1C=CCC(1)C'\n",
      "[17:11:50] SMILES Parse Error: Failed parsing SMILES 'O=C1C=CCC(1)C' for input: 'O=C1C=CCC(1)C'\n"
     ]
    },
    {
     "name": "stdout",
     "output_type": "stream",
     "text": [
      "CC(C)NO and CCC(C)NO already exist in ind_descriptors\n",
      "CC[C@@H](N)CO and CCC[C@@H](N)CO already exist in ind_descriptors\n",
      "C#C and CC#C already exist in ind_descriptors\n",
      "Calculating chemical descriptors for N=C(N)NO and N=C(C)(N)NO\n"
     ]
    },
    {
     "name": "stderr",
     "output_type": "stream",
     "text": [
      "RDKit ERROR: [17:11:50] Explicit valence for atom # 1 C, 5, is greater than permitted\n",
      "[17:11:50] Explicit valence for atom # 1 C, 5, is greater than permitted\n"
     ]
    },
    {
     "name": "stdout",
     "output_type": "stream",
     "text": [
      "NC1C=NNC1=O and C(N)C1C=NNC1=O already exist in ind_descriptors\n",
      "CN(CC#N)N=O and CCN(CC#N)N=O already exist in ind_descriptors\n",
      "NCC=O and C(N)CC=O already exist in ind_descriptors\n",
      "CCC=C=CCN and CCCC=C=CCN already exist in ind_descriptors\n",
      "Calculating chemical descriptors for NNC(=O)NO and NNC(C)(=O)NO\n",
      "CC(C)NC=O and CCC(C)NC=O already exist in ind_descriptors\n",
      "CCC=O and CCCC=O already exist in ind_descriptors\n",
      "NNCCO and NNCC(O)C already exist in ind_descriptors\n"
     ]
    },
    {
     "name": "stderr",
     "output_type": "stream",
     "text": [
      "RDKit ERROR: [17:11:50] Explicit valence for atom # 2 C, 5, is greater than permitted\n",
      "[17:11:50] Explicit valence for atom # 2 C, 5, is greater than permitted\n"
     ]
    },
    {
     "name": "stdout",
     "output_type": "stream",
     "text": [
      "Calculating chemical descriptors for N.NC(=O)O and N.NC(C)(=O)O\n",
      "Calculating chemical descriptors for O=C(O)C(F)F and O=C(C)(O)C(F)F\n",
      "CCNC and CCCNC already exist in ind_descriptors\n",
      "C/C=C\\CO and CC/C=C\\CO already exist in ind_descriptors\n"
     ]
    },
    {
     "name": "stderr",
     "output_type": "stream",
     "text": [
      "RDKit ERROR: [17:11:51] Explicit valence for atom # 2 C, 5, is greater than permitted\n",
      "[17:11:51] Explicit valence for atom # 2 C, 5, is greater than permitted\n",
      "RDKit ERROR: [17:11:51] Explicit valence for atom # 1 C, 5, is greater than permitted\n",
      "[17:11:51] Explicit valence for atom # 1 C, 5, is greater than permitted\n"
     ]
    },
    {
     "name": "stdout",
     "output_type": "stream",
     "text": [
      "COC(=O)Cl and CCOC(=O)Cl already exist in ind_descriptors\n",
      "CCNN and CCCNN already exist in ind_descriptors\n",
      "CNCCCN and CCNCCCN already exist in ind_descriptors\n",
      "CC(C)C(=O)O and CCC(C)C(=O)O already exist in ind_descriptors\n",
      "OCC#CCO and C(O)CC#CCO already exist in ind_descriptors\n",
      "OCCCCO and C(O)CCCCO already exist in ind_descriptors\n",
      "Cc1ccc(C)o1 and CCc1ccc(C)o1 already exist in ind_descriptors\n",
      "CCC1CO1 and CCCC1CO1 already exist in ind_descriptors\n",
      "Cl.NO and CCl.NO already exist in ind_descriptors\n",
      "CC(C)CO and CCC(C)CO already exist in ind_descriptors\n",
      "Calculating chemical descriptors for O=C(O)CNO and O=C(C)(O)CNO\n",
      "Calculating chemical descriptors for [C-]#[N+]C#CCCN and C([)C-]#[N+]C#CCCN\n"
     ]
    },
    {
     "name": "stderr",
     "output_type": "stream",
     "text": [
      "RDKit ERROR: [17:11:51] Explicit valence for atom # 1 C, 5, is greater than permitted\n",
      "[17:11:51] Explicit valence for atom # 1 C, 5, is greater than permitted\n",
      "RDKit ERROR: [17:11:51] SMILES Parse Error: syntax error while parsing: C([)C-]#[N+]C#CCCN\n",
      "[17:11:51] SMILES Parse Error: syntax error while parsing: C([)C-]#[N+]C#CCCN\n",
      "RDKit ERROR: [17:11:51] SMILES Parse Error: Failed parsing SMILES 'C([)C-]#[N+]C#CCCN' for input: 'C([)C-]#[N+]C#CCCN'\n",
      "[17:11:51] SMILES Parse Error: Failed parsing SMILES 'C([)C-]#[N+]C#CCCN' for input: 'C([)C-]#[N+]C#CCCN'\n"
     ]
    },
    {
     "name": "stdout",
     "output_type": "stream",
     "text": [
      "CC(N)Cl and CCC(N)Cl already exist in ind_descriptors\n",
      "CC1CCCC1 and CCC1CCCC1 already exist in ind_descriptors\n",
      "C=CC(=O)NC and CC=CC(=O)NC already exist in ind_descriptors\n",
      "C1CCCC1 and CC1CCCC1 already exist in ind_descriptors\n",
      "C#[N+][O-] and CC#[N+][O-] already exist in ind_descriptors\n",
      "CCN and CCCN already exist in ind_descriptors\n",
      "CCC(N)CO and CCCC(N)CO already exist in ind_descriptors\n",
      "CCCCN=C=O and CCCCCN=C=O already exist in ind_descriptors\n",
      "CC(C)CCl and CCC(C)CCl already exist in ind_descriptors\n",
      "C1CCCCC1 and CC1CCCCC1 already exist in ind_descriptors\n",
      "CCN(C)N=O and CCCN(C)N=O already exist in ind_descriptors\n",
      "Calculating chemical descriptors for O=C1CCCN1 and O=C(C)1CCCN1\n"
     ]
    },
    {
     "name": "stderr",
     "output_type": "stream",
     "text": [
      "RDKit ERROR: [17:11:52] Explicit valence for atom # 1 C, 5, is greater than permitted\n",
      "[17:11:52] Explicit valence for atom # 1 C, 5, is greater than permitted\n",
      "RDKit ERROR: [17:11:52] Explicit valence for atom # 1 C, 5, is greater than permitted\n",
      "[17:11:52] Explicit valence for atom # 1 C, 5, is greater than permitted\n"
     ]
    },
    {
     "name": "stdout",
     "output_type": "stream",
     "text": [
      "CSC(=N)N and CCSC(=N)N already exist in ind_descriptors\n",
      "C=C[C@@H](O)CC#N and CC=C[C@@H](O)CC#N already exist in ind_descriptors\n",
      "Calculating chemical descriptors for N=C(NN)NO and N=C(C)(NN)NO\n",
      "CC1CCNCC1 and CCC1CCNCC1 already exist in ind_descriptors\n",
      "C=CC(=O)O and CC=CC(=O)O already exist in ind_descriptors\n",
      "C#CC and CC#CC already exist in ind_descriptors\n",
      "COC(=O)CN and CCOC(=O)CN already exist in ind_descriptors\n",
      "CN1C=CNC1N and CCN1C=CNC1N already exist in ind_descriptors\n",
      "C#CC(=O)O and CC#CC(=O)O already exist in ind_descriptors\n",
      "CC(=O)OO and CCC(=O)OO already exist in ind_descriptors\n",
      "Calculating chemical descriptors for O=CC1CCC1 and O=CC1CCC(1)C\n",
      "CN(C)C=S and CCN(C)C=S already exist in ind_descriptors\n"
     ]
    },
    {
     "name": "stderr",
     "output_type": "stream",
     "text": [
      "RDKit ERROR: [17:11:53] SMILES Parse Error: syntax error while parsing: O=CC1CCC(1)C\n",
      "[17:11:53] SMILES Parse Error: syntax error while parsing: O=CC1CCC(1)C\n",
      "RDKit ERROR: [17:11:53] SMILES Parse Error: Failed parsing SMILES 'O=CC1CCC(1)C' for input: 'O=CC1CCC(1)C'\n",
      "[17:11:53] SMILES Parse Error: Failed parsing SMILES 'O=CC1CCC(1)C' for input: 'O=CC1CCC(1)C'\n"
     ]
    },
    {
     "name": "stdout",
     "output_type": "stream",
     "text": [
      "CC(C)S and CCC(C)S already exist in ind_descriptors\n",
      "N#C/C=C/C#N and N#C/C(C)=C/C#N already exist in ind_descriptors\n",
      "CCC1OC1C and CCCC1OC1C already exist in ind_descriptors\n",
      "CC(C)C and CCC(C)C already exist in ind_descriptors\n",
      "CCSCC and CCCSCC already exist in ind_descriptors\n",
      "CCCC(N)=O and CCCCC(N)=O already exist in ind_descriptors\n",
      "C=CCCC and CC=CCCC already exist in ind_descriptors\n",
      "NCN and C(N)CN already exist in ind_descriptors\n",
      "C1=CCC2OC2C1 and CC1=CCC2OC2C1 already exist in ind_descriptors\n",
      "C=NO and CC=NO already exist in ind_descriptors\n",
      "C=CCl and CC=CCl already exist in ind_descriptors\n",
      "CC/C=C/C=O and CCC/C=C/C=O already exist in ind_descriptors\n",
      "CN(C)C=[N+]=[N-] and CCN(C)C=[N+]=[N-] already exist in ind_descriptors\n",
      "CC(=O)NN and CCC(=O)NN already exist in ind_descriptors\n",
      "CCC(C)CN and CCCC(C)CN already exist in ind_descriptors\n",
      "CC1=CCC(=O)O1 and CCC1=CCC(=O)O1 already exist in ind_descriptors\n",
      "N#CC1CN1 and N#CC(C)1CN1 already exist in ind_descriptors\n",
      "Calculating chemical descriptors for O=NN1CC=CC1 and O=NN1CC=CC(1)C\n",
      "C1OC1C1CO1 and CC1OC1C1CO1 already exist in ind_descriptors\n",
      "NCC(F)F and C(N)CC(F)F already exist in ind_descriptors\n",
      "C1=COCCC1 and CC1=COCCC1 already exist in ind_descriptors\n"
     ]
    },
    {
     "name": "stderr",
     "output_type": "stream",
     "text": [
      "RDKit ERROR: [17:11:54] SMILES Parse Error: syntax error while parsing: O=NN1CC=CC(1)C\n",
      "[17:11:54] SMILES Parse Error: syntax error while parsing: O=NN1CC=CC(1)C\n",
      "RDKit ERROR: [17:11:54] SMILES Parse Error: Failed parsing SMILES 'O=NN1CC=CC(1)C' for input: 'O=NN1CC=CC(1)C'\n",
      "[17:11:54] SMILES Parse Error: Failed parsing SMILES 'O=NN1CC=CC(1)C' for input: 'O=NN1CC=CC(1)C'\n"
     ]
    },
    {
     "name": "stdout",
     "output_type": "stream",
     "text": [
      "CCOC(N)=O and CCCOC(N)=O already exist in ind_descriptors\n",
      "O=Cc1ccc[nH]1 and O=C(C)c1ccc[nH]1 already exist in ind_descriptors\n",
      "Calculating chemical descriptors for O=C1NCCN1 and O=C(C)1NCCN1\n",
      "CCl and CCCl already exist in ind_descriptors\n"
     ]
    },
    {
     "name": "stderr",
     "output_type": "stream",
     "text": [
      "RDKit ERROR: [17:11:54] Explicit valence for atom # 1 C, 5, is greater than permitted\n",
      "[17:11:54] Explicit valence for atom # 1 C, 5, is greater than permitted\n",
      "RDKit ERROR: [17:11:54] Explicit valence for atom # 1 C, 5, is greater than permitted\n",
      "[17:11:54] Explicit valence for atom # 1 C, 5, is greater than permitted\n"
     ]
    },
    {
     "name": "stdout",
     "output_type": "stream",
     "text": [
      "NCCCl and C(N)CCCl already exist in ind_descriptors\n",
      "Calculating chemical descriptors for O=C1OCCO1 and O=C(C)1OCCO1\n",
      "C1CCNC1 and CC1CCNC1 already exist in ind_descriptors\n",
      "OCCC(F)F and C(O)CCC(F)F already exist in ind_descriptors\n",
      "CN1CC=CC1=O and CCN1CC=CC1=O already exist in ind_descriptors\n",
      "CON(C)N=O and CCON(C)N=O already exist in ind_descriptors\n",
      "C=C(C)C#N and CC=C(C)C#N already exist in ind_descriptors\n",
      "Calculating chemical descriptors for O=C(O)[C@@H]1CN1 and O=C(C)(O)[C@@H]1CN1\n"
     ]
    },
    {
     "name": "stderr",
     "output_type": "stream",
     "text": [
      "RDKit ERROR: [17:11:55] Explicit valence for atom # 1 C, 5, is greater than permitted\n",
      "[17:11:55] Explicit valence for atom # 1 C, 5, is greater than permitted\n"
     ]
    },
    {
     "name": "stdout",
     "output_type": "stream",
     "text": [
      "Cc1cc[nH]n1 and CCc1cc[nH]n1 already exist in ind_descriptors\n",
      "NCC(=O)CN and C(N)CC(=O)CN already exist in ind_descriptors\n",
      "CN(C)C=O and CCN(C)C=O already exist in ind_descriptors\n",
      "OC1CCOC1 and C(O)C1CCOC1 already exist in ind_descriptors\n",
      "C/C=C/C=O and CC/C=C/C=O already exist in ind_descriptors\n",
      "CNO and CCNO already exist in ind_descriptors\n",
      "Calculating chemical descriptors for N#CO and N#C(O)C\n",
      "CC(C)N(C)C and CCC(C)N(C)C already exist in ind_descriptors\n"
     ]
    },
    {
     "name": "stderr",
     "output_type": "stream",
     "text": [
      "RDKit ERROR: [17:11:55] Explicit valence for atom # 1 C, 5, is greater than permitted\n",
      "[17:11:55] Explicit valence for atom # 1 C, 5, is greater than permitted\n",
      "RDKit ERROR: [17:11:55] Explicit valence for atom # 1 C, 5, is greater than permitted\n",
      "[17:11:55] Explicit valence for atom # 1 C, 5, is greater than permitted\n"
     ]
    },
    {
     "name": "stdout",
     "output_type": "stream",
     "text": [
      "C=CCCCC and CC=CCCCC already exist in ind_descriptors\n",
      "Calculating chemical descriptors for O=C1C=CCO1 and O=C(C)1C=CCO1\n",
      "C1NC2CNC1N2 and CC1NC2CNC1N2 already exist in ind_descriptors\n",
      "C/C=C/C(=O)NC and CC/C=C/C(=O)NC already exist in ind_descriptors\n",
      "Nc1n[nH]c(N)n1 and C(N)c1n[nH]c(N)n1 already exist in ind_descriptors\n",
      "N#[N+]C1N=CC[N-]1 and N#[N+]C(C)1N=CC[N-]1 already exist in ind_descriptors\n",
      "Calculating chemical descriptors for O=C1C=CC(=O)N1 and O=C(C)1C=CC(=O)N1\n",
      "Calculating chemical descriptors for ClC=CCl and CClC=CCl\n"
     ]
    },
    {
     "name": "stderr",
     "output_type": "stream",
     "text": [
      "RDKit ERROR: [17:11:55] Explicit valence for atom # 1 C, 5, is greater than permitted\n",
      "[17:11:55] Explicit valence for atom # 1 C, 5, is greater than permitted\n",
      "RDKit ERROR: [17:11:55] Explicit valence for atom # 1 Cl, 2, is greater than permitted\n",
      "[17:11:55] Explicit valence for atom # 1 Cl, 2, is greater than permitted\n"
     ]
    },
    {
     "name": "stdout",
     "output_type": "stream",
     "text": [
      "C#CC=O and CC#CC=O already exist in ind_descriptors\n",
      "C1CCCNCC1 and CC1CCCNCC1 already exist in ind_descriptors\n",
      "FC1NC=CN1 and C(F)C1NC=CN1 already exist in ind_descriptors\n",
      "C[C@H]1CC(=O)O1 and CC[C@H]1CC(=O)O1 already exist in ind_descriptors\n",
      "Calculating chemical descriptors for O=C1CCCCC1 and O=C1CCCCC(1)C\n",
      "NCC(=O)S and C(N)CC(=O)S already exist in ind_descriptors\n",
      "NC(N)=S and C(N)C(N)=S already exist in ind_descriptors\n",
      "C/C=C/C(N)=O and CC/C=C/C(N)=O already exist in ind_descriptors\n"
     ]
    },
    {
     "name": "stderr",
     "output_type": "stream",
     "text": [
      "RDKit ERROR: [17:11:56] SMILES Parse Error: syntax error while parsing: O=C1CCCCC(1)C\n",
      "[17:11:56] SMILES Parse Error: syntax error while parsing: O=C1CCCCC(1)C\n",
      "RDKit ERROR: [17:11:56] SMILES Parse Error: Failed parsing SMILES 'O=C1CCCCC(1)C' for input: 'O=C1CCCCC(1)C'\n",
      "[17:11:56] SMILES Parse Error: Failed parsing SMILES 'O=C1CCCCC(1)C' for input: 'O=C1CCCCC(1)C'\n"
     ]
    },
    {
     "name": "stdout",
     "output_type": "stream",
     "text": [
      "CS(=O)(=O)F and CCS(=O)(=O)F already exist in ind_descriptors\n",
      "Calculating chemical descriptors for O=CCCl and O=CCC(l)C\n",
      "CC/C=C\\C#N and CCC/C=C\\C#N already exist in ind_descriptors\n",
      "CNNC and CCNNC already exist in ind_descriptors\n"
     ]
    },
    {
     "name": "stderr",
     "output_type": "stream",
     "text": [
      "RDKit ERROR: [17:11:56] SMILES Parse Error: syntax error while parsing: O=CCC(l)C\n",
      "[17:11:56] SMILES Parse Error: syntax error while parsing: O=CCC(l)C\n",
      "RDKit ERROR: [17:11:56] SMILES Parse Error: Failed parsing SMILES 'O=CCC(l)C' for input: 'O=CCC(l)C'\n",
      "[17:11:56] SMILES Parse Error: Failed parsing SMILES 'O=CCC(l)C' for input: 'O=CCC(l)C'\n"
     ]
    },
    {
     "name": "stdout",
     "output_type": "stream",
     "text": [
      "CCC(N)=O and CCCC(N)=O already exist in ind_descriptors\n",
      "Calculating chemical descriptors for N#CC(=O)C#N and N#CC(C)(=O)C#N\n",
      "NCCCP and C(N)CCCP already exist in ind_descriptors\n",
      "CC1NC=CN1 and CCC1NC=CN1 already exist in ind_descriptors\n",
      "CCCCC=O and CCCCCC=O already exist in ind_descriptors\n"
     ]
    },
    {
     "name": "stderr",
     "output_type": "stream",
     "text": [
      "RDKit ERROR: [17:11:56] Explicit valence for atom # 2 C, 5, is greater than permitted\n",
      "[17:11:56] Explicit valence for atom # 2 C, 5, is greater than permitted\n"
     ]
    },
    {
     "name": "stdout",
     "output_type": "stream",
     "text": [
      "Calculating chemical descriptors for O=C1CNCN1 and O=C(C)1CNCN1\n",
      "CCNNCC and CCCNNCC already exist in ind_descriptors\n",
      "C1CO1 and CC1CO1 already exist in ind_descriptors\n",
      "Calculating chemical descriptors for [22Na+].[Cl-] and [22Na+].[C(C)l-]\n"
     ]
    },
    {
     "name": "stderr",
     "output_type": "stream",
     "text": [
      "RDKit ERROR: [17:11:56] Explicit valence for atom # 1 C, 5, is greater than permitted\n",
      "[17:11:56] Explicit valence for atom # 1 C, 5, is greater than permitted\n",
      "RDKit ERROR: [17:11:57] SMILES Parse Error: syntax error while parsing: [22Na+].[C(C)l-]\n",
      "[17:11:57] SMILES Parse Error: syntax error while parsing: [22Na+].[C(C)l-]\n",
      "RDKit ERROR: [17:11:57] SMILES Parse Error: Failed parsing SMILES '[22Na+].[C(C)l-]' for input: '[22Na+].[C(C)l-]'\n",
      "[17:11:57] SMILES Parse Error: Failed parsing SMILES '[22Na+].[C(C)l-]' for input: '[22Na+].[C(C)l-]'\n"
     ]
    },
    {
     "name": "stdout",
     "output_type": "stream",
     "text": [
      "Calculating chemical descriptors for ON=C1CCCC1 and ON=C1CCCC(1)C\n",
      "Calculating chemical descriptors for BC#N.CN(C)C and BC#N.CN(C)Cc\n",
      "CBr and CCBr already exist in ind_descriptors\n",
      "CC1CN1 and CCC1CN1 already exist in ind_descriptors\n"
     ]
    },
    {
     "name": "stderr",
     "output_type": "stream",
     "text": [
      "RDKit ERROR: [17:11:57] SMILES Parse Error: syntax error while parsing: ON=C1CCCC(1)C\n",
      "[17:11:57] SMILES Parse Error: syntax error while parsing: ON=C1CCCC(1)C\n",
      "RDKit ERROR: [17:11:57] SMILES Parse Error: Failed parsing SMILES 'ON=C1CCCC(1)C' for input: 'ON=C1CCCC(1)C'\n",
      "[17:11:57] SMILES Parse Error: Failed parsing SMILES 'ON=C1CCCC(1)C' for input: 'ON=C1CCCC(1)C'\n",
      "RDKit ERROR: [17:11:57] non-ring atom 7 marked aromatic\n",
      "[17:11:57] non-ring atom 7 marked aromatic\n"
     ]
    },
    {
     "name": "stdout",
     "output_type": "stream",
     "text": [
      "CCC(O)CC and CCCC(O)CC already exist in ind_descriptors\n",
      "NCB(O)O and C(N)CB(O)O already exist in ind_descriptors\n",
      "C1=CCC=C1 and CC1=CCC=C1 already exist in ind_descriptors\n",
      "Calculating chemical descriptors for O=C(O)C1C=C1 and O=C(O)C1C=C(1)C\n"
     ]
    },
    {
     "name": "stderr",
     "output_type": "stream",
     "text": [
      "RDKit ERROR: [17:11:57] SMILES Parse Error: syntax error while parsing: O=C(O)C1C=C(1)C\n",
      "[17:11:57] SMILES Parse Error: syntax error while parsing: O=C(O)C1C=C(1)C\n",
      "RDKit ERROR: [17:11:57] SMILES Parse Error: Failed parsing SMILES 'O=C(O)C1C=C(1)C' for input: 'O=C(O)C1C=C(1)C'\n",
      "[17:11:57] SMILES Parse Error: Failed parsing SMILES 'O=C(O)C1C=C(1)C' for input: 'O=C(O)C1C=C(1)C'\n"
     ]
    },
    {
     "name": "stdout",
     "output_type": "stream",
     "text": [
      "CC(C)(C)NO and CCC(C)(C)NO already exist in ind_descriptors\n",
      "CC=CC(=O)O and CCC=CC(=O)O already exist in ind_descriptors\n",
      "CCCC=O and CCCCC=O already exist in ind_descriptors\n",
      "OCC1CO1 and C(O)CC1CO1 already exist in ind_descriptors\n",
      "Calculating chemical descriptors for O=C1C=C(O)CN1 and O=C(C)1C=C(O)CN1\n",
      "C1COCCO1 and CC1COCCO1 already exist in ind_descriptors\n",
      "CC1CCCO1 and CCC1CCCO1 already exist in ind_descriptors\n",
      "Cc1nnn[nH]1 and CCc1nnn[nH]1 already exist in ind_descriptors\n"
     ]
    },
    {
     "name": "stderr",
     "output_type": "stream",
     "text": [
      "RDKit ERROR: [17:11:57] Explicit valence for atom # 1 C, 5, is greater than permitted\n",
      "[17:11:57] Explicit valence for atom # 1 C, 5, is greater than permitted\n"
     ]
    },
    {
     "name": "stdout",
     "output_type": "stream",
     "text": [
      "NC(=O)O and C(N)C(=O)O already exist in ind_descriptors\n",
      "CC(C)CCN and CCC(C)CCN already exist in ind_descriptors\n",
      "Calculating chemical descriptors for ClCC1CO1 and CClCC1CO1\n",
      "CC(O)CCl and CCC(O)CCl already exist in ind_descriptors\n"
     ]
    },
    {
     "name": "stderr",
     "output_type": "stream",
     "text": [
      "RDKit ERROR: [17:11:58] Explicit valence for atom # 1 Cl, 2, is greater than permitted\n",
      "[17:11:58] Explicit valence for atom # 1 Cl, 2, is greater than permitted\n"
     ]
    },
    {
     "name": "stdout",
     "output_type": "stream",
     "text": [
      "C[N+](C)(C)C and CC[N+](C)(C)C already exist in ind_descriptors\n",
      "CCC(C)=NO and CCCC(C)=NO already exist in ind_descriptors\n",
      "NCCC(N)=O and C(N)CCC(N)=O already exist in ind_descriptors\n",
      "C[11C](=O)[O-].[Na+] and CC[11C](=O)[O-].[Na+] already exist in ind_descriptors\n",
      "O=Cc1c[nH]nn1 and O=C(C)c1c[nH]nn1 already exist in ind_descriptors\n",
      "Calculating chemical descriptors for N#C[C@@H]1CCCN1 and N#C[C(C)@@H]1CCCN1\n",
      "CC(C)OC=O and CCC(C)OC=O already exist in ind_descriptors\n",
      "N#CCNCC#N and N#CC(C)NCC#N already exist in ind_descriptors\n"
     ]
    },
    {
     "name": "stderr",
     "output_type": "stream",
     "text": [
      "RDKit ERROR: [17:11:58] SMILES Parse Error: syntax error while parsing: N#C[C(C)@@H]1CCCN1\n",
      "[17:11:58] SMILES Parse Error: syntax error while parsing: N#C[C(C)@@H]1CCCN1\n",
      "RDKit ERROR: [17:11:58] SMILES Parse Error: Failed parsing SMILES 'N#C[C(C)@@H]1CCCN1' for input: 'N#C[C(C)@@H]1CCCN1'\n",
      "[17:11:58] SMILES Parse Error: Failed parsing SMILES 'N#C[C(C)@@H]1CCCN1' for input: 'N#C[C(C)@@H]1CCCN1'\n"
     ]
    },
    {
     "name": "stdout",
     "output_type": "stream",
     "text": [
      "C=C(C)CCO and CC=C(C)CCO already exist in ind_descriptors\n",
      "C=CCS and CC=CCS already exist in ind_descriptors\n",
      "C=COC=C and CC=COC=C already exist in ind_descriptors\n",
      "CCC/C=C/C=O and CCCC/C=C/C=O already exist in ind_descriptors\n",
      "CC[S+](C)[O-] and CCC[S+](C)[O-] already exist in ind_descriptors\n",
      "CC(C)(O)C#N and CCC(C)(O)C#N already exist in ind_descriptors\n",
      "Calculating chemical descriptors for N#CN1CCC1 and N#CN1CCC(1)C\n",
      "CC1=CC(=O)CC1 and CCC1=CC(=O)CC1 already exist in ind_descriptors\n"
     ]
    },
    {
     "name": "stderr",
     "output_type": "stream",
     "text": [
      "RDKit ERROR: [17:11:59] SMILES Parse Error: syntax error while parsing: N#CN1CCC(1)C\n",
      "[17:11:59] SMILES Parse Error: syntax error while parsing: N#CN1CCC(1)C\n",
      "RDKit ERROR: [17:11:59] SMILES Parse Error: Failed parsing SMILES 'N#CN1CCC(1)C' for input: 'N#CN1CCC(1)C'\n",
      "[17:11:59] SMILES Parse Error: Failed parsing SMILES 'N#CN1CCC(1)C' for input: 'N#CN1CCC(1)C'\n"
     ]
    },
    {
     "name": "stdout",
     "output_type": "stream",
     "text": [
      "CC#CCN and CCC#CCN already exist in ind_descriptors\n",
      "C#CCOC and CC#CCOC already exist in ind_descriptors\n",
      "CCC=CC#N and CCCC=CC#N already exist in ind_descriptors\n",
      "C=CC/C=C/C and CC=CC/C=C/C already exist in ind_descriptors\n",
      "Calculating chemical descriptors for N[C@@H]1COC1=O and N[C(C)@@H]1COC1=O\n"
     ]
    },
    {
     "name": "stderr",
     "output_type": "stream",
     "text": [
      "RDKit ERROR: [17:11:59] SMILES Parse Error: syntax error while parsing: N[C(C)@@H]1COC1=O\n",
      "[17:11:59] SMILES Parse Error: syntax error while parsing: N[C(C)@@H]1COC1=O\n",
      "RDKit ERROR: [17:11:59] SMILES Parse Error: Failed parsing SMILES 'N[C(C)@@H]1COC1=O' for input: 'N[C(C)@@H]1COC1=O'\n",
      "[17:11:59] SMILES Parse Error: Failed parsing SMILES 'N[C(C)@@H]1COC1=O' for input: 'N[C(C)@@H]1COC1=O'\n"
     ]
    },
    {
     "name": "stdout",
     "output_type": "stream",
     "text": [
      "CNC(N)NC and CCNC(N)NC already exist in ind_descriptors\n",
      "N#CCC#N and N#CC(C)C#N already exist in ind_descriptors\n",
      "CCCCNN and CCCCCNN already exist in ind_descriptors\n",
      "Calculating chemical descriptors for [O-][Cl+]O and [O-][C(C)l+]O\n"
     ]
    },
    {
     "name": "stderr",
     "output_type": "stream",
     "text": [
      "RDKit ERROR: [17:11:59] SMILES Parse Error: syntax error while parsing: [O-][C(C)l+]O\n",
      "[17:11:59] SMILES Parse Error: syntax error while parsing: [O-][C(C)l+]O\n",
      "RDKit ERROR: [17:11:59] SMILES Parse Error: Failed parsing SMILES '[O-][C(C)l+]O' for input: '[O-][C(C)l+]O'\n",
      "[17:11:59] SMILES Parse Error: Failed parsing SMILES '[O-][C(C)l+]O' for input: '[O-][C(C)l+]O'\n"
     ]
    },
    {
     "name": "stdout",
     "output_type": "stream",
     "text": [
      "C1CNC1 and CC1CNC1 already exist in ind_descriptors\n",
      "C[S+](C)(C)=O and CC[S+](C)(C)=O already exist in ind_descriptors\n",
      "CC(F)F and CCC(F)F already exist in ind_descriptors\n",
      "Calculating chemical descriptors for [11C-]#[O+] and [11C(C)-]#[O+]\n",
      "CCCC(C)=O and CCCCC(C)=O already exist in ind_descriptors\n",
      "CN[N+](=O)[O-] and CCN[N+](=O)[O-] already exist in ind_descriptors\n",
      "C=C(C=O)CC and CC=C(C=O)CC already exist in ind_descriptors\n",
      "N.O=CO and N.O=C(O)C already exist in ind_descriptors\n",
      "P and CP already exist in ind_descriptors\n",
      "CC(N)CN and CCC(N)CN already exist in ind_descriptors\n",
      "C=CC(=O)CCC and CC=CC(=O)CCC already exist in ind_descriptors\n",
      "C=CC=O and CC=CC=O already exist in ind_descriptors\n",
      "C=C(C)C(N)=O and CC=C(C)C(N)=O already exist in ind_descriptors\n",
      "NC(=O)C1CC1 and C(N)C(=O)C1CC1 already exist in ind_descriptors\n",
      "Calculating chemical descriptors for [C-]#[N+][O-].[Na+] and C([)C-]#[N+][O-].[Na+]\n",
      "O=CC(O)CO and O=CC(O)C(O)C already exist in ind_descriptors\n",
      "CCC(C)Cl and CCCC(C)Cl already exist in ind_descriptors\n",
      "Cl and CCl already exist in ind_descriptors\n"
     ]
    },
    {
     "name": "stderr",
     "output_type": "stream",
     "text": [
      "RDKit ERROR: [17:12:00] SMILES Parse Error: syntax error while parsing: C([)C-]#[N+][O-].[Na+]\n",
      "[17:12:00] SMILES Parse Error: syntax error while parsing: C([)C-]#[N+][O-].[Na+]\n",
      "RDKit ERROR: [17:12:00] SMILES Parse Error: Failed parsing SMILES 'C([)C-]#[N+][O-].[Na+]' for input: 'C([)C-]#[N+][O-].[Na+]'\n",
      "[17:12:00] SMILES Parse Error: Failed parsing SMILES 'C([)C-]#[N+][O-].[Na+]' for input: 'C([)C-]#[N+][O-].[Na+]'\n"
     ]
    },
    {
     "name": "stdout",
     "output_type": "stream",
     "text": [
      "OCCN1CC1 and C(O)CCN1CC1 already exist in ind_descriptors\n",
      "CCC(F)CO and CCCC(F)CO already exist in ind_descriptors\n",
      "Calculating chemical descriptors for C[N+]#N and CC[N+]#N\n",
      "Oc1nc[nH]n1 and C(O)c1nc[nH]n1 already exist in ind_descriptors\n",
      "C[Si](C)=O and CC[Si](C)=O already exist in ind_descriptors\n",
      "ON=CC=NO and ON=C(C)C=NO already exist in ind_descriptors\n",
      "Nc1ncc[nH]1 and C(N)c1ncc[nH]1 already exist in ind_descriptors\n",
      "N=C(N)CS and N=C(N)C(S)C already exist in ind_descriptors\n",
      "CC(=O)NC#N and CCC(=O)NC#N already exist in ind_descriptors\n",
      "CCC(=O)CC and CCCC(=O)CC already exist in ind_descriptors\n",
      "CC1=CC1C(=O)O and CCC1=CC1C(=O)O already exist in ind_descriptors\n",
      "CCNC=O and CCCNC=O already exist in ind_descriptors\n",
      "CNC.Cl and CCNC.Cl already exist in ind_descriptors\n",
      "C[n+]1ccccc1 and CC[n+]1ccccc1 already exist in ind_descriptors\n",
      "C/C=C(C)/C=N/O and CC/C=C(C)/C=N/O already exist in ind_descriptors\n",
      "NC1NC=CN1 and C(N)C1NC=CN1 already exist in ind_descriptors\n",
      "Calculating chemical descriptors for [11CH3]SC(=N)N and [11C(C)H3]SC(=N)N\n",
      "Cc1cc(C)[nH]n1 and CCc1cc(C)[nH]n1 already exist in ind_descriptors\n",
      "C=C1CC1CCN and CC=C1CC1CCN already exist in ind_descriptors\n",
      "CO and CCO already exist in ind_descriptors\n"
     ]
    },
    {
     "name": "stderr",
     "output_type": "stream",
     "text": [
      "RDKit ERROR: [17:12:01] SMILES Parse Error: syntax error while parsing: [11C(C)H3]SC(=N)N\n",
      "[17:12:01] SMILES Parse Error: syntax error while parsing: [11C(C)H3]SC(=N)N\n",
      "RDKit ERROR: [17:12:01] SMILES Parse Error: Failed parsing SMILES '[11C(C)H3]SC(=N)N' for input: '[11C(C)H3]SC(=N)N'\n",
      "[17:12:01] SMILES Parse Error: Failed parsing SMILES '[11C(C)H3]SC(=N)N' for input: '[11C(C)H3]SC(=N)N'\n"
     ]
    },
    {
     "name": "stdout",
     "output_type": "stream",
     "text": [
      "C=C1CCOC1=O and CC=C1CCOC1=O already exist in ind_descriptors\n",
      "CS(C)(=O)=O and CCS(C)(=O)=O already exist in ind_descriptors\n",
      "CSC and CCSC already exist in ind_descriptors\n",
      "NC1=NC(=O)CN1 and C(N)C1=NC(=O)CN1 already exist in ind_descriptors\n",
      "Nc1c[nH]nc1O and C(N)c1c[nH]nc1O already exist in ind_descriptors\n",
      "C=O and CC=O already exist in ind_descriptors\n",
      "C=C=CCO and CC=C=CCO already exist in ind_descriptors\n",
      "CCCN and CCCCN already exist in ind_descriptors\n",
      "C=CC(=O)OC and CC=CC(=O)OC already exist in ind_descriptors\n",
      "C=COC(C)=O and CC=COC(C)=O already exist in ind_descriptors\n",
      "NCC(=O)NO and C(N)CC(=O)NO already exist in ind_descriptors\n",
      "CC1CCC(N)=N1 and CCC1CCC(N)=N1 already exist in ind_descriptors\n",
      "FC(F)Cl and C(F)C(F)Cl already exist in ind_descriptors\n",
      "C=C(C)C=O and CC=C(C)C=O already exist in ind_descriptors\n",
      "C=CC=C and CC=CC=C already exist in ind_descriptors\n",
      "C=CC1CO1 and CC=CC1CO1 already exist in ind_descriptors\n",
      "CC(=O)C=O and CCC(=O)C=O already exist in ind_descriptors\n",
      "Calculating chemical descriptors for N#CN1CCCC1 and N#CN1CCCC(1)C\n",
      "Calculating chemical descriptors for [C-]#[N+]C(C)C and [C-]#[N+]C(C)Cc\n"
     ]
    },
    {
     "name": "stderr",
     "output_type": "stream",
     "text": [
      "RDKit ERROR: [17:12:02] SMILES Parse Error: syntax error while parsing: N#CN1CCCC(1)C\n",
      "[17:12:02] SMILES Parse Error: syntax error while parsing: N#CN1CCCC(1)C\n",
      "RDKit ERROR: [17:12:02] SMILES Parse Error: Failed parsing SMILES 'N#CN1CCCC(1)C' for input: 'N#CN1CCCC(1)C'\n",
      "[17:12:02] SMILES Parse Error: Failed parsing SMILES 'N#CN1CCCC(1)C' for input: 'N#CN1CCCC(1)C'\n",
      "RDKit ERROR: [17:12:02] non-ring atom 5 marked aromatic\n",
      "[17:12:02] non-ring atom 5 marked aromatic\n"
     ]
    },
    {
     "name": "stdout",
     "output_type": "stream",
     "text": [
      "CC#CC(=O)O and CCC#CC(=O)O already exist in ind_descriptors\n",
      "c1cc[nH]c1 and Cc1cc[nH]c1 already exist in ind_descriptors\n",
      "Calculating chemical descriptors for O=C1CCCCN1 and O=C(C)1CCCCN1\n",
      "NC1CCCC1 and C(N)C1CCCC1 already exist in ind_descriptors\n"
     ]
    },
    {
     "name": "stderr",
     "output_type": "stream",
     "text": [
      "RDKit ERROR: [17:12:02] Explicit valence for atom # 1 C, 5, is greater than permitted\n",
      "[17:12:02] Explicit valence for atom # 1 C, 5, is greater than permitted\n",
      "RDKit ERROR: [17:12:02] Explicit valence for atom # 1 C, 5, is greater than permitted\n",
      "[17:12:02] Explicit valence for atom # 1 C, 5, is greater than permitted\n"
     ]
    },
    {
     "name": "stdout",
     "output_type": "stream",
     "text": [
      "Calculating chemical descriptors for N#CS and N#C(S)C\n",
      "CC(C)(C)N and CCC(C)(C)N already exist in ind_descriptors\n",
      "C1COCCN1 and CC1COCCN1 already exist in ind_descriptors\n",
      "CC/C=C(\\C)C=O and CCC/C=C(\\C)C=O already exist in ind_descriptors\n",
      "NC(=O)C(N)O and C(N)C(=O)C(N)O already exist in ind_descriptors\n",
      "Calculating chemical descriptors for ClC[C@H]1CO1 and CClC[C@H]1CO1\n",
      "CC(C)C#N and CCC(C)C#N already exist in ind_descriptors\n",
      "C=O.O and CC=O.O already exist in ind_descriptors\n"
     ]
    },
    {
     "name": "stderr",
     "output_type": "stream",
     "text": [
      "RDKit ERROR: [17:12:02] Explicit valence for atom # 1 Cl, 2, is greater than permitted\n",
      "[17:12:02] Explicit valence for atom # 1 Cl, 2, is greater than permitted\n"
     ]
    },
    {
     "name": "stdout",
     "output_type": "stream",
     "text": [
      "C=C1CCC(=O)O1 and CC=C1CCC(=O)O1 already exist in ind_descriptors\n",
      "CC1CCN=C1N and CCC1CCN=C1N already exist in ind_descriptors\n",
      "Calculating chemical descriptors for O=C1CCCO1 and O=C(C)1CCCO1\n",
      "CCC(N)CC and CCCC(N)CC already exist in ind_descriptors\n"
     ]
    },
    {
     "name": "stderr",
     "output_type": "stream",
     "text": [
      "RDKit ERROR: [17:12:03] Explicit valence for atom # 1 C, 5, is greater than permitted\n",
      "[17:12:03] Explicit valence for atom # 1 C, 5, is greater than permitted\n"
     ]
    },
    {
     "name": "stdout",
     "output_type": "stream",
     "text": [
      "CC(C)(C)CO and CCC(C)(C)CO already exist in ind_descriptors\n",
      "CC(C)C(C)O and CCC(C)C(C)O already exist in ind_descriptors\n",
      "Cc1ncc[nH]1 and CCc1ncc[nH]1 already exist in ind_descriptors\n",
      "CC#CC(=O)NC and CCC#CC(=O)NC already exist in ind_descriptors\n",
      "COCC(=O)O and CCOCC(=O)O already exist in ind_descriptors\n",
      "CCN(C)C and CCCN(C)C already exist in ind_descriptors\n",
      "CON.Cl and CCON.Cl already exist in ind_descriptors\n",
      "Calculating chemical descriptors for N=C(N)C1CNC1 and N=C(N)C1CNC(1)C\n"
     ]
    },
    {
     "name": "stderr",
     "output_type": "stream",
     "text": [
      "RDKit ERROR: [17:12:03] SMILES Parse Error: syntax error while parsing: N=C(N)C1CNC(1)C\n",
      "[17:12:03] SMILES Parse Error: syntax error while parsing: N=C(N)C1CNC(1)C\n",
      "RDKit ERROR: [17:12:03] SMILES Parse Error: Failed parsing SMILES 'N=C(N)C1CNC(1)C' for input: 'N=C(N)C1CNC(1)C'\n",
      "[17:12:03] SMILES Parse Error: Failed parsing SMILES 'N=C(N)C1CNC(1)C' for input: 'N=C(N)C1CNC(1)C'\n"
     ]
    },
    {
     "name": "stdout",
     "output_type": "stream",
     "text": [
      "CCCOC=O and CCCCOC=O already exist in ind_descriptors\n",
      "CN1CCCC1=N and CCN1CCCC1=N already exist in ind_descriptors\n",
      "C/C(N)=[N+](/C)[O-] and CC/C(N)=[N+](/C)[O-] already exist in ind_descriptors\n",
      "Calculating chemical descriptors for N[C@H]1COC1=O and N[C(C)@H]1COC1=O\n"
     ]
    },
    {
     "name": "stderr",
     "output_type": "stream",
     "text": [
      "RDKit ERROR: [17:12:03] SMILES Parse Error: syntax error while parsing: N[C(C)@H]1COC1=O\n",
      "[17:12:03] SMILES Parse Error: syntax error while parsing: N[C(C)@H]1COC1=O\n",
      "RDKit ERROR: [17:12:03] SMILES Parse Error: Failed parsing SMILES 'N[C(C)@H]1COC1=O' for input: 'N[C(C)@H]1COC1=O'\n",
      "[17:12:03] SMILES Parse Error: Failed parsing SMILES 'N[C(C)@H]1COC1=O' for input: 'N[C(C)@H]1COC1=O'\n"
     ]
    },
    {
     "name": "stdout",
     "output_type": "stream",
     "text": [
      "C=CC(N)=O and CC=CC(N)=O already exist in ind_descriptors\n",
      "C=CCCl and CC=CCCl already exist in ind_descriptors\n",
      "C/C=C/[C@@H](O)C#N and CC/C=C/[C@@H](O)C#N already exist in ind_descriptors\n",
      "C#CC(=O)NC and CC#CC(=O)NC already exist in ind_descriptors\n",
      "C1=CN=CNC1 and CC1=CN=CNC1 already exist in ind_descriptors\n",
      "COC(=O)CC#N and CCOC(=O)CC#N already exist in ind_descriptors\n",
      "C/C=C/CC#N and CC/C=C/CC#N already exist in ind_descriptors\n",
      "COCCCN and CCOCCCN already exist in ind_descriptors\n",
      "CN(C)[N+](=O)[O-] and CCN(C)[N+](=O)[O-] already exist in ind_descriptors\n",
      "CN(C)N=O and CCN(C)N=O already exist in ind_descriptors\n",
      "CC(=O)C(C)=O and CCC(=O)C(C)=O already exist in ind_descriptors\n",
      "CC=CC=O and CCC=CC=O already exist in ind_descriptors\n",
      "CC=CC(=O)CC and CCC=CC(=O)CC already exist in ind_descriptors\n",
      "C=CCNCC=C and CC=CCNCC=C already exist in ind_descriptors\n",
      "Calculating chemical descriptors for N=C(N)C1CC1 and N=C(N)C1CC(1)C\n",
      "CC(C)(C)O and CCC(C)(C)O already exist in ind_descriptors\n",
      "Calculating chemical descriptors for O=C1C=C(O)CC1 and O=C1C=C(O)CC(1)C\n",
      "C[C@H](N)CS and CC[C@H](N)CS already exist in ind_descriptors\n"
     ]
    },
    {
     "name": "stderr",
     "output_type": "stream",
     "text": [
      "RDKit ERROR: [17:12:04] SMILES Parse Error: syntax error while parsing: N=C(N)C1CC(1)C\n",
      "[17:12:04] SMILES Parse Error: syntax error while parsing: N=C(N)C1CC(1)C\n",
      "RDKit ERROR: [17:12:04] SMILES Parse Error: Failed parsing SMILES 'N=C(N)C1CC(1)C' for input: 'N=C(N)C1CC(1)C'\n",
      "[17:12:04] SMILES Parse Error: Failed parsing SMILES 'N=C(N)C1CC(1)C' for input: 'N=C(N)C1CC(1)C'\n",
      "RDKit ERROR: [17:12:04] SMILES Parse Error: syntax error while parsing: O=C1C=C(O)CC(1)C\n",
      "[17:12:04] SMILES Parse Error: syntax error while parsing: O=C1C=C(O)CC(1)C\n",
      "RDKit ERROR: [17:12:04] SMILES Parse Error: Failed parsing SMILES 'O=C1C=C(O)CC(1)C' for input: 'O=C1C=C(O)CC(1)C'\n",
      "[17:12:04] SMILES Parse Error: Failed parsing SMILES 'O=C1C=C(O)CC(1)C' for input: 'O=C1C=C(O)CC(1)C'\n"
     ]
    },
    {
     "name": "stdout",
     "output_type": "stream",
     "text": [
      "CC1=NCCN1 and CCC1=NCCN1 already exist in ind_descriptors\n",
      "CC/C=C/C#N and CCC/C=C/C#N already exist in ind_descriptors\n",
      "CCC[N+](=O)[O-] and CCCC[N+](=O)[O-] already exist in ind_descriptors\n",
      "CS(N)(=O)=O and CCS(N)(=O)=O already exist in ind_descriptors\n",
      "C and CC already exist in ind_descriptors\n",
      "CCC(F)CC and CCCC(F)CC already exist in ind_descriptors\n",
      "CCCC=NO and CCCCC=NO already exist in ind_descriptors\n",
      "N=C(N)CF and N=C(N)C(F)C already exist in ind_descriptors\n",
      "C/C=C(/C)C#N and CC/C=C(/C)C#N already exist in ind_descriptors\n",
      "C=C=CCN and CC=C=CCN already exist in ind_descriptors\n",
      "Calculating chemical descriptors for O=C1C=CCCN1 and O=C(C)1C=CCCN1\n",
      "CCC(C)S and CCCC(C)S already exist in ind_descriptors\n",
      "NCCCN and C(N)CCCN already exist in ind_descriptors\n",
      "COCOC and CCOCOC already exist in ind_descriptors\n"
     ]
    },
    {
     "name": "stderr",
     "output_type": "stream",
     "text": [
      "RDKit ERROR: [17:12:05] Explicit valence for atom # 1 C, 5, is greater than permitted\n",
      "[17:12:05] Explicit valence for atom # 1 C, 5, is greater than permitted\n"
     ]
    },
    {
     "name": "stdout",
     "output_type": "stream",
     "text": [
      "CC(N)=O and CCC(N)=O already exist in ind_descriptors\n",
      "CN(C)CCO and CCN(C)CCO already exist in ind_descriptors\n",
      "C1CCC2OC2C1 and CC1CCC2OC2C1 already exist in ind_descriptors\n",
      "N#CCCN and N#CCC(N)C already exist in ind_descriptors\n",
      "COC and CCOC already exist in ind_descriptors\n",
      "C[C@@H](N)C(=O)O and CC[C@@H](N)C(=O)O already exist in ind_descriptors\n",
      "NC/C=C\\Cl and C(N)C/C=C\\Cl already exist in ind_descriptors\n",
      "O=C(CO)CO and O=C(CO)C(O)C already exist in ind_descriptors\n",
      "CN=C=O and CCN=C=O already exist in ind_descriptors\n",
      "CCOC(C)=O and CCCOC(C)=O already exist in ind_descriptors\n",
      "NC(=O)C(F)F and C(N)C(=O)C(F)F already exist in ind_descriptors\n",
      "CC(C)=CCO and CCC(C)=CCO already exist in ind_descriptors\n",
      "C=CC(=O)CC and CC=CC(=O)CC already exist in ind_descriptors\n",
      "CNCCO and CCNCCO already exist in ind_descriptors\n",
      "CCC(C)(C)C and CCCC(C)(C)C already exist in ind_descriptors\n",
      "C=C(Cl)Cl and CC=C(Cl)Cl already exist in ind_descriptors\n",
      "Calculating chemical descriptors for N#CNC(=N)N and N#CNC(C)(=N)N\n",
      "FC[C@H]1CO1 and C(F)C[C@H]1CO1 already exist in ind_descriptors\n"
     ]
    },
    {
     "name": "stderr",
     "output_type": "stream",
     "text": [
      "RDKit ERROR: [17:12:06] Explicit valence for atom # 3 C, 5, is greater than permitted\n",
      "[17:12:06] Explicit valence for atom # 3 C, 5, is greater than permitted\n"
     ]
    },
    {
     "name": "stdout",
     "output_type": "stream",
     "text": [
      "CC=O and CCC=O already exist in ind_descriptors\n",
      "CC(C)C(C)C and CCC(C)C(C)C already exist in ind_descriptors\n",
      "Calculating chemical descriptors for [O-][Cl+2]([O-])O and [O-][C(C)l+2]([O-])O\n",
      "NCCN and C(N)CCN already exist in ind_descriptors\n"
     ]
    },
    {
     "name": "stderr",
     "output_type": "stream",
     "text": [
      "RDKit ERROR: [17:12:06] SMILES Parse Error: syntax error while parsing: [O-][C(C)l+2]([O-])O\n",
      "[17:12:06] SMILES Parse Error: syntax error while parsing: [O-][C(C)l+2]([O-])O\n",
      "RDKit ERROR: [17:12:06] SMILES Parse Error: Failed parsing SMILES '[O-][C(C)l+2]([O-])O' for input: '[O-][C(C)l+2]([O-])O'\n",
      "[17:12:06] SMILES Parse Error: Failed parsing SMILES '[O-][C(C)l+2]([O-])O' for input: '[O-][C(C)l+2]([O-])O'\n"
     ]
    },
    {
     "name": "stdout",
     "output_type": "stream",
     "text": [
      "CN1CC1 and CCN1CC1 already exist in ind_descriptors\n",
      "CCN(C#N)CC and CCCN(C#N)CC already exist in ind_descriptors\n",
      "NCC(F)(F)F and C(N)CC(F)(F)F already exist in ind_descriptors\n",
      "CCCN(C)C and CCCCN(C)C already exist in ind_descriptors\n",
      "CCC1NC=CN1 and CCCC1NC=CN1 already exist in ind_descriptors\n",
      "C=CC(=C)Cl and CC=CC(=C)Cl already exist in ind_descriptors\n",
      "Calculating chemical descriptors for O=c1cc(O)c1=O and O=c(C)1cc(O)c1=O\n",
      "NCC(N)=O and C(N)CC(N)=O already exist in ind_descriptors\n",
      "CCC(C)CO and CCCC(C)CO already exist in ind_descriptors\n"
     ]
    },
    {
     "name": "stderr",
     "output_type": "stream",
     "text": [
      "RDKit ERROR: [17:12:07] Explicit valence for atom # 1 C, 6, is greater than permitted\n",
      "[17:12:07] Explicit valence for atom # 1 C, 6, is greater than permitted\n",
      "RDKit ERROR: [17:12:07] SMILES Parse Error: syntax error while parsing: [O-][n+]1ccccc(1)C\n",
      "[17:12:07] SMILES Parse Error: syntax error while parsing: [O-][n+]1ccccc(1)C\n",
      "RDKit ERROR: [17:12:07] SMILES Parse Error: Failed parsing SMILES '[O-][n+]1ccccc(1)C' for input: '[O-][n+]1ccccc(1)C'\n",
      "[17:12:07] SMILES Parse Error: Failed parsing SMILES '[O-][n+]1ccccc(1)C' for input: '[O-][n+]1ccccc(1)C'\n"
     ]
    },
    {
     "name": "stdout",
     "output_type": "stream",
     "text": [
      "Calculating chemical descriptors for [O-][n+]1ccccc1 and [O-][n+]1ccccc(1)C\n",
      "COCCO and CCOCCO already exist in ind_descriptors\n",
      "CN1CCCC1=O and CCN1CCCC1=O already exist in ind_descriptors\n",
      "C=C and CC=C already exist in ind_descriptors\n",
      "CCOCC and CCCOCC already exist in ind_descriptors\n",
      "Calculating chemical descriptors for N=C(N)[C@@H]1CCN1 and N=C(C)(N)[C@@H]1CCN1\n",
      "C[C@@H]1CO1 and CC[C@@H]1CO1 already exist in ind_descriptors\n",
      "C1=CNCN1 and CC1=CNCN1 already exist in ind_descriptors\n"
     ]
    },
    {
     "name": "stderr",
     "output_type": "stream",
     "text": [
      "RDKit ERROR: [17:12:07] Explicit valence for atom # 1 C, 5, is greater than permitted\n",
      "[17:12:07] Explicit valence for atom # 1 C, 5, is greater than permitted\n"
     ]
    },
    {
     "name": "stdout",
     "output_type": "stream",
     "text": [
      "C/C=C(/C)C(C)=O and CC/C=C(/C)C(C)=O already exist in ind_descriptors\n",
      "Calculating chemical descriptors for O=CNC1CCC1 and O=CNC1CCC(1)C\n",
      "Fc1ccccc1 and C(F)c1ccccc1 already exist in ind_descriptors\n",
      "Calculating chemical descriptors for [O-][S+]1CCC1 and [O-][S+]1CCC(1)C\n"
     ]
    },
    {
     "name": "stderr",
     "output_type": "stream",
     "text": [
      "RDKit ERROR: [17:12:07] SMILES Parse Error: syntax error while parsing: O=CNC1CCC(1)C\n",
      "[17:12:07] SMILES Parse Error: syntax error while parsing: O=CNC1CCC(1)C\n",
      "RDKit ERROR: [17:12:07] SMILES Parse Error: Failed parsing SMILES 'O=CNC1CCC(1)C' for input: 'O=CNC1CCC(1)C'\n",
      "[17:12:07] SMILES Parse Error: Failed parsing SMILES 'O=CNC1CCC(1)C' for input: 'O=CNC1CCC(1)C'\n",
      "RDKit ERROR: [17:12:07] UFFTYPER: Unrecognized charge state for atom: 1\n",
      "[17:12:07] UFFTYPER: Unrecognized charge state for atom: 1\n",
      "RDKit ERROR: [17:12:07] SMILES Parse Error: syntax error while parsing: [O-][S+]1CCC(1)C\n",
      "[17:12:07] SMILES Parse Error: syntax error while parsing: [O-][S+]1CCC(1)C\n",
      "RDKit ERROR: [17:12:07] SMILES Parse Error: Failed parsing SMILES '[O-][S+]1CCC(1)C' for input: '[O-][S+]1CCC(1)C'\n",
      "[17:12:07] SMILES Parse Error: Failed parsing SMILES '[O-][S+]1CCC(1)C' for input: '[O-][S+]1CCC(1)C'\n"
     ]
    },
    {
     "name": "stdout",
     "output_type": "stream",
     "text": [
      "OCCCl and C(O)CCCl already exist in ind_descriptors\n",
      "CC(C)=CCl and CCC(C)=CCl already exist in ind_descriptors\n",
      "Calculating chemical descriptors for N#CC(O)C1CC1 and N#CC(O)C1CC(1)C\n",
      "C=C(F)F and CC=C(F)F already exist in ind_descriptors\n"
     ]
    },
    {
     "name": "stderr",
     "output_type": "stream",
     "text": [
      "RDKit ERROR: [17:12:08] SMILES Parse Error: syntax error while parsing: N#CC(O)C1CC(1)C\n",
      "[17:12:08] SMILES Parse Error: syntax error while parsing: N#CC(O)C1CC(1)C\n",
      "RDKit ERROR: [17:12:08] SMILES Parse Error: Failed parsing SMILES 'N#CC(O)C1CC(1)C' for input: 'N#CC(O)C1CC(1)C'\n",
      "[17:12:08] SMILES Parse Error: Failed parsing SMILES 'N#CC(O)C1CC(1)C' for input: 'N#CC(O)C1CC(1)C'\n"
     ]
    },
    {
     "name": "stdout",
     "output_type": "stream",
     "text": [
      "CN(C)CCC#N and CCN(C)CCC#N already exist in ind_descriptors\n",
      "CCC(C)(C)O and CCCC(C)(C)O already exist in ind_descriptors\n",
      "Nc1nnn[nH]1 and C(N)c1nnn[nH]1 already exist in ind_descriptors\n",
      "COCC(N)=O and CCOCC(N)=O already exist in ind_descriptors\n",
      "C[C@H](N)C(=O)O and CC[C@H](N)C(=O)O already exist in ind_descriptors\n",
      "OCCCF and C(O)CCCF already exist in ind_descriptors\n",
      "OCC(O)CF and C(O)CC(O)CF already exist in ind_descriptors\n",
      "CCC(=O)O and CCCC(=O)O already exist in ind_descriptors\n",
      "C[Si](C)(C)O and CC[Si](C)(C)O already exist in ind_descriptors\n",
      "NC1=NCCC1 and C(N)C1=NCCC1 already exist in ind_descriptors\n",
      "COC(C)=O and CCOC(C)=O already exist in ind_descriptors\n",
      "COC(N)=O and CCOC(N)=O already exist in ind_descriptors\n",
      "NCCCON and C(N)CCCON already exist in ind_descriptors\n",
      "NCCCO and C(N)CCCO already exist in ind_descriptors\n",
      "O=CCO and O=CC(O)C already exist in ind_descriptors\n",
      "CCCCC#N and CCCCCC#N already exist in ind_descriptors\n",
      "Cl.NCCN and CCl.NCCN already exist in ind_descriptors\n",
      "FCF and C(F)CF already exist in ind_descriptors\n",
      "CC(O)C#N and CCC(O)C#N already exist in ind_descriptors\n",
      "C1=CCCCC1 and CC1=CCCCC1 already exist in ind_descriptors\n",
      "CC(C)(C)OO and CCC(C)(C)OO already exist in ind_descriptors\n",
      "Calculating chemical descriptors for O=C(O)C(=O)O and O=C(C)(O)C(=O)O\n",
      "CCC(=O)OC and CCCC(=O)OC already exist in ind_descriptors\n",
      "CONC(C)=O and CCONC(C)=O already exist in ind_descriptors\n",
      "Calculating chemical descriptors for ClCCl and CClCCl\n"
     ]
    },
    {
     "name": "stderr",
     "output_type": "stream",
     "text": [
      "RDKit ERROR: [17:12:09] Explicit valence for atom # 1 C, 5, is greater than permitted\n",
      "[17:12:09] Explicit valence for atom # 1 C, 5, is greater than permitted\n",
      "RDKit ERROR: [17:12:09] Explicit valence for atom # 1 Cl, 2, is greater than permitted\n",
      "[17:12:09] Explicit valence for atom # 1 Cl, 2, is greater than permitted\n"
     ]
    },
    {
     "name": "stdout",
     "output_type": "stream",
     "text": [
      "CC[N+](C)(C)C and CCC[N+](C)(C)C already exist in ind_descriptors\n",
      "C1COC1 and CC1COC1 already exist in ind_descriptors\n",
      "C=CCO and CC=CCO already exist in ind_descriptors\n",
      "CC1CCCCN1 and CCC1CCCCN1 already exist in ind_descriptors\n",
      "C=CO and CC=CO already exist in ind_descriptors\n",
      "Fc1ncc[nH]1 and C(F)c1ncc[nH]1 already exist in ind_descriptors\n",
      "C#CC(C)(C)O and CC#CC(C)(C)O already exist in ind_descriptors\n",
      "CNN and CCNN already exist in ind_descriptors\n",
      "O=CO and O=C(O)C already exist in ind_descriptors\n",
      "COCC(C)N and CCOCC(C)N already exist in ind_descriptors\n",
      "Calculating chemical descriptors for N=C1CCCCN1 and N=C(C)1CCCCN1\n",
      "CC#CCCN and CCC#CCCN already exist in ind_descriptors\n",
      "Nc1ccc[nH]1 and C(N)c1ccc[nH]1 already exist in ind_descriptors\n",
      "O=CNCO and O=CNC(O)C already exist in ind_descriptors\n"
     ]
    },
    {
     "name": "stderr",
     "output_type": "stream",
     "text": [
      "RDKit ERROR: [17:12:09] Explicit valence for atom # 1 C, 5, is greater than permitted\n",
      "[17:12:09] Explicit valence for atom # 1 C, 5, is greater than permitted\n"
     ]
    },
    {
     "name": "stdout",
     "output_type": "stream",
     "text": [
      "Calculating chemical descriptors for O=C(O)C1CN1 and O=C(C)(O)C1CN1\n",
      "NCCCCN and C(N)CCCCN already exist in ind_descriptors\n",
      "C#CCCC and CC#CCCC already exist in ind_descriptors\n",
      "Calculating chemical descriptors for Cl/C=C/Cl and CCl/C=C/Cl\n"
     ]
    },
    {
     "name": "stderr",
     "output_type": "stream",
     "text": [
      "RDKit ERROR: [17:12:10] Explicit valence for atom # 1 C, 5, is greater than permitted\n",
      "[17:12:10] Explicit valence for atom # 1 C, 5, is greater than permitted\n",
      "RDKit ERROR: [17:12:10] Explicit valence for atom # 1 Cl, 2, is greater than permitted\n",
      "[17:12:10] Explicit valence for atom # 1 Cl, 2, is greater than permitted\n"
     ]
    },
    {
     "name": "stdout",
     "output_type": "stream",
     "text": [
      "c1nc[nH]n1 and Cc1nc[nH]n1 already exist in ind_descriptors\n",
      "OCC(F)F and C(O)CC(F)F already exist in ind_descriptors\n",
      "C#CC(C)(O)CC and CC#CC(C)(O)CC already exist in ind_descriptors\n",
      "CN(C)C and CCN(C)C already exist in ind_descriptors\n",
      "C1CCCCCC1 and CC1CCCCCC1 already exist in ind_descriptors\n",
      "CC(=O)/C=N/O and CCC(=O)/C=N/O already exist in ind_descriptors\n",
      "CCCCN and CCCCCN already exist in ind_descriptors\n",
      "Calculating chemical descriptors for Cl/C=C\\Cl and CCl/C=C\\Cl\n",
      "Nc1nc[nH]n1 and C(N)c1nc[nH]n1 already exist in ind_descriptors\n",
      "Calculating chemical descriptors for N=C(N)[C@H]1CCN1 and N=C(C)(N)[C@H]1CCN1\n"
     ]
    },
    {
     "name": "stderr",
     "output_type": "stream",
     "text": [
      "RDKit ERROR: [17:12:10] Explicit valence for atom # 1 Cl, 2, is greater than permitted\n",
      "[17:12:10] Explicit valence for atom # 1 Cl, 2, is greater than permitted\n",
      "RDKit ERROR: [17:12:10] Explicit valence for atom # 1 C, 5, is greater than permitted\n",
      "[17:12:10] Explicit valence for atom # 1 C, 5, is greater than permitted\n"
     ]
    },
    {
     "name": "stdout",
     "output_type": "stream",
     "text": [
      "COCCN and CCOCCN already exist in ind_descriptors\n",
      "C=CC(C)(C)O and CC=CC(C)(C)O already exist in ind_descriptors\n",
      "NCCF and C(N)CCF already exist in ind_descriptors\n",
      "Calculating chemical descriptors for O=C1CCN1 and O=C(C)1CCN1\n"
     ]
    },
    {
     "name": "stderr",
     "output_type": "stream",
     "text": [
      "RDKit ERROR: [17:12:11] Explicit valence for atom # 1 C, 5, is greater than permitted\n",
      "[17:12:11] Explicit valence for atom # 1 C, 5, is greater than permitted\n"
     ]
    },
    {
     "name": "stdout",
     "output_type": "stream",
     "text": [
      "CONC(N)=O and CCONC(N)=O already exist in ind_descriptors\n",
      "C#N and CC#N already exist in ind_descriptors\n",
      "N and CN already exist in ind_descriptors\n",
      "O=C(CO)CF and O=C(CO)C(F)C already exist in ind_descriptors\n",
      "NCC#CCN and C(N)CC#CCN already exist in ind_descriptors\n",
      "NC(=S)NO and C(N)C(=S)NO already exist in ind_descriptors\n",
      "C/C=C/CO and CC/C=C/CO already exist in ind_descriptors\n",
      "NC=O and C(N)C=O already exist in ind_descriptors\n",
      "C=CC(C)=O and CC=CC(C)=O already exist in ind_descriptors\n",
      "CF and CCF already exist in ind_descriptors\n",
      "FC1CCNC1 and C(F)C1CCNC1 already exist in ind_descriptors\n",
      "CC(C)=CC=O and CCC(C)=CC=O already exist in ind_descriptors\n",
      "C=COCC and CC=COCC already exist in ind_descriptors\n",
      "NCCCF and C(N)CCCF already exist in ind_descriptors\n",
      "CCN(C)CC and CCCN(C)CC already exist in ind_descriptors\n",
      "CC(Cl)Cl and CCC(Cl)Cl already exist in ind_descriptors\n",
      "CCCCCF and CCCCCCF already exist in ind_descriptors\n",
      "CC(C)CC=O and CCC(C)CC=O already exist in ind_descriptors\n",
      "O=CC(=O)[O-].[Na+] and O=C(C)C(=O)[O-].[Na+] already exist in ind_descriptors\n",
      "CCN=C=S and CCCN=C=S already exist in ind_descriptors\n",
      "Calculating chemical descriptors for [Na+].[O-]Cl and [Na+].[O-]C(l)C\n",
      "NC(N)=O and C(N)C(N)=O already exist in ind_descriptors\n",
      "Calculating chemical descriptors for O=C1C=CCCO1 and O=C(C)1C=CCCO1\n",
      "Calculating chemical descriptors for N=C(N)C1CCC1 and N=C(N)C1CCC(1)C\n"
     ]
    },
    {
     "name": "stderr",
     "output_type": "stream",
     "text": [
      "RDKit ERROR: [17:12:12] SMILES Parse Error: syntax error while parsing: [Na+].[O-]C(l)C\n",
      "[17:12:12] SMILES Parse Error: syntax error while parsing: [Na+].[O-]C(l)C\n",
      "RDKit ERROR: [17:12:12] SMILES Parse Error: Failed parsing SMILES '[Na+].[O-]C(l)C' for input: '[Na+].[O-]C(l)C'\n",
      "[17:12:12] SMILES Parse Error: Failed parsing SMILES '[Na+].[O-]C(l)C' for input: '[Na+].[O-]C(l)C'\n",
      "RDKit ERROR: [17:12:12] Explicit valence for atom # 1 C, 5, is greater than permitted\n",
      "[17:12:12] Explicit valence for atom # 1 C, 5, is greater than permitted\n",
      "RDKit ERROR: [17:12:12] SMILES Parse Error: syntax error while parsing: N=C(N)C1CCC(1)C\n",
      "[17:12:12] SMILES Parse Error: syntax error while parsing: N=C(N)C1CCC(1)C\n",
      "RDKit ERROR: [17:12:12] SMILES Parse Error: Failed parsing SMILES 'N=C(N)C1CCC(1)C' for input: 'N=C(N)C1CCC(1)C'\n",
      "[17:12:12] SMILES Parse Error: Failed parsing SMILES 'N=C(N)C1CCC(1)C' for input: 'N=C(N)C1CCC(1)C'\n"
     ]
    },
    {
     "name": "stdout",
     "output_type": "stream",
     "text": [
      "Calculating chemical descriptors for O=C1CCC(=O)N1 and O=C(C)1CCC(=O)N1\n",
      "C=C=C and CC=C=C already exist in ind_descriptors\n",
      "CCC#N and CCCC#N already exist in ind_descriptors\n",
      "CCCCCO and CCCCCCO already exist in ind_descriptors\n"
     ]
    },
    {
     "name": "stderr",
     "output_type": "stream",
     "text": [
      "RDKit ERROR: [17:12:12] Explicit valence for atom # 1 C, 5, is greater than permitted\n",
      "[17:12:12] Explicit valence for atom # 1 C, 5, is greater than permitted\n"
     ]
    },
    {
     "name": "stdout",
     "output_type": "stream",
     "text": [
      "NC1CCCC1=O and C(N)C1CCCC1=O already exist in ind_descriptors\n",
      "C#CCNC(=N)N and CC#CCNC(=N)N already exist in ind_descriptors\n",
      "C=CCCC#N and CC=CCCC#N already exist in ind_descriptors\n",
      "OCCS and C(O)CCS already exist in ind_descriptors\n",
      "C1=CCCC1 and CC1=CCCC1 already exist in ind_descriptors\n",
      "CCC(C)CC and CCCC(C)CC already exist in ind_descriptors\n",
      "C=CC(O)C#N and CC=CC(O)C#N already exist in ind_descriptors\n",
      "Calculating chemical descriptors for NNC(N)=O and NNC(C)(N)=O\n"
     ]
    },
    {
     "name": "stderr",
     "output_type": "stream",
     "text": [
      "RDKit ERROR: [17:12:12] Explicit valence for atom # 2 C, 5, is greater than permitted\n",
      "[17:12:12] Explicit valence for atom # 2 C, 5, is greater than permitted\n"
     ]
    },
    {
     "name": "stdout",
     "output_type": "stream",
     "text": [
      "C=CN(C)N=O and CC=CN(C)N=O already exist in ind_descriptors\n",
      "S and CS already exist in ind_descriptors\n",
      "SC1BC1 and C(S)C1BC1 already exist in ind_descriptors\n",
      "c1c[nH]nn1 and Cc1c[nH]nn1 already exist in ind_descriptors\n",
      "Calculating chemical descriptors for O=C(O)/C=N/O and O=C(C)(O)/C=N/O\n",
      "Cc1c[nH]c(C)c1 and CCc1c[nH]c(C)c1 already exist in ind_descriptors\n",
      "CN(O)C(N)=O and CCN(O)C(N)=O already exist in ind_descriptors\n",
      "Cl.N#CCN and CCl.N#CCN already exist in ind_descriptors\n"
     ]
    },
    {
     "name": "stderr",
     "output_type": "stream",
     "text": [
      "RDKit ERROR: [17:12:13] Explicit valence for atom # 1 C, 5, is greater than permitted\n",
      "[17:12:13] Explicit valence for atom # 1 C, 5, is greater than permitted\n"
     ]
    },
    {
     "name": "stdout",
     "output_type": "stream",
     "text": [
      "C=CC(C)(O)C#N and CC=CC(C)(O)C#N already exist in ind_descriptors\n",
      "C1OOCOO1 and CC1OOCOO1 already exist in ind_descriptors\n",
      "Calculating chemical descriptors for O=C1CCC(=O)C1 and O=C1CCC(=O)C(1)C\n",
      "NCC(=O)NN and C(N)CC(=O)NN already exist in ind_descriptors\n"
     ]
    },
    {
     "name": "stderr",
     "output_type": "stream",
     "text": [
      "RDKit ERROR: [17:12:13] SMILES Parse Error: syntax error while parsing: O=C1CCC(=O)C(1)C\n",
      "[17:12:13] SMILES Parse Error: syntax error while parsing: O=C1CCC(=O)C(1)C\n",
      "RDKit ERROR: [17:12:13] SMILES Parse Error: Failed parsing SMILES 'O=C1CCC(=O)C(1)C' for input: 'O=C1CCC(=O)C(1)C'\n",
      "[17:12:13] SMILES Parse Error: Failed parsing SMILES 'O=C1CCC(=O)C(1)C' for input: 'O=C1CCC(=O)C(1)C'\n"
     ]
    },
    {
     "name": "stdout",
     "output_type": "stream",
     "text": [
      "NC(=O)CCO and C(N)C(=O)CCO already exist in ind_descriptors\n",
      "CCCCO and CCCCCO already exist in ind_descriptors\n",
      "O and CO already exist in ind_descriptors\n",
      "CCON and CCCON already exist in ind_descriptors\n",
      "CNC(=N)NN and CCNC(=N)NN already exist in ind_descriptors\n",
      "C#CC(=O)OCC and CC#CC(=O)OCC already exist in ind_descriptors\n",
      "CCc1ncc[nH]1 and CCCc1ncc[nH]1 already exist in ind_descriptors\n",
      "C#CC(C)(C)C and CC#CC(C)(C)C already exist in ind_descriptors\n",
      "CC(O)CN and CCC(O)CN already exist in ind_descriptors\n",
      "CC(C)(C)ON and CCC(C)(C)ON already exist in ind_descriptors\n",
      "Cl.N and CCl.N already exist in ind_descriptors\n",
      "CCCCON and CCCCCON already exist in ind_descriptors\n",
      "C=C(C)/C=N/O and CC=C(C)/C=N/O already exist in ind_descriptors\n",
      "CCCCC and CCCCCC already exist in ind_descriptors\n",
      "N#CCC(N)=O and N#CC(C)C(N)=O already exist in ind_descriptors\n",
      "NC1CCCCC1 and C(N)C1CCCCC1 already exist in ind_descriptors\n",
      "CC(C)CCO and CCC(C)CCO already exist in ind_descriptors\n",
      "CNC(C)=O and CCNC(C)=O already exist in ind_descriptors\n",
      "Calculating chemical descriptors for O=C1CCCC1 and O=C1CCCC(1)C\n",
      "NC(=O)C(=O)O and C(N)C(=O)C(=O)O already exist in ind_descriptors\n"
     ]
    },
    {
     "name": "stderr",
     "output_type": "stream",
     "text": [
      "RDKit ERROR: [17:12:14] SMILES Parse Error: syntax error while parsing: O=C1CCCC(1)C\n",
      "[17:12:14] SMILES Parse Error: syntax error while parsing: O=C1CCCC(1)C\n",
      "RDKit ERROR: [17:12:14] SMILES Parse Error: Failed parsing SMILES 'O=C1CCCC(1)C' for input: 'O=C1CCCC(1)C'\n",
      "[17:12:14] SMILES Parse Error: Failed parsing SMILES 'O=C1CCCC(1)C' for input: 'O=C1CCCC(1)C'\n",
      "RDKit ERROR: [17:12:14] SMILES Parse Error: syntax error while parsing: O=NN1CCC(1)C\n",
      "[17:12:14] SMILES Parse Error: syntax error while parsing: O=NN1CCC(1)C\n",
      "RDKit ERROR: [17:12:14] SMILES Parse Error: Failed parsing SMILES 'O=NN1CCC(1)C' for input: 'O=NN1CCC(1)C'\n",
      "[17:12:14] SMILES Parse Error: Failed parsing SMILES 'O=NN1CCC(1)C' for input: 'O=NN1CCC(1)C'\n"
     ]
    },
    {
     "name": "stdout",
     "output_type": "stream",
     "text": [
      "Cc1nnc[nH]1 and CCc1nnc[nH]1 already exist in ind_descriptors\n",
      "Calculating chemical descriptors for O=NN1CCC1 and O=NN1CCC(1)C\n",
      "C1=CCOC1 and CC1=CCOC1 already exist in ind_descriptors\n",
      "NC(=O)CCl and C(N)C(=O)CCl already exist in ind_descriptors\n",
      "CN=C=S and CCN=C=S already exist in ind_descriptors\n",
      "CC(C)N and CCC(C)N already exist in ind_descriptors\n",
      "CC1=CCCC1=O and CCC1=CCCC1=O already exist in ind_descriptors\n",
      "CC(=O)N(C)C and CCC(=O)N(C)C already exist in ind_descriptors\n",
      "C/C=C/C=C/C=O and CC/C=C/C=C/C=O already exist in ind_descriptors\n",
      "c1nnn[nH]1 and Cc1nnn[nH]1 already exist in ind_descriptors\n",
      "C=CC#CC(C)=O and CC=CC#CC(C)=O already exist in ind_descriptors\n",
      "NC(=O)C(N)=O and C(N)C(=O)C(N)=O already exist in ind_descriptors\n",
      "Calculating chemical descriptors for N.N#CS and N.N#C(S)C\n",
      "N#CCC(=O)NN and N#CC(C)C(=O)NN already exist in ind_descriptors\n",
      "Calculating chemical descriptors for O=C(O)C1CO1 and O=C(C)(O)C1CO1\n",
      "[Na+].c1nc[n-]n1 and [Na+].c(C)1nc[n-]n1 already exist in ind_descriptors\n"
     ]
    },
    {
     "name": "stderr",
     "output_type": "stream",
     "text": [
      "RDKit ERROR: [17:12:15] Explicit valence for atom # 2 C, 5, is greater than permitted\n",
      "[17:12:15] Explicit valence for atom # 2 C, 5, is greater than permitted\n",
      "RDKit ERROR: [17:12:15] Explicit valence for atom # 1 C, 5, is greater than permitted\n",
      "[17:12:15] Explicit valence for atom # 1 C, 5, is greater than permitted\n"
     ]
    },
    {
     "name": "stdout",
     "output_type": "stream",
     "text": [
      "CS(=O)(=O)O and CCS(=O)(=O)O already exist in ind_descriptors\n",
      "NCC(O)CN and C(N)CC(O)CN already exist in ind_descriptors\n",
      "CB(O)O and CCB(O)O already exist in ind_descriptors\n",
      "CCCCCl and CCCCCCl already exist in ind_descriptors\n",
      "CC(C)[N+](=O)[O-] and CCC(C)[N+](=O)[O-] already exist in ind_descriptors\n",
      "CC1C=CC(=O)O1 and CCC1C=CC(=O)O1 already exist in ind_descriptors\n",
      "CCCS and CCCCS already exist in ind_descriptors\n",
      "CC1CO1 and CCC1CO1 already exist in ind_descriptors\n",
      "NOCC(=O)O and NOC(C)C(=O)O already exist in ind_descriptors\n",
      "c1ccccc1 and Cc1ccccc1 already exist in ind_descriptors\n",
      "CC(C)=O and CCC(C)=O already exist in ind_descriptors\n",
      "N#CC#CCN and N#CC#CC(N)C already exist in ind_descriptors\n",
      "CCOC=O and CCCOC=O already exist in ind_descriptors\n",
      "C=CC#N and CC=CC#N already exist in ind_descriptors\n",
      "C/C=C(\\C)C(N)=O and CC/C=C(\\C)C(N)=O already exist in ind_descriptors\n",
      "C=CC(=O)[O-].[Na+] and CC=CC(=O)[O-].[Na+] already exist in ind_descriptors\n",
      "CCC(C)(O)C#N and CCCC(C)(O)C#N already exist in ind_descriptors\n",
      "C=CCN and CC=CCN already exist in ind_descriptors\n",
      "C[N+](=O)[O-] and CC[N+](=O)[O-] already exist in ind_descriptors\n",
      "Calculating chemical descriptors for O=C1C=CC(=O)C1 and O=C1C=CC(=O)C(1)C\n"
     ]
    },
    {
     "name": "stderr",
     "output_type": "stream",
     "text": [
      "RDKit ERROR: [17:12:16] SMILES Parse Error: syntax error while parsing: O=C1C=CC(=O)C(1)C\n",
      "[17:12:16] SMILES Parse Error: syntax error while parsing: O=C1C=CC(=O)C(1)C\n",
      "RDKit ERROR: [17:12:16] SMILES Parse Error: Failed parsing SMILES 'O=C1C=CC(=O)C(1)C' for input: 'O=C1C=CC(=O)C(1)C'\n",
      "[17:12:16] SMILES Parse Error: Failed parsing SMILES 'O=C1C=CC(=O)C(1)C' for input: 'O=C1C=CC(=O)C(1)C'\n"
     ]
    },
    {
     "name": "stdout",
     "output_type": "stream",
     "text": [
      "CCOCCO and CCCOCCO already exist in ind_descriptors\n",
      "NC/C=C/Cl and C(N)C/C=C/Cl already exist in ind_descriptors\n",
      "C1CN1 and CC1CN1 already exist in ind_descriptors\n",
      "C/C=C/C(=O)O and CC/C=C/C(=O)O already exist in ind_descriptors\n",
      "CCC/C=N/O and CCCC/C=N/O already exist in ind_descriptors\n",
      "C#CC(=O)OC and CC#CC(=O)OC already exist in ind_descriptors\n",
      "CCC(C)N and CCCC(C)N already exist in ind_descriptors\n",
      "O=S(O)CO and O=S(O)C(O)C already exist in ind_descriptors\n",
      "C=CC(=C)C and CC=CC(=C)C already exist in ind_descriptors\n",
      "Oc1cc[nH]n1 and C(O)c1cc[nH]n1 already exist in ind_descriptors\n",
      "Calculating chemical descriptors for O=C1CCO1 and O=C(C)1CCO1\n",
      "NC/C=C/CN and C(N)C/C=C/CN already exist in ind_descriptors\n",
      "CCON=O and CCCON=O already exist in ind_descriptors\n"
     ]
    },
    {
     "name": "stderr",
     "output_type": "stream",
     "text": [
      "RDKit ERROR: [17:12:17] Explicit valence for atom # 1 C, 5, is greater than permitted\n",
      "[17:12:17] Explicit valence for atom # 1 C, 5, is greater than permitted\n"
     ]
    },
    {
     "name": "stdout",
     "output_type": "stream",
     "text": [
      "C#CCO and CC#CCO already exist in ind_descriptors\n",
      "CCCC(C)O and CCCCC(C)O already exist in ind_descriptors\n",
      "C/C=C(\\C)C(C)=O and CC/C=C(\\C)C(C)=O already exist in ind_descriptors\n",
      "C[Si](C)(C)C and CC[Si](C)(C)C already exist in ind_descriptors\n",
      "C[11C](=O)O and CC[11C](=O)O already exist in ind_descriptors\n",
      "Calculating chemical descriptors for [C] and C([)C]\n",
      "Calculating chemical descriptors for O=C(O)C1CC1 and O=C(O)C1CC(1)C\n",
      "CNC(=O)CC#N and CCNC(=O)CC#N already exist in ind_descriptors\n",
      "C/C=C/C(C)=O and CC/C=C/C(C)=O already exist in ind_descriptors\n"
     ]
    },
    {
     "name": "stderr",
     "output_type": "stream",
     "text": [
      "RDKit ERROR: [17:12:17] SMILES Parse Error: syntax error while parsing: O=C(O)C1CC(1)C\n",
      "[17:12:17] SMILES Parse Error: syntax error while parsing: O=C(O)C1CC(1)C\n",
      "RDKit ERROR: [17:12:17] SMILES Parse Error: Failed parsing SMILES 'O=C(O)C1CC(1)C' for input: 'O=C(O)C1CC(1)C'\n",
      "[17:12:17] SMILES Parse Error: Failed parsing SMILES 'O=C(O)C1CC(1)C' for input: 'O=C(O)C1CC(1)C'\n"
     ]
    },
    {
     "name": "stdout",
     "output_type": "stream",
     "text": [
      "CCC(C)O and CCCC(C)O already exist in ind_descriptors\n",
      "NCCC(=O)O and C(N)CCC(=O)O already exist in ind_descriptors\n",
      "C[C@@H](O)C(=O)O and CC[C@@H](O)C(=O)O already exist in ind_descriptors\n",
      "C=C(C)CCl and CC=C(C)CCl already exist in ind_descriptors\n",
      "C#CCN=C=S and CC#CCN=C=S already exist in ind_descriptors\n",
      "CC/C(C)=N/O and CCC/C(C)=N/O already exist in ind_descriptors\n",
      "C=CC(C#N)OC and CC=CC(C#N)OC already exist in ind_descriptors\n",
      "Calculating chemical descriptors for O=C1C=CCCC1 and O=C1C=CCCC(1)C\n"
     ]
    },
    {
     "name": "stderr",
     "output_type": "stream",
     "text": [
      "RDKit ERROR: [17:12:18] SMILES Parse Error: syntax error while parsing: O=C1C=CCCC(1)C\n",
      "[17:12:18] SMILES Parse Error: syntax error while parsing: O=C1C=CCCC(1)C\n",
      "RDKit ERROR: [17:12:18] SMILES Parse Error: Failed parsing SMILES 'O=C1C=CCCC(1)C' for input: 'O=C1C=CCCC(1)C'\n",
      "[17:12:18] SMILES Parse Error: Failed parsing SMILES 'O=C1C=CCCC(1)C' for input: 'O=C1C=CCCC(1)C'\n"
     ]
    },
    {
     "name": "stdout",
     "output_type": "stream",
     "text": [
      "Cl.N=C(N)N and CCl.N=C(N)N already exist in ind_descriptors\n",
      "O=C(O)CO and O=C(O)C(O)C already exist in ind_descriptors\n",
      "CC(=N)N and CCC(=N)N already exist in ind_descriptors\n",
      "C[C@H](N)CO and CC[C@H](N)CO already exist in ind_descriptors\n",
      "OCCCO and C(O)CCCO already exist in ind_descriptors\n",
      "C1OCOCO1 and CC1OCOCO1 already exist in ind_descriptors\n",
      "C1=NNCO1 and CC1=NNCO1 already exist in ind_descriptors\n",
      "C1OCC2OC12 and CC1OCC2OC12 already exist in ind_descriptors\n",
      "CN1C=CNC1 and CCN1C=CNC1 already exist in ind_descriptors\n",
      "C[N+]1([O-])CC=CC1 and CC[N+]1([O-])CC=CC1 already exist in ind_descriptors\n",
      "Calculating chemical descriptors for N#CN and N#C(N)C\n",
      "COC(C)(C)C and CCOC(C)(C)C already exist in ind_descriptors\n",
      "C[N+](C)(C)[BH2-]C#N and CC[N+](C)(C)[BH2-]C#N already exist in ind_descriptors\n"
     ]
    },
    {
     "name": "stderr",
     "output_type": "stream",
     "text": [
      "RDKit ERROR: [17:12:18] Explicit valence for atom # 1 C, 5, is greater than permitted\n",
      "[17:12:18] Explicit valence for atom # 1 C, 5, is greater than permitted\n"
     ]
    },
    {
     "name": "stdout",
     "output_type": "stream",
     "text": [
      "Cc1ccccc1 and CCc1ccccc1 already exist in ind_descriptors\n",
      "Calculating chemical descriptors for [C-]#[O+] and C([)C-]#[O+]\n",
      "Oc1ccccc1 and C(O)c1ccccc1 already exist in ind_descriptors\n",
      "C[S+](C)[O-] and CC[S+](C)[O-] already exist in ind_descriptors\n",
      "CC(=O)[O-].[Na+] and CCC(=O)[O-].[Na+] already exist in ind_descriptors\n",
      "Nc1cc[nH]n1 and C(N)c1cc[nH]n1 already exist in ind_descriptors\n",
      "Calculating chemical descriptors for N#Cc1ncc[nH]1 and N#Cc(C)1ncc[nH]1\n",
      "Calculating chemical descriptors for NNC(N)=S and NNC(C)(N)=S\n"
     ]
    },
    {
     "name": "stderr",
     "output_type": "stream",
     "text": [
      "RDKit ERROR: [17:12:19] Can't kekulize mol.  Unkekulized atoms: 4 5 6\n",
      "[17:12:19] Can't kekulize mol.  Unkekulized atoms: 4 5 6\n",
      "\n",
      "RDKit ERROR: \n",
      "RDKit ERROR: [17:12:19] Explicit valence for atom # 2 C, 5, is greater than permitted\n",
      "[17:12:19] Explicit valence for atom # 2 C, 5, is greater than permitted\n"
     ]
    },
    {
     "name": "stdout",
     "output_type": "stream",
     "text": [
      "CC(=O)C=C(C)C and CCC(=O)C=C(C)C already exist in ind_descriptors\n",
      "OCc1cc[nH]n1 and C(O)Cc1cc[nH]n1 already exist in ind_descriptors\n",
      "CN(C)C.Cl and CCN(C)C.Cl already exist in ind_descriptors\n",
      "CC(F)CCO and CCC(F)CCO already exist in ind_descriptors\n",
      "NC(=O)CF and C(N)C(=O)CF already exist in ind_descriptors\n",
      "CCCNC=O and CCCCNC=O already exist in ind_descriptors\n",
      "C=CC and CC=CC already exist in ind_descriptors\n",
      "NC1=NCCO1 and C(N)C1=NCCO1 already exist in ind_descriptors\n",
      "CNNC.Cl and CCNNC.Cl already exist in ind_descriptors\n",
      "CC(C)O and CCC(C)O already exist in ind_descriptors\n",
      "CN(C)C(=O)O and CCN(C)C(=O)O already exist in ind_descriptors\n",
      "Calculating chemical descriptors for [Cl-].[Na+] and C([)Cl-].[Na+]\n"
     ]
    },
    {
     "name": "stderr",
     "output_type": "stream",
     "text": [
      "RDKit ERROR: [17:12:20] SMILES Parse Error: syntax error while parsing: C([)Cl-].[Na+]\n",
      "[17:12:20] SMILES Parse Error: syntax error while parsing: C([)Cl-].[Na+]\n",
      "RDKit ERROR: [17:12:20] SMILES Parse Error: Failed parsing SMILES 'C([)Cl-].[Na+]' for input: 'C([)Cl-].[Na+]'\n",
      "[17:12:20] SMILES Parse Error: Failed parsing SMILES 'C([)Cl-].[Na+]' for input: 'C([)Cl-].[Na+]'\n",
      "RDKit ERROR: [17:12:20] Explicit valence for atom # 1 C, 5, is greater than permitted\n",
      "[17:12:20] Explicit valence for atom # 1 C, 5, is greater than permitted\n"
     ]
    },
    {
     "name": "stdout",
     "output_type": "stream",
     "text": [
      "Calculating chemical descriptors for O=C(O)O and O=C(C)(O)O\n",
      "OCCCCl and C(O)CCCCl already exist in ind_descriptors\n",
      "OC1CCCC1 and C(O)C1CCCC1 already exist in ind_descriptors\n",
      "C1CC1 and CC1CC1 already exist in ind_descriptors\n",
      "CCCC and CCCCC already exist in ind_descriptors\n",
      "CC(N)CO and CCC(N)CO already exist in ind_descriptors\n",
      "Calculating chemical descriptors for NN=C(N)N and NN=C(C)(N)N\n",
      "CCNCC and CCCNCC already exist in ind_descriptors\n"
     ]
    },
    {
     "name": "stderr",
     "output_type": "stream",
     "text": [
      "RDKit ERROR: [17:12:20] Explicit valence for atom # 2 C, 5, is greater than permitted\n",
      "[17:12:20] Explicit valence for atom # 2 C, 5, is greater than permitted\n"
     ]
    },
    {
     "name": "stdout",
     "output_type": "stream",
     "text": [
      "F and CF already exist in ind_descriptors\n",
      "NCCO and C(N)CCO already exist in ind_descriptors\n",
      "OCCO and C(O)CCO already exist in ind_descriptors\n",
      "OCCCS and C(O)CCCS already exist in ind_descriptors\n",
      "NCCCC=O and C(N)CCCC=O already exist in ind_descriptors\n",
      "CC(=O)O and CCC(=O)O already exist in ind_descriptors\n",
      "OCC(O)CO and C(O)CC(O)CO already exist in ind_descriptors\n",
      "Calculating chemical descriptors for N=C(N)N and N=C(C)(N)N\n",
      "Calculating chemical descriptors for O=C([O-])O.[Na+] and O=C(C)([O-])O.[Na+]\n"
     ]
    },
    {
     "name": "stderr",
     "output_type": "stream",
     "text": [
      "RDKit ERROR: [17:12:21] Explicit valence for atom # 1 C, 5, is greater than permitted\n",
      "[17:12:21] Explicit valence for atom # 1 C, 5, is greater than permitted\n",
      "RDKit ERROR: [17:12:21] Explicit valence for atom # 1 C, 5, is greater than permitted\n",
      "[17:12:21] Explicit valence for atom # 1 C, 5, is greater than permitted\n"
     ]
    },
    {
     "name": "stdout",
     "output_type": "stream",
     "text": [
      "OCl and C(O)Cl already exist in ind_descriptors\n",
      "CC(N)C(=O)O and CCC(N)C(=O)O already exist in ind_descriptors\n",
      "CNCC(=O)O and CCNCC(=O)O already exist in ind_descriptors\n",
      "CCCCCC and CCCCCCC already exist in ind_descriptors\n",
      "C#CCN and CC#CCN already exist in ind_descriptors\n",
      "CC and CCC already exist in ind_descriptors\n",
      "C1CNCCN1 and CC1CNCCN1 already exist in ind_descriptors\n",
      "CC(O)C(C)O and CCC(O)C(C)O already exist in ind_descriptors\n",
      "CCC(=O)NO and CCCC(=O)NO already exist in ind_descriptors\n",
      "CCCl and CCCCl already exist in ind_descriptors\n",
      "C1CCNCC1 and CC1CCNCC1 already exist in ind_descriptors\n",
      "C1COCN1 and CC1COCN1 already exist in ind_descriptors\n",
      "OC1CCC1 and C(O)C1CCC1 already exist in ind_descriptors\n",
      "CC(=O)C(=O)O and CCC(=O)C(=O)O already exist in ind_descriptors\n",
      "NC(=O)NO and C(N)C(=O)NO already exist in ind_descriptors\n",
      "CC(=O)NO and CCC(=O)NO already exist in ind_descriptors\n",
      "CCO and CCCO already exist in ind_descriptors\n",
      "CON and CCON already exist in ind_descriptors\n",
      "NCCS and C(N)CCS already exist in ind_descriptors\n",
      "CC(O)C(=O)O and CCC(O)C(=O)O already exist in ind_descriptors\n",
      "CC(O)CO and CCC(O)CO already exist in ind_descriptors\n",
      "NCC(=O)O and C(N)CC(=O)O already exist in ind_descriptors\n"
     ]
    }
   ],
   "source": [
    "final_df = pd.DataFrame()\n",
    "missingh_df = pd.DataFrame()\n",
    "failed_df = pd.DataFrame()\n",
    "for idx, row in df.iterrows():\n",
    "    try:\n",
    "        tmp_df = calculate_raw_descriptors(row['h_smiles'],\n",
    "                                  row['ch3_smiles'],\n",
    "                                  ind_descriptors=\"csv/descriptors-ind.csv\")\n",
    "        if all(tmp_df[row['ch3_smiles']].notna()):\n",
    "            final_df = final_df.append(row)\n",
    "        else:\n",
    "            missingh_df = missingh_df.append(row)\n",
    "    except:\n",
    "        failed_df = failed_df.append(row)"
   ]
  },
  {
   "cell_type": "code",
   "execution_count": 7,
   "id": "591cadde",
   "metadata": {
    "scrolled": true
   },
   "outputs": [],
   "source": [
    "final_df.to_csv(\"csv/filtered.csv\")"
   ]
  },
  {
   "cell_type": "code",
   "execution_count": 8,
   "id": "ec7c2938",
   "metadata": {},
   "outputs": [],
   "source": [
    "result_path = \"screening_results/ChemBL_4to99_1top1bot.json\"\n",
    "with open(result_path) as r:\n",
    "    raw_result = json.load(r)"
   ]
  },
  {
   "cell_type": "code",
   "execution_count": 9,
   "id": "39a18d78",
   "metadata": {},
   "outputs": [],
   "source": [
    "time = raw_result.pop(\"elapsed-time\")\n",
    "result_df = pd.DataFrame.from_dict(raw_result).T\n",
    "raw_df = result_df"
   ]
  },
  {
   "cell_type": "code",
   "execution_count": 10,
   "id": "47661267",
   "metadata": {},
   "outputs": [
    {
     "name": "stdout",
     "output_type": "stream",
     "text": [
      "5121\n"
     ]
    }
   ],
   "source": [
    "lowCOF = 0 \n",
    "for val in result_df[\"COF\"]:\n",
    "    if val <= 0.129:\n",
    "        lowCOF += 1 \n",
    "print(lowCOF)"
   ]
  },
  {
   "cell_type": "code",
   "execution_count": 11,
   "id": "e93c4cc5",
   "metadata": {},
   "outputs": [
    {
     "name": "stdout",
     "output_type": "stream",
     "text": [
      "10598\n"
     ]
    }
   ],
   "source": [
    "lowF0 = 0 \n",
    "for val in result_df[\"F0\"]:\n",
    "    if val <= 0.8966:\n",
    "        lowF0 += 1 \n",
    "print(lowF0)"
   ]
  },
  {
   "cell_type": "markdown",
   "id": "a598fa51",
   "metadata": {},
   "source": [
    "# Filtering"
   ]
  },
  {
   "cell_type": "code",
   "execution_count": 12,
   "id": "1933e1d4",
   "metadata": {},
   "outputs": [],
   "source": [
    "for idx, row in result_df.iterrows():\n",
    "    og = [row['top_smiles'], row['bot_smiles']]\n",
    "    if og != sorted(og):\n",
    "        sorted_top = sorted(og)[0]\n",
    "        sorted_bot = sorted(og)[1]\n",
    "        result_df.loc[idx][\"top_smiles\"] = sorted_top\n",
    "        result_df.loc[idx][\"bot_smiles\"] = sorted_bot\n",
    "        \n"
   ]
  },
  {
   "cell_type": "code",
   "execution_count": 13,
   "id": "762dc823",
   "metadata": {},
   "outputs": [],
   "source": [
    "result_df[\"top_h_smiles\"] = \"\"\n",
    "result_df[\"top_ch3_smiles\"] = \"\"\n",
    "result_df[\"bot_h_smiles\"] = \"\"\n",
    "result_df[\"bot_ch3_smiles\"] = \"\"\n",
    "for idx, row in result_df.iterrows():\n",
    "    result_df.loc[idx][\"top_h_smiles\"] = row[\"top_smiles\"][0][0]\n",
    "    result_df.loc[idx][\"top_ch3_smiles\"] = row[\"top_smiles\"][0][1]\n",
    "    result_df.loc[idx][\"bot_h_smiles\"] = row[\"bot_smiles\"][0][0]\n",
    "    result_df.loc[idx][\"bot_ch3_smiles\"] = row[\"bot_smiles\"][0][1]"
   ]
  },
  {
   "cell_type": "code",
   "execution_count": 14,
   "id": "99fa52b5",
   "metadata": {},
   "outputs": [],
   "source": [
    "dropby = ['top_h_smiles', 'top_ch3_smiles', 'bot_h_smiles', 'bot_ch3_smiles', 'COF', 'F0']\n",
    "result_df.drop_duplicates(subset=dropby, inplace=True)\n",
    "filtered_results = result_df.loc[result_df[\"status\"] == \"pass\"]"
   ]
  },
  {
   "cell_type": "markdown",
   "id": "43545c5f",
   "metadata": {},
   "source": [
    "# Distribution Plots"
   ]
  },
  {
   "cell_type": "code",
   "execution_count": 16,
   "id": "d6b028ad",
   "metadata": {},
   "outputs": [
    {
     "data": {
      "image/png": "[encoded data removed]",
      "text/plain": [
       "<Figure size 576x432 with 1 Axes>"
      ]
     },
     "metadata": {
      "needs_background": "light"
     },
     "output_type": "display_data"
    }
   ],
   "source": [
    "plt.figure(figsize=(8, 6))\n",
    "plt.scatter(filtered_results['COF'], filtered_results['F0'], alpha=0.01)\n",
    "plt.show()"
   ]
  },
  {
   "cell_type": "code",
   "execution_count": 17,
   "id": "4e7eb409",
   "metadata": {
    "scrolled": false
   },
   "outputs": [
    {
     "data": {
      "image/png": "[encoded data removed]",
      "text/plain": [
       "<Figure size 576x432 with 1 Axes>"
      ]
     },
     "metadata": {
      "needs_background": "light"
     },
     "output_type": "display_data"
    }
   ],
   "source": [
    "plt.figure(figsize=(8, 6))\n",
    "plt.hist(filtered_results['COF'], bins=50)\n",
    "plt.xlabel('COF') \n",
    "plt.ylabel('N', style='italic')\n",
    "plt.xlim(0.085, 0.2)\n",
    "plt.savefig('./screening_results/plots/COF_dist.pdf', dpi=500)"
   ]
  },
  {
   "cell_type": "code",
   "execution_count": 18,
   "id": "630dac5e",
   "metadata": {
    "scrolled": false
   },
   "outputs": [
    {
     "data": {
      "image/png": "[encoded data removed]",
      "text/plain": [
       "<Figure size 576x432 with 1 Axes>"
      ]
     },
     "metadata": {
      "needs_background": "light"
     },
     "output_type": "display_data"
    }
   ],
   "source": [
    "plt.figure(figsize=(8, 6))\n",
    "plt.hist(filtered_results['F0'], bins=100)\n",
    "plt.xlabel(r'$\\mathbf{F_0}$, nN')\n",
    "plt.ylabel('N', style='italic')\n",
    "plt.xlim(0, 8)\n",
    "plt.savefig('./screening_results/plots/F0_dist.pdf', dpi=500)"
   ]
  },
  {
   "cell_type": "markdown",
   "id": "1d44baac",
   "metadata": {},
   "source": [
    "# Ranking and Determining Optimal Systems\n"
   ]
  },
  {
   "cell_type": "code",
   "execution_count": 19,
   "id": "6d130639",
   "metadata": {},
   "outputs": [],
   "source": [
    "COF_ranked = filtered_results.sort_values(by=\"COF\").drop([\"top_smiles\", \"top_fracs\", \"bot_smiles\", \"bot_fracs\"], axis=1)\n",
    "F0_ranked = filtered_results.sort_values(by=\"F0\").drop([\"top_smiles\", \"top_fracs\", \"bot_smiles\", \"bot_fracs\"], axis=1)"
   ]
  },
  {
   "cell_type": "code",
   "execution_count": 20,
   "id": "342adba5",
   "metadata": {},
   "outputs": [],
   "source": [
    "on = [\"top_h_smiles\", \"top_ch3_smiles\", \"bot_h_smiles\", \"bot_ch3_smiles\", \"COF\", \"F0\", \"status\"]\n",
    "n = 2000\n",
    "optimal = pd.merge(COF_ranked.head(n), F0_ranked.head(n), how=\"inner\", on=on)\n",
    "optimal = optimal[[\"top_h_smiles\", \"top_ch3_smiles\", \"bot_h_smiles\", \"bot_ch3_smiles\", \"COF\", \"F0\", \"status\"]]"
   ]
  },
  {
   "cell_type": "code",
   "execution_count": 21,
   "id": "9f4905de",
   "metadata": {},
   "outputs": [],
   "source": [
    "optimal.to_csv(\"screening_results/plots/optimal.csv\")"
   ]
  },
  {
   "cell_type": "code",
   "execution_count": 22,
   "id": "d9ebb423",
   "metadata": {},
   "outputs": [],
   "source": [
    "smiles_set_top = set(optimal['top_h_smiles'])\n",
    "smiles_set_bot = set(optimal['bot_h_smiles'])\n",
    "smiles_set = smiles_set_top | smiles_set_bot"
   ]
  },
  {
   "cell_type": "code",
   "execution_count": 23,
   "id": "d1af93c2",
   "metadata": {},
   "outputs": [],
   "source": [
    "smiles_dict = {'C': 'Methane', \n",
    "               'C#C': 'Acetylene',\n",
    "               'C#CC': 'Propyne', \n",
    "               'C#N': 'Cyanide', \n",
    "               'C#[N+][O-]': 'Fulminic Acid',\n",
    "               'C1CC1': 'Cyclopropane',\n",
    "               'C=C': 'Ethylene', \n",
    "               'C=C(Cl)Cl': '1,1-Dichloroethene', \n",
    "               'C=C(F)F': '1,1-Difluoroethane',\n",
    "               'C=CC': 'Propene',\n",
    "               'C=CC#N': 'Acrylonitrile',\n",
    "               'C=CCl': 'Vinylchloride',\n",
    "               'CBr': 'Bromoethane', \n",
    "               'CC': 'Ethane',\n",
    "               'CC#CC': 'But-2-yne', \n",
    "               'CC#N': 'Acetonitrile', \n",
    "               'CC(F)F': 'Difluoroethane', \n",
    "               'CCC': 'Propane', \n",
    "               'N#CCC#N': 'Malononitrile',\n",
    "               'N#CCCC#N': '1,2-Dicyanoethane',\n",
    "               'NC(=O)C(F)F': '2,2-Difluoroacetamide', \n",
    "               'O=CNNC=O': '1,2-Diformylhydrazine'}"
   ]
  },
  {
   "cell_type": "code",
   "execution_count": 24,
   "id": "457a6302",
   "metadata": {},
   "outputs": [],
   "source": [
    "optimal['top name'] = ''\n",
    "optimal['bot name'] = ''\n",
    "for idx, row in optimal.iterrows():\n",
    "    optimal['top name'][idx] = smiles_dict[row['top_h_smiles']]\n",
    "    optimal['bot name'][idx] = smiles_dict[row['bot_h_smiles']]"
   ]
  },
  {
   "cell_type": "code",
   "execution_count": 25,
   "id": "8b971fe7",
   "metadata": {},
   "outputs": [],
   "source": [
    "skimmed_optimal = optimal[['top name', 'bot name', 'COF', 'F0']]"
   ]
  },
  {
   "cell_type": "code",
   "execution_count": 26,
   "id": "901e6907",
   "metadata": {},
   "outputs": [
    {
     "name": "stderr",
     "output_type": "stream",
     "text": [
      "/var/folders/h3/60kb27b53ws81h5w0n4s9ppr0000gn/T/ipykernel_79097/1853598775.py:2: SettingWithCopyWarning: \n",
      "A value is trying to be set on a copy of a slice from a DataFrame\n",
      "\n",
      "See the caveats in the documentation: https://pandas.pydata.org/pandas-docs/stable/user_guide/indexing.html#returning-a-view-versus-a-copy\n",
      "  skimmed_optimal['COF'][idx] = round(row['COF'], 4)\n",
      "/var/folders/h3/60kb27b53ws81h5w0n4s9ppr0000gn/T/ipykernel_79097/1853598775.py:3: SettingWithCopyWarning: \n",
      "A value is trying to be set on a copy of a slice from a DataFrame\n",
      "\n",
      "See the caveats in the documentation: https://pandas.pydata.org/pandas-docs/stable/user_guide/indexing.html#returning-a-view-versus-a-copy\n",
      "  skimmed_optimal['F0'][idx] = round(row['F0'], 4)\n"
     ]
    }
   ],
   "source": [
    "for idx, row in skimmed_optimal.iterrows():\n",
    "    skimmed_optimal['COF'][idx] = round(row['COF'], 4)\n",
    "    skimmed_optimal['F0'][idx] = round(row['F0'], 4)"
   ]
  },
  {
   "cell_type": "code",
   "execution_count": 27,
   "id": "7363dc60",
   "metadata": {},
   "outputs": [],
   "source": [
    "skimmed_optimal.to_csv(\"screening_results/plots/skimmed_optimal.csv\")"
   ]
  },
  {
   "cell_type": "code",
   "execution_count": null,
   "id": "f8b0c2fe",
   "metadata": {},
   "outputs": [],
   "source": []
  }
 ],
 "metadata": {
  "kernelspec": {
   "display_name": "Python 3 (ipykernel)",
   "language": "python",
   "name": "python3"
  },
  "language_info": {
   "codemirror_mode": {
    "name": "ipython",
    "version": 3
   },
   "file_extension": ".py",
   "mimetype": "text/x-python",
   "name": "python",
   "nbconvert_exporter": "python",
   "pygments_lexer": "ipython3",
   "version": "3.9.6"
  }
 },
 "nbformat": 4,
 "nbformat_minor": 5
}
