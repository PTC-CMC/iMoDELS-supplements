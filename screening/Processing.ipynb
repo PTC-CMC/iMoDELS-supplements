{
 "cells": [
  {
   "cell_type": "code",
   "execution_count": 1,
   "id": "11c7abd9",
   "metadata": {},
   "outputs": [],
   "source": [
    "import pandas as pd \n",
    "import json \n",
    "import matplotlib\n",
    "from matplotlib import pyplot as plt \n"
   ]
  },
  {
   "cell_type": "code",
   "execution_count": 2,
   "id": "bd17590b",
   "metadata": {},
   "outputs": [],
   "source": [
    "from numpy import *\n",
    "from matplotlib.pyplot import *\n",
    "\n",
    "rcParams['mathtext.fontset'] = 'custom'\n",
    "rcParams['mathtext.it'] = 'DejaVu Sans:italic'\n",
    "rcParams['mathtext.bf'] = 'DejaVu Sans:italic:bold'\n"
   ]
  },
  {
   "cell_type": "code",
   "execution_count": 3,
   "id": "c22657da",
   "metadata": {
    "scrolled": true
   },
   "outputs": [],
   "source": [
    "from src.predict import calculate_raw_descriptors\n",
    "from src.screening import *"
   ]
  },
  {
   "cell_type": "code",
   "execution_count": null,
   "id": "04cd4652",
   "metadata": {},
   "outputs": [],
   "source": [
    "raw_path = \"csv/ChemBL_4to99.csv\"\n",
    "raw_df = pd.read_csv(raw_path, sep=\";\")\n",
    "raw_df.rename({\"Smiles\": \"h_smiles\"}, axis=1, inplace=True)"
   ]
  },
  {
   "cell_type": "code",
   "execution_count": null,
   "id": "1e29cfaa",
   "metadata": {},
   "outputs": [],
   "source": [
    "skimmed_df = filter_metal(raw_df)\n",
    "df = add_ch3_smiles(skimmed_df)\n",
    "df, failed = filter_empty_ch3_smiles(df)"
   ]
  },
  {
   "cell_type": "code",
   "execution_count": null,
   "id": "dd60e994",
   "metadata": {},
   "outputs": [],
   "source": [
    "final_df = pd.DataFrame()\n",
    "missingh_df = pd.DataFrame()\n",
    "failed_df = pd.DataFrame()\n",
    "for idx, row in df.iterrows():\n",
    "    try:\n",
    "        tmp_df = calculate_raw_descriptors(row['h_smiles'],\n",
    "                                  row['ch3_smiles'],\n",
    "                                  ind_descriptors=\"csv/descriptors-ind.csv\")\n",
    "        if all(tmp_df[row['ch3_smiles']].notna()):\n",
    "            final_df = final_df.append(row)\n",
    "        else:\n",
    "            missingh_df = missingh_df.append(row)\n",
    "    except:\n",
    "        failed_df = failed_df.append(row)"
   ]
  },
  {
   "cell_type": "code",
   "execution_count": null,
   "id": "591cadde",
   "metadata": {
    "scrolled": true
   },
   "outputs": [],
   "source": [
    "final_df.to_csv(\"csv/filtered.csv\")"
   ]
  },
  {
   "cell_type": "code",
   "execution_count": null,
   "id": "ec7c2938",
   "metadata": {},
   "outputs": [],
   "source": [
    "result_path = \"screening_results/ChemBL_4to99_1top1bot.json\"\n",
    "with open(result_path) as r:\n",
    "    raw_result = json.load(r)"
   ]
  },
  {
   "cell_type": "code",
   "execution_count": null,
   "id": "39a18d78",
   "metadata": {},
   "outputs": [],
   "source": [
    "time = raw_result.pop(\"elapsed-time\")\n",
    "result_df = pd.DataFrame.from_dict(raw_result).T\n",
    "raw_df = result_df"
   ]
  },
  {
   "cell_type": "code",
   "execution_count": null,
   "id": "47661267",
   "metadata": {},
   "outputs": [],
   "source": [
    "lowCOF = 0 \n",
    "for val in result_df[\"COF\"]:\n",
    "    if val <= 0.129:\n",
    "        lowCOF += 1 \n",
    "print(lowCOF)"
   ]
  },
  {
   "cell_type": "code",
   "execution_count": null,
   "id": "e93c4cc5",
   "metadata": {},
   "outputs": [],
   "source": [
    "lowF0 = 0 \n",
    "for val in result_df[\"F0\"]:\n",
    "    if val <= 0.8966:\n",
    "        lowF0 += 1 \n",
    "print(lowF0)"
   ]
  },
  {
   "cell_type": "markdown",
   "id": "a598fa51",
   "metadata": {},
   "source": [
    "# Filtering"
   ]
  },
  {
   "cell_type": "code",
   "execution_count": null,
   "id": "1933e1d4",
   "metadata": {},
   "outputs": [],
   "source": [
    "for idx, row in result_df.iterrows():\n",
    "    og = [row['top_smiles'], row['bot_smiles']]\n",
    "    if og != sorted(og):\n",
    "        sorted_top = sorted(og)[0]\n",
    "        sorted_bot = sorted(og)[1]\n",
    "        result_df.loc[idx][\"top_smiles\"] = sorted_top\n",
    "        result_df.loc[idx][\"bot_smiles\"] = sorted_bot\n",
    "        \n"
   ]
  },
  {
   "cell_type": "code",
   "execution_count": null,
   "id": "762dc823",
   "metadata": {},
   "outputs": [],
   "source": [
    "result_df[\"top_h_smiles\"] = \"\"\n",
    "result_df[\"top_ch3_smiles\"] = \"\"\n",
    "result_df[\"bot_h_smiles\"] = \"\"\n",
    "result_df[\"bot_ch3_smiles\"] = \"\"\n",
    "for idx, row in result_df.iterrows():\n",
    "    result_df.loc[idx][\"top_h_smiles\"] = row[\"top_smiles\"][0][0]\n",
    "    result_df.loc[idx][\"top_ch3_smiles\"] = row[\"top_smiles\"][0][1]\n",
    "    result_df.loc[idx][\"bot_h_smiles\"] = row[\"bot_smiles\"][0][0]\n",
    "    result_df.loc[idx][\"bot_ch3_smiles\"] = row[\"bot_smiles\"][0][1]"
   ]
  },
  {
   "cell_type": "code",
   "execution_count": null,
   "id": "99fa52b5",
   "metadata": {},
   "outputs": [],
   "source": [
    "dropby = ['top_h_smiles', 'top_ch3_smiles', 'bot_h_smiles', 'bot_ch3_smiles', 'COF', 'F0']\n",
    "result_df.drop_duplicates(subset=dropby, inplace=True)\n",
    "filtered_results = result_df.loc[result_df[\"status\"] == \"pass\"]"
   ]
  },
  {
   "cell_type": "markdown",
   "id": "43545c5f",
   "metadata": {},
   "source": [
    "# Distribution Plots"
   ]
  },
  {
   "cell_type": "code",
   "execution_count": null,
   "id": "d6b028ad",
   "metadata": {},
   "outputs": [],
   "source": [
    "plt.figure(figsize=(8, 6))\n",
    "plt.scatter(filtered_results['COF'], filtered['F0'], alpha=0.01)\n",
    "plt.show()"
   ]
  },
  {
   "cell_type": "code",
   "execution_count": null,
   "id": "4e7eb409",
   "metadata": {
    "scrolled": false
   },
   "outputs": [],
   "source": [
    "plt.figure(figsize=(8, 6))\n",
    "plt.hist(filtered_results['COF'], bins=50)\n",
    "plt.xlabel('COF') \n",
    "plt.ylabel('N', style='italic')\n",
    "plt.xlim(0.085, 0.2)\n",
    "plt.savefig('./screening_results/plots/COF_dist.pdf', dpi=500)"
   ]
  },
  {
   "cell_type": "code",
   "execution_count": null,
   "id": "630dac5e",
   "metadata": {
    "scrolled": false
   },
   "outputs": [],
   "source": [
    "plt.figure(figsize=(8, 6))\n",
    "plt.hist(filtered_results['F0'], bins=100)\n",
    "plt.xlabel(r'$\\mathbf{F_0}$, nN')\n",
    "plt.ylabel('N', style='italic')\n",
    "plt.xlim(0, 8)\n",
    "plt.savefig('./screening_results/plots/F0_dist.pdf', dpi=500)"
   ]
  },
  {
   "cell_type": "markdown",
   "id": "1d44baac",
   "metadata": {},
   "source": [
    "# Ranking and Determining Optimal Systems\n"
   ]
  },
  {
   "cell_type": "code",
   "execution_count": null,
   "id": "6d130639",
   "metadata": {},
   "outputs": [],
   "source": [
    "COF_ranked = filtered_results.sort_values(by=\"COF\").drop([\"top_smiles\", \"top_fracs\", \"bot_smiles\", \"bot_fracs\"], axis=1)\n",
    "F0_ranked = filtered_results.sort_values(by=\"F0\").drop([\"top_smiles\", \"top_fracs\", \"bot_smiles\", \"bot_fracs\"], axis=1)"
   ]
  },
  {
   "cell_type": "code",
   "execution_count": null,
   "id": "342adba5",
   "metadata": {},
   "outputs": [],
   "source": [
    "on = [\"top_h_smiles\", \"top_ch3_smiles\", \"bot_h_smiles\", \"bot_ch3_smiles\", \"COF\", \"F0\", \"status\"]\n",
    "n = 2000\n",
    "optimal = pd.merge(COF_ranked.head(n), F0_ranked.head(n), how=\"inner\", on=on)\n",
    "optimal = optimal[[\"top_h_smiles\", \"top_ch3_smiles\", \"bot_h_smiles\", \"bot_ch3_smiles\", \"COF\", \"F0\", \"status\"]]"
   ]
  },
  {
   "cell_type": "code",
   "execution_count": null,
   "id": "9f4905de",
   "metadata": {},
   "outputs": [],
   "source": [
    "optimal.to_csv(\"screening_results/plots/optimal.csv\")"
   ]
  },
  {
   "cell_type": "code",
   "execution_count": null,
   "id": "d9ebb423",
   "metadata": {},
   "outputs": [],
   "source": [
    "smiles_set_top = set(optimal['top_h_smiles'])\n",
    "smiles_set_bot = set(optimal['bot_h_smiles'])\n",
    "smiles_set = smiles_set_top | smiles_set_bot"
   ]
  },
  {
   "cell_type": "code",
   "execution_count": null,
   "id": "d1af93c2",
   "metadata": {},
   "outputs": [],
   "source": [
    "smiles_dict = {'C': 'Methane', \n",
    "               'C#C': 'Acetylene',\n",
    "               'C#CC': 'Propyne', \n",
    "               'C#N': 'Cyanide', \n",
    "               'C#[N+][O-]': 'Fulminic Acid',\n",
    "               'C1CC1': 'Cyclopropane',\n",
    "               'C=C': 'Ethylene', \n",
    "               'C=C(Cl)Cl': '1,1-Dichloroethene', \n",
    "               'C=C(F)F': '1,1-Difluoroethane',\n",
    "               'C=CC': 'Propene',\n",
    "               'C=CC#N': 'Acrylonitrile',\n",
    "               'C=CCl': 'Vinylchloride',\n",
    "               'CBr': 'Bromoethane', \n",
    "               'CC': 'Ethane',\n",
    "               'CC#CC': 'But-2-yne', \n",
    "               'CC#N': 'Acetonitrile', \n",
    "               'CC(F)F': 'Difluoroethane', \n",
    "               'CCC': 'Propane', \n",
    "               'N#CCC#N': 'Malononitrile',\n",
    "               'N#CCCC#N': '1,2-Dicyanoethane',\n",
    "               'NC(=O)C(F)F': '2,2-Difluoroacetamide', \n",
    "               'O=CNNC=O': '1,2-Diformylhydrazine'}"
   ]
  },
  {
   "cell_type": "code",
   "execution_count": null,
   "id": "457a6302",
   "metadata": {},
   "outputs": [],
   "source": [
    "optimal['top name'] = ''\n",
    "optimal['bot name'] = ''\n",
    "for idx, row in optimal.iterrows():\n",
    "    optimal['top name'][idx] = smiles_dict[row['top_h_smiles']]\n",
    "    optimal['bot name'][idx] = smiles_dict[row['bot_h_smiles']]"
   ]
  },
  {
   "cell_type": "code",
   "execution_count": null,
   "id": "8b971fe7",
   "metadata": {},
   "outputs": [],
   "source": [
    "skimmed_optimal = optimal[['top name', 'bot name', 'COF', 'F0']]"
   ]
  },
  {
   "cell_type": "code",
   "execution_count": null,
   "id": "901e6907",
   "metadata": {},
   "outputs": [],
   "source": [
    "for idx, row in skimmed_optimal.iterrows():\n",
    "    skimmed_optimal['COF'][idx] = round(row['COF'], 4)\n",
    "    skimmed_optimal['F0'][idx] = round(row['F0'], 4)"
   ]
  },
  {
   "cell_type": "code",
   "execution_count": null,
   "id": "7363dc60",
   "metadata": {},
   "outputs": [],
   "source": [
    "skimmed_optimal.to_csv(\"screening_results/plots/skimmed_optimal.csv\")"
   ]
  }
 ],
 "metadata": {
  "kernelspec": {
   "display_name": "Python 3 (ipykernel)",
   "language": "python",
   "name": "python3"
  },
  "language_info": {
   "codemirror_mode": {
    "name": "ipython",
    "version": 3
   },
   "file_extension": ".py",
   "mimetype": "text/x-python",
   "name": "python",
   "nbconvert_exporter": "python",
   "pygments_lexer": "ipython3",
   "version": "3.9.6"
  }
 },
 "nbformat": 4,
 "nbformat_minor": 5
}
