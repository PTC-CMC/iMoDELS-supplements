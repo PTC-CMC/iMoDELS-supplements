{
 "cells": [
  {
   "cell_type": "markdown",
   "metadata": {},
   "source": [
    "# Introduction\n",
    "\n",
    "This note book is part of the Supplemental Information of the __\"High-throughput Screening of Tribological Properties of Monoalyer Films using Molecular Dynamics and Machine Learning\"__. This jupyter notebook is designed to provide simple method for user to utilize the database and predictive models generated in the screening study. Specifically, in the sections below, we provide simple instruction and example to:\n",
    "- Look up tribological properties of systems simulated using MD simulations\n",
    "- Utilize the trained ML models to estimate tribological properties of an arbitrary systems"
   ]
  },
  {
   "cell_type": "markdown",
   "metadata": {},
   "source": [
    "## Database look up "
   ]
  },
  {
   "cell_type": "code",
   "execution_count": null,
   "metadata": {},
   "outputs": [],
   "source": [
    "import pickle\n",
    "import pandas as pd \n",
    "import rdkit\n"
   ]
  },
  {
   "cell_type": "code",
   "execution_count": null,
   "metadata": {},
   "outputs": [],
   "source": [
    "data_path = 'data/raw-data/everything.csv'\n",
    "data = pd.read_csv(data_path, index_col=0)\n",
    "data"
   ]
  },
  {
   "cell_type": "markdown",
   "metadata": {},
   "source": [
    "### Usage Examle"
   ]
  },
  {
   "cell_type": "code",
   "execution_count": null,
   "metadata": {},
   "outputs": [],
   "source": [
    "terminal_group_1 = 'cyano'\n",
    "terminal_group_2 = 'cyano'\n",
    "terminal_group_3 = 'cyano'"
   ]
  },
  {
   "cell_type": "code",
   "execution_count": null,
   "metadata": {
    "scrolled": false
   },
   "outputs": [],
   "source": [
    "found = data.loc[(data['terminal_group_1'] == terminal_group_1) & \n",
    "         (data['terminal_group_2'] == terminal_group_2) &\n",
    "         (data['terminal_group_3'] == terminal_group_3)]"
   ]
  },
  {
   "cell_type": "code",
   "execution_count": null,
   "metadata": {},
   "outputs": [],
   "source": [
    "found"
   ]
  },
  {
   "cell_type": "code",
   "execution_count": null,
   "metadata": {},
   "outputs": [],
   "source": [
    "print(found['COF'])\n",
    "print(found['intercept'])"
   ]
  },
  {
   "cell_type": "markdown",
   "metadata": {},
   "source": [
    "## Predictive Model"
   ]
  },
  {
   "cell_type": "code",
   "execution_count": null,
   "metadata": {},
   "outputs": [],
   "source": [
    "from random_forest.src.predictML import predict_properties "
   ]
  },
  {
   "cell_type": "code",
   "execution_count": null,
   "metadata": {},
   "outputs": [],
   "source": [
    "COF_paths = dict()\n",
    "F0_paths = dict()\n",
    "\n",
    "COF_paths['model'] = 'random_forest/models/everything/nbins-10/set_0/COF_all.pickle'\n",
    "COF_paths['features'] = 'random_forest/models/everything/nbins-10/set_0/COF_all.ptxt'\n",
    "F0_paths['model'] = 'random_forest/models/everything/nbins-10/set_0/intercept_all.pickle'\n",
    "F0_paths['features'] = 'random_forest/models/everything/nbins-10/set_0/intercept_all.ptxt'\n",
    "ind_desc = 'data/raw-data/descriptors-ind.csv'"
   ]
  },
  {
   "cell_type": "markdown",
   "metadata": {},
   "source": [
    "### Usage Example"
   ]
  },
  {
   "cell_type": "code",
   "execution_count": null,
   "metadata": {},
   "outputs": [],
   "source": [
    "top_smiles=[('C#N', 'CC#N'), ('C#N', 'CC#N')]\n",
    "top_frac=[0.5, 0.5]\n",
    "bot_smiles=[('C#N', 'CC#N')]\n",
    "bot_frac=[1]"
   ]
  },
  {
   "cell_type": "code",
   "execution_count": null,
   "metadata": {},
   "outputs": [],
   "source": [
    "predicted = predict_properties(top_smiles=top_smiles,\n",
    "                               top_frac=top_frac,\n",
    "                               bot_smiles=bot_smiles,\n",
    "                               bot_frac=bot_frac, \n",
    "                               COF_model=COF_paths['model'],\n",
    "                               COF_features=COF_paths['features'],\n",
    "                               F0_model=F0_paths['model'],\n",
    "                               F0_features=F0_paths['features'],\n",
    "                               ind_desc=ind_desc)"
   ]
  }
 ],
 "metadata": {
  "kernelspec": {
   "display_name": "Python 3 (ipykernel)",
   "language": "python",
   "name": "python3"
  },
  "language_info": {
   "codemirror_mode": {
    "name": "ipython",
    "version": 3
   },
   "file_extension": ".py",
   "mimetype": "text/x-python",
   "name": "python",
   "nbconvert_exporter": "python",
   "pygments_lexer": "ipython3",
   "version": "3.9.6"
  }
 },
 "nbformat": 4,
 "nbformat_minor": 4
}
