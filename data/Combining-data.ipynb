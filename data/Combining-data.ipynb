{
 "cells": [
  {
   "cell_type": "code",
   "execution_count": 1,
   "metadata": {},
   "outputs": [],
   "source": [
    "import pandas as pd \n",
    "\n",
    "pd.set_option('display.max_columns', 1000)  # or 1000\n",
    "pd.set_option('display.max_rows', 10000)  # or 1000\n",
    "pd.set_option('display.max_colwidth', None) "
   ]
  },
  {
   "cell_type": "code",
   "execution_count": 2,
   "metadata": {},
   "outputs": [],
   "source": [
    "original = pd.read_csv('./raw-data/original-100.csv', index_col=0)\n",
    "first_half = pd.read_csv('./raw-data/mixed-50-50.csv', index_col=0)\n",
    "second_half = pd.read_csv('./raw-data/mixed-25-75.csv', index_col=0)\n",
    "ind_desc = pd.read_csv('./raw-data/descriptors-ind.csv', index_col=0)"
   ]
  },
  {
   "cell_type": "code",
   "execution_count": 3,
   "metadata": {
    "scrolled": false
   },
   "outputs": [],
   "source": [
    "# Skim the first half df \n",
    "identifiers = ['terminal_group_1', 'terminal_group_2',\n",
    "               'terminal_group_3', 'backbone', 'frac-1', 'frac-2']\n",
    "for index, row in first_half.iterrows():\n",
    "    bottom_film = [row['terminal_group_1'], row['terminal_group_2']]\n",
    "    sorted_bottom_film = sorted(bottom_film)\n",
    "\n",
    "    first_half.loc[index, 'terminal_group_1'] = sorted_bottom_film[0]\n",
    "    first_half.loc[index, 'terminal_group_2'] = sorted_bottom_film[1]"
   ]
  },
  {
   "cell_type": "code",
   "execution_count": 4,
   "metadata": {
    "scrolled": true
   },
   "outputs": [],
   "source": [
    "skimmed_first_half = first_half.groupby(identifiers, as_index=False).mean()"
   ]
  },
  {
   "cell_type": "code",
   "execution_count": 5,
   "metadata": {},
   "outputs": [],
   "source": [
    "skimmed_first_half.to_csv('./raw-data/skimmed-mixed-50-50.csv')"
   ]
  },
  {
   "cell_type": "code",
   "execution_count": 6,
   "metadata": {
    "scrolled": true
   },
   "outputs": [],
   "source": [
    "complete = pd.DataFrame()\n",
    "#complete = complete.append([original, skimmed_first_half, second_half], ignore_index=True)\n",
    "\n",
    "complete = complete.append([skimmed_first_half, second_half], ignore_index=True)"
   ]
  },
  {
   "cell_type": "code",
   "execution_count": 7,
   "metadata": {},
   "outputs": [],
   "source": [
    "complete.to_csv('./raw-data/everything.csv')"
   ]
  },
  {
   "cell_type": "code",
   "execution_count": 10,
   "metadata": {},
   "outputs": [],
   "source": [
    "# skimmed_first_half.loc[(skimmed_first_half['terminal_group_1'] == 'acetyl') & \n",
    "#                (skimmed_first_half['terminal_group_2'] == 'acetyl') &\n",
    "#                (skimmed_first_half['terminal_group_3'] == 'acetyl')]"
   ]
  },
  {
   "cell_type": "code",
   "execution_count": 9,
   "metadata": {
    "scrolled": false
   },
   "outputs": [],
   "source": [
    "# terminal_groups_A = ['acetyl', 'amino', 'carboxyl', 'cyano', 'cyclopropyl',\n",
    "#                      'ethylene', 'fluorophenyl', 'hydroxyl', 'isopropyl',\n",
    "#                      'methoxy', 'methyl', 'nitro', 'nitrophenyl',\n",
    "#                      'perfluoromethyl', 'phenyl', 'pyrrole', 'toluene',\n",
    "#                      'phenol', 'difluoromethyl']\n",
    "# for A in terminal_groups_A:\n",
    "#     display(original.loc[(original['terminal_group_1'] == A) & \n",
    "#                (original['terminal_group_2'] == A) &\n",
    "#                (original['terminal_group_3'] == A)])"
   ]
  }
 ],
 "metadata": {
  "kernelspec": {
   "display_name": "Python 3",
   "language": "python",
   "name": "python3"
  },
  "language_info": {
   "codemirror_mode": {
    "name": "ipython",
    "version": 3
   },
   "file_extension": ".py",
   "mimetype": "text/x-python",
   "name": "python",
   "nbconvert_exporter": "python",
   "pygments_lexer": "ipython3",
   "version": "3.7.8"
  }
 },
 "nbformat": 4,
 "nbformat_minor": 4
}
