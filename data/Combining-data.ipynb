{
 "cells": [
  {
   "cell_type": "code",
   "execution_count": 1,
   "metadata": {},
   "outputs": [],
   "source": [
    "import pandas as pd \n",
    "\n",
    "# pd.set_option('display.max_columns', 1000)  # or 1000\n",
    "# pd.set_option('display.max_rows', 10000)  # or 1000\n",
    "# pd.set_option('display.max_colwidth', None) "
   ]
  },
  {
   "cell_type": "code",
   "execution_count": 2,
   "metadata": {},
   "outputs": [],
   "source": [
    "original = pd.read_csv('./raw-data/unprocessed/original-100.csv', index_col=0)\n",
    "first_half = pd.read_csv('./raw-data/unprocessed/mixed-50-50.csv', index_col=0)\n",
    "second_half = pd.read_csv('./raw-data/unprocessed/mixed-25-75.csv', index_col=0)\n",
    "ind_desc = pd.read_csv('./raw-data/descriptors-ind.csv', index_col=0)"
   ]
  },
  {
   "cell_type": "code",
   "execution_count": 3,
   "metadata": {
    "scrolled": true
   },
   "outputs": [],
   "source": [
    "complete = pd.DataFrame()\n",
    "#complete = complete.append([original, skimmed_first_half, second_half], ignore_index=True)\n",
    "\n",
    "complete = complete.append([first_half, second_half], ignore_index=True)"
   ]
  },
  {
   "cell_type": "code",
   "execution_count": 5,
   "metadata": {
    "scrolled": false
   },
   "outputs": [],
   "source": [
    "# Remove entry wiht negative F0\n",
    "neg_f0 = list()\n",
    "for idx, row in complete.iterrows():\n",
    "    if row['intercept'] < 0:\n",
    "        neg_f0.append(idx)\n",
    "filtered_complete = complete.drop(neg_f0)"
   ]
  },
  {
   "cell_type": "code",
   "execution_count": 15,
   "metadata": {},
   "outputs": [],
   "source": [
    "filtered_complete.to_csv('./raw-data/filtered_everything.csv')\n",
    "complete.to_csv('./raw-data/everything.csv')"
   ]
  },
  {
   "cell_type": "code",
   "execution_count": 14,
   "metadata": {},
   "outputs": [],
   "source": [
    "skimmed_first_half = complete[complete['frac-1']==0.5]\n",
    "skimmed_first_half.to_csv('./raw-data/mixed-50-50.csv')"
   ]
  },
  {
   "cell_type": "code",
   "execution_count": 16,
   "metadata": {},
   "outputs": [
    {
     "name": "stderr",
     "output_type": "stream",
     "text": [
      "/Users/quachcd/opt/anaconda3/envs/general/lib/python3.7/site-packages/ipykernel_launcher.py:1: UserWarning: Boolean Series key will be reindexed to match DataFrame index.\n",
      "  \"\"\"Entry point for launching an IPython kernel.\n"
     ]
    }
   ],
   "source": [
    "skimmed_filtered_first_half = filtered_complete[complete['frac-1']==0.5]\n",
    "skimmed_filtered_first_half.to_csv('./raw-data/filtered_mixed-50-50.csv')"
   ]
  },
  {
   "cell_type": "code",
   "execution_count": null,
   "metadata": {},
   "outputs": [],
   "source": []
  }
 ],
 "metadata": {
  "kernelspec": {
   "display_name": "Python 3",
   "language": "python",
   "name": "python3"
  },
  "language_info": {
   "codemirror_mode": {
    "name": "ipython",
    "version": 3
   },
   "file_extension": ".py",
   "mimetype": "text/x-python",
   "name": "python",
   "nbconvert_exporter": "python",
   "pygments_lexer": "ipython3",
   "version": "3.7.10"
  }
 },
 "nbformat": 4,
 "nbformat_minor": 4
}
